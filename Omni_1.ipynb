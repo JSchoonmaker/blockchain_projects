{
  "nbformat": 4,
  "nbformat_minor": 0,
  "metadata": {
    "colab": {
      "name": "Omni_1.ipynb",
      "provenance": [],
      "collapsed_sections": [],
      "authorship_tag": "ABX9TyNY/U0bPrg1wMfB6c3Dbe/k",
      "include_colab_link": true
    },
    "kernelspec": {
      "name": "python3",
      "display_name": "Python 3"
    },
    "language_info": {
      "name": "python"
    }
  },
  "cells": [
    {
      "cell_type": "markdown",
      "metadata": {
        "id": "view-in-github",
        "colab_type": "text"
      },
      "source": [
        "<a href=\"https://colab.research.google.com/github/JSchoonmaker/blockchain_projects/blob/main/Omni_1.ipynb\" target=\"_parent\"><img src=\"https://colab.research.google.com/assets/colab-badge.svg\" alt=\"Open In Colab\"/></a>"
      ]
    },
    {
      "cell_type": "markdown",
      "metadata": {
        "id": "zs_DP9uy-spP"
      },
      "source": [
        "#Python version of Omni Analytics' Data Science on the Ethereum Blockchain Module 1: Motivating Example.\n",
        "\n",
        "\n",
        "## All datasets, code ideas, concepts, and text used are based on Omni Analytics' great work that can be found here: https://github.com/Omni-Analytics-Group/eth-data-science-course\n",
        "\n",
        "### Translation from R into Python by Jeanna Schoonmaker, Oct 2021\n"
      ]
    },
    {
      "cell_type": "markdown",
      "metadata": {
        "id": "J4rrPKg5NheO"
      },
      "source": [
        "# Let's get started\n",
        "\n",
        "Since this notebook uses Python instead of R, we need to start with importing pandas, a Python library for data analysis. It is common practice to import pandas with the alias \"pd\""
      ]
    },
    {
      "cell_type": "code",
      "metadata": {
        "id": "NYDCg74BiKW4"
      },
      "source": [
        "import pandas as pd"
      ],
      "execution_count": 2,
      "outputs": []
    },
    {
      "cell_type": "markdown",
      "metadata": {
        "id": "kT2Yc1oljx0L"
      },
      "source": [
        "# Load the Data\n",
        "\n",
        "First, we set the url where the dataset can be found as the \"punks_url\" variable. <br>\n",
        "Next, we use pandas' read_csv method to load the dataset."
      ]
    },
    {
      "cell_type": "code",
      "metadata": {
        "id": "0z8mjIUJibW9"
      },
      "source": [
        "punks_url = 'https://raw.githubusercontent.com/Omni-Analytics-Group/eth-data-science-course/master/courses/Module%201/punks.csv'"
      ],
      "execution_count": 3,
      "outputs": []
    },
    {
      "cell_type": "code",
      "metadata": {
        "id": "KN8R87_rikDC"
      },
      "source": [
        "df_punks = pd.read_csv(punks_url, encoding='unicode_escape')"
      ],
      "execution_count": 4,
      "outputs": []
    },
    {
      "cell_type": "markdown",
      "metadata": {
        "id": "ieZ70oVZlOPJ"
      },
      "source": [
        "# First look at the data in Python\n",
        "Use Python to look at the first few rows of data in the Punks data set. The head() function will allow you to look at the first 5 rows of the dataset. The tail() function will allow you to look at the last 5 rows of the dataset."
      ]
    },
    {
      "cell_type": "code",
      "metadata": {
        "colab": {
          "base_uri": "https://localhost:8080/",
          "height": 203
        },
        "id": "BYpk4g95kVGV",
        "outputId": "ebdbe526-6fb2-43ea-9c5a-c7c0a7d55b0b"
      },
      "source": [
        "df_punks.head()"
      ],
      "execution_count": 5,
      "outputs": [
        {
          "output_type": "execute_result",
          "data": {
            "text/html": [
              "<div>\n",
              "<style scoped>\n",
              "    .dataframe tbody tr th:only-of-type {\n",
              "        vertical-align: middle;\n",
              "    }\n",
              "\n",
              "    .dataframe tbody tr th {\n",
              "        vertical-align: top;\n",
              "    }\n",
              "\n",
              "    .dataframe thead th {\n",
              "        text-align: right;\n",
              "    }\n",
              "</style>\n",
              "<table border=\"1\" class=\"dataframe\">\n",
              "  <thead>\n",
              "    <tr style=\"text-align: right;\">\n",
              "      <th></th>\n",
              "      <th>Transaction</th>\n",
              "      <th>From</th>\n",
              "      <th>To</th>\n",
              "      <th>Crypto</th>\n",
              "      <th>USD</th>\n",
              "      <th>Txn</th>\n",
              "      <th>ID</th>\n",
              "      <th>Sex</th>\n",
              "      <th>Type</th>\n",
              "      <th>Skin</th>\n",
              "      <th>Slots</th>\n",
              "      <th>Rank</th>\n",
              "    </tr>\n",
              "  </thead>\n",
              "  <tbody>\n",
              "    <tr>\n",
              "      <th>0</th>\n",
              "      <td>Sold</td>\n",
              "      <td>0xf5099e</td>\n",
              "      <td>14715954</td>\n",
              "      <td>25.00</td>\n",
              "      <td>2822.0</td>\n",
              "      <td>2018-11-30</td>\n",
              "      <td>0</td>\n",
              "      <td>Girl</td>\n",
              "      <td>Female</td>\n",
              "      <td>Mid</td>\n",
              "      <td>3</td>\n",
              "      <td>3682560000%</td>\n",
              "    </tr>\n",
              "    <tr>\n",
              "      <th>1</th>\n",
              "      <td>Sold</td>\n",
              "      <td>0x00d7c9</td>\n",
              "      <td>10528156</td>\n",
              "      <td>1.60</td>\n",
              "      <td>386.0</td>\n",
              "      <td>2017-07-07</td>\n",
              "      <td>0</td>\n",
              "      <td>Girl</td>\n",
              "      <td>Female</td>\n",
              "      <td>Mid</td>\n",
              "      <td>3</td>\n",
              "      <td>3682560000%</td>\n",
              "    </tr>\n",
              "    <tr>\n",
              "      <th>2</th>\n",
              "      <td>Sold</td>\n",
              "      <td>0xc352b5</td>\n",
              "      <td>55241</td>\n",
              "      <td>0.98</td>\n",
              "      <td>320.0</td>\n",
              "      <td>2017-06-23</td>\n",
              "      <td>0</td>\n",
              "      <td>Girl</td>\n",
              "      <td>Female</td>\n",
              "      <td>Mid</td>\n",
              "      <td>3</td>\n",
              "      <td>3682560000%</td>\n",
              "    </tr>\n",
              "    <tr>\n",
              "      <th>3</th>\n",
              "      <td>Claimed</td>\n",
              "      <td>NaN</td>\n",
              "      <td>12800693</td>\n",
              "      <td>NaN</td>\n",
              "      <td>NaN</td>\n",
              "      <td>2017-06-23</td>\n",
              "      <td>0</td>\n",
              "      <td>Girl</td>\n",
              "      <td>Female</td>\n",
              "      <td>Mid</td>\n",
              "      <td>3</td>\n",
              "      <td>3682560000%</td>\n",
              "    </tr>\n",
              "    <tr>\n",
              "      <th>4</th>\n",
              "      <td>Sold</td>\n",
              "      <td>EliteCat</td>\n",
              "      <td>0xcf6165</td>\n",
              "      <td>60.00</td>\n",
              "      <td>36305.0</td>\n",
              "      <td>2020-11-30</td>\n",
              "      <td>1</td>\n",
              "      <td>Guy</td>\n",
              "      <td>Male</td>\n",
              "      <td>Dark</td>\n",
              "      <td>2</td>\n",
              "      <td>2050240500%</td>\n",
              "    </tr>\n",
              "  </tbody>\n",
              "</table>\n",
              "</div>"
            ],
            "text/plain": [
              "  Transaction       From        To  Crypto  ...    Type  Skin  Slots         Rank\n",
              "0        Sold   0xf5099e  14715954   25.00  ...  Female   Mid      3  3682560000%\n",
              "1        Sold   0x00d7c9  10528156    1.60  ...  Female   Mid      3  3682560000%\n",
              "2        Sold   0xc352b5     55241    0.98  ...  Female   Mid      3  3682560000%\n",
              "3     Claimed        NaN  12800693     NaN  ...  Female   Mid      3  3682560000%\n",
              "4        Sold  EliteCat\n",
              "  0xcf6165   60.00  ...    Male  Dark      2  2050240500%\n",
              "\n",
              "[5 rows x 12 columns]"
            ]
          },
          "metadata": {},
          "execution_count": 5
        }
      ]
    },
    {
      "cell_type": "code",
      "metadata": {
        "colab": {
          "base_uri": "https://localhost:8080/",
          "height": 203
        },
        "id": "M-yZqo6clhOu",
        "outputId": "1a208eb4-93bf-4e2e-f30f-ab168ee7f514"
      },
      "source": [
        "df_punks.tail()"
      ],
      "execution_count": 6,
      "outputs": [
        {
          "output_type": "execute_result",
          "data": {
            "text/html": [
              "<div>\n",
              "<style scoped>\n",
              "    .dataframe tbody tr th:only-of-type {\n",
              "        vertical-align: middle;\n",
              "    }\n",
              "\n",
              "    .dataframe tbody tr th {\n",
              "        vertical-align: top;\n",
              "    }\n",
              "\n",
              "    .dataframe thead th {\n",
              "        text-align: right;\n",
              "    }\n",
              "</style>\n",
              "<table border=\"1\" class=\"dataframe\">\n",
              "  <thead>\n",
              "    <tr style=\"text-align: right;\">\n",
              "      <th></th>\n",
              "      <th>Transaction</th>\n",
              "      <th>From</th>\n",
              "      <th>To</th>\n",
              "      <th>Crypto</th>\n",
              "      <th>USD</th>\n",
              "      <th>Txn</th>\n",
              "      <th>ID</th>\n",
              "      <th>Sex</th>\n",
              "      <th>Type</th>\n",
              "      <th>Skin</th>\n",
              "      <th>Slots</th>\n",
              "      <th>Rank</th>\n",
              "    </tr>\n",
              "  </thead>\n",
              "  <tbody>\n",
              "    <tr>\n",
              "      <th>17549</th>\n",
              "      <td>Sold</td>\n",
              "      <td>TJ2010</td>\n",
              "      <td>gaus</td>\n",
              "      <td>59.0</td>\n",
              "      <td>21062.0</td>\n",
              "      <td>2020-09-27</td>\n",
              "      <td>9997</td>\n",
              "      <td>Guy</td>\n",
              "      <td>Zombie</td>\n",
              "      <td>Zombie</td>\n",
              "      <td>2</td>\n",
              "      <td>0.023188000%</td>\n",
              "    </tr>\n",
              "    <tr>\n",
              "      <th>17550</th>\n",
              "      <td>Claimed</td>\n",
              "      <td>NaN</td>\n",
              "      <td>TJ2010</td>\n",
              "      <td>NaN</td>\n",
              "      <td>NaN</td>\n",
              "      <td>2017-06-23</td>\n",
              "      <td>9997</td>\n",
              "      <td>Guy</td>\n",
              "      <td>Zombie</td>\n",
              "      <td>Zombie</td>\n",
              "      <td>2</td>\n",
              "      <td>0.023188000%</td>\n",
              "    </tr>\n",
              "    <tr>\n",
              "      <th>17551</th>\n",
              "      <td>Sold</td>\n",
              "      <td>7595170</td>\n",
              "      <td>TokenAng</td>\n",
              "      <td>15.0</td>\n",
              "      <td>9499.0</td>\n",
              "      <td>2020-12-27</td>\n",
              "      <td>9998</td>\n",
              "      <td>Girl</td>\n",
              "      <td>Female</td>\n",
              "      <td>Mid</td>\n",
              "      <td>3</td>\n",
              "      <td>1452800000%</td>\n",
              "    </tr>\n",
              "    <tr>\n",
              "      <th>17552</th>\n",
              "      <td>Claimed</td>\n",
              "      <td>NaN</td>\n",
              "      <td>0x73e4a2</td>\n",
              "      <td>NaN</td>\n",
              "      <td>NaN</td>\n",
              "      <td>2017-06-23</td>\n",
              "      <td>9998</td>\n",
              "      <td>Girl</td>\n",
              "      <td>Female</td>\n",
              "      <td>Mid</td>\n",
              "      <td>3</td>\n",
              "      <td>1452800000%</td>\n",
              "    </tr>\n",
              "    <tr>\n",
              "      <th>17553</th>\n",
              "      <td>Claimed</td>\n",
              "      <td>NaN</td>\n",
              "      <td>8269084</td>\n",
              "      <td>NaN</td>\n",
              "      <td>NaN</td>\n",
              "      <td>2017-06-23</td>\n",
              "      <td>9999</td>\n",
              "      <td>Girl</td>\n",
              "      <td>Female</td>\n",
              "      <td>Dark</td>\n",
              "      <td>2</td>\n",
              "      <td>1752960000%</td>\n",
              "    </tr>\n",
              "  </tbody>\n",
              "</table>\n",
              "</div>"
            ],
            "text/plain": [
              "      Transaction     From         To  ...    Skin  Slots          Rank\n",
              "17549        Sold   TJ2010       gaus  ...  Zombie      2  0.023188000%\n",
              "17550     Claimed      NaN     TJ2010  ...  Zombie      2  0.023188000%\n",
              "17551        Sold  7595170  TokenAng\n",
              "  ...     Mid      3   1452800000%\n",
              "17552     Claimed      NaN   0x73e4a2  ...     Mid      3   1452800000%\n",
              "17553     Claimed      NaN    8269084  ...    Dark      2   1752960000%\n",
              "\n",
              "[5 rows x 12 columns]"
            ]
          },
          "metadata": {},
          "execution_count": 6
        }
      ]
    },
    {
      "cell_type": "markdown",
      "metadata": {
        "id": "OdNaZ3bQlvct"
      },
      "source": [
        "# Crypto Punks Data Attributes\n",
        "\n",
        "The command .info() gives us information about the dataframe including number of rows and name, number, and data type for each column."
      ]
    },
    {
      "cell_type": "code",
      "metadata": {
        "colab": {
          "base_uri": "https://localhost:8080/"
        },
        "id": "jthVzwKIllqU",
        "outputId": "6adf1de9-a75b-4f9b-c066-0d8ced9b1299"
      },
      "source": [
        "df_punks.info()"
      ],
      "execution_count": 7,
      "outputs": [
        {
          "output_type": "stream",
          "name": "stdout",
          "text": [
            "<class 'pandas.core.frame.DataFrame'>\n",
            "RangeIndex: 17554 entries, 0 to 17553\n",
            "Data columns (total 12 columns):\n",
            " #   Column       Non-Null Count  Dtype  \n",
            "---  ------       --------------  -----  \n",
            " 0   Transaction  17554 non-null  object \n",
            " 1   From         7554 non-null   object \n",
            " 2   To           17554 non-null  object \n",
            " 3   Crypto       7554 non-null   float64\n",
            " 4   USD          7554 non-null   float64\n",
            " 5   Txn          17554 non-null  object \n",
            " 6   ID           17554 non-null  int64  \n",
            " 7   Sex          17554 non-null  object \n",
            " 8   Type         17554 non-null  object \n",
            " 9   Skin         17554 non-null  object \n",
            " 10  Slots        17554 non-null  int64  \n",
            " 11  Rank         17554 non-null  object \n",
            "dtypes: float64(2), int64(2), object(8)\n",
            "memory usage: 1.6+ MB\n"
          ]
        }
      ]
    },
    {
      "cell_type": "markdown",
      "metadata": {
        "id": "QP5v3NX-mysW"
      },
      "source": [
        "# Crypto Punks Statistical Summary\n",
        "\n",
        "Let's summarize the value for each variable in Punks by using .describe(). <br><br>\n",
        "Note that stats such as mean, min, and max are shown only for columns containing numeric data. <br><br>\n",
        "Columns containing string, or text data are summarized with a count, count of unique items, the most common value (top) and the frequency at which the top value occurs.   "
      ]
    },
    {
      "cell_type": "code",
      "metadata": {
        "colab": {
          "base_uri": "https://localhost:8080/",
          "height": 388
        },
        "id": "-4atIOtal1s6",
        "outputId": "d0fb43be-86ca-49f9-d042-a169b6cfe5be"
      },
      "source": [
        "df_punks.describe(include='all')"
      ],
      "execution_count": 8,
      "outputs": [
        {
          "output_type": "execute_result",
          "data": {
            "text/html": [
              "<div>\n",
              "<style scoped>\n",
              "    .dataframe tbody tr th:only-of-type {\n",
              "        vertical-align: middle;\n",
              "    }\n",
              "\n",
              "    .dataframe tbody tr th {\n",
              "        vertical-align: top;\n",
              "    }\n",
              "\n",
              "    .dataframe thead th {\n",
              "        text-align: right;\n",
              "    }\n",
              "</style>\n",
              "<table border=\"1\" class=\"dataframe\">\n",
              "  <thead>\n",
              "    <tr style=\"text-align: right;\">\n",
              "      <th></th>\n",
              "      <th>Transaction</th>\n",
              "      <th>From</th>\n",
              "      <th>To</th>\n",
              "      <th>Crypto</th>\n",
              "      <th>USD</th>\n",
              "      <th>Txn</th>\n",
              "      <th>ID</th>\n",
              "      <th>Sex</th>\n",
              "      <th>Type</th>\n",
              "      <th>Skin</th>\n",
              "      <th>Slots</th>\n",
              "      <th>Rank</th>\n",
              "    </tr>\n",
              "  </thead>\n",
              "  <tbody>\n",
              "    <tr>\n",
              "      <th>count</th>\n",
              "      <td>17554</td>\n",
              "      <td>7554</td>\n",
              "      <td>17554</td>\n",
              "      <td>7554.000000</td>\n",
              "      <td>7554.000000</td>\n",
              "      <td>17554</td>\n",
              "      <td>17554.000000</td>\n",
              "      <td>17554</td>\n",
              "      <td>17554</td>\n",
              "      <td>17554</td>\n",
              "      <td>17554.000000</td>\n",
              "      <td>17554</td>\n",
              "    </tr>\n",
              "    <tr>\n",
              "      <th>unique</th>\n",
              "      <td>2</td>\n",
              "      <td>682</td>\n",
              "      <td>1524</td>\n",
              "      <td>NaN</td>\n",
              "      <td>NaN</td>\n",
              "      <td>898</td>\n",
              "      <td>NaN</td>\n",
              "      <td>2</td>\n",
              "      <td>5</td>\n",
              "      <td>7</td>\n",
              "      <td>NaN</td>\n",
              "      <td>4007</td>\n",
              "    </tr>\n",
              "    <tr>\n",
              "      <th>top</th>\n",
              "      <td>Claimed</td>\n",
              "      <td>Hemba</td>\n",
              "      <td>12800693</td>\n",
              "      <td>NaN</td>\n",
              "      <td>NaN</td>\n",
              "      <td>2017-06-23</td>\n",
              "      <td>NaN</td>\n",
              "      <td>Guy</td>\n",
              "      <td>Male</td>\n",
              "      <td>Mid</td>\n",
              "      <td>NaN</td>\n",
              "      <td>2213293500%</td>\n",
              "    </tr>\n",
              "    <tr>\n",
              "      <th>freq</th>\n",
              "      <td>10000</td>\n",
              "      <td>1058</td>\n",
              "      <td>990</td>\n",
              "      <td>NaN</td>\n",
              "      <td>NaN</td>\n",
              "      <td>10019</td>\n",
              "      <td>NaN</td>\n",
              "      <td>11379</td>\n",
              "      <td>11152</td>\n",
              "      <td>5307</td>\n",
              "      <td>NaN</td>\n",
              "      <td>45</td>\n",
              "    </tr>\n",
              "    <tr>\n",
              "      <th>mean</th>\n",
              "      <td>NaN</td>\n",
              "      <td>NaN</td>\n",
              "      <td>NaN</td>\n",
              "      <td>2.389854</td>\n",
              "      <td>867.305033</td>\n",
              "      <td>NaN</td>\n",
              "      <td>5193.788481</td>\n",
              "      <td>NaN</td>\n",
              "      <td>NaN</td>\n",
              "      <td>NaN</td>\n",
              "      <td>2.778227</td>\n",
              "      <td>NaN</td>\n",
              "    </tr>\n",
              "    <tr>\n",
              "      <th>std</th>\n",
              "      <td>NaN</td>\n",
              "      <td>NaN</td>\n",
              "      <td>NaN</td>\n",
              "      <td>6.118331</td>\n",
              "      <td>2833.265913</td>\n",
              "      <td>NaN</td>\n",
              "      <td>2757.690393</td>\n",
              "      <td>NaN</td>\n",
              "      <td>NaN</td>\n",
              "      <td>NaN</td>\n",
              "      <td>0.799278</td>\n",
              "      <td>NaN</td>\n",
              "    </tr>\n",
              "    <tr>\n",
              "      <th>min</th>\n",
              "      <td>NaN</td>\n",
              "      <td>NaN</td>\n",
              "      <td>NaN</td>\n",
              "      <td>0.010000</td>\n",
              "      <td>0.010000</td>\n",
              "      <td>NaN</td>\n",
              "      <td>0.000000</td>\n",
              "      <td>NaN</td>\n",
              "      <td>NaN</td>\n",
              "      <td>NaN</td>\n",
              "      <td>0.000000</td>\n",
              "      <td>NaN</td>\n",
              "    </tr>\n",
              "    <tr>\n",
              "      <th>25%</th>\n",
              "      <td>NaN</td>\n",
              "      <td>NaN</td>\n",
              "      <td>NaN</td>\n",
              "      <td>0.300000</td>\n",
              "      <td>72.000000</td>\n",
              "      <td>NaN</td>\n",
              "      <td>2906.000000</td>\n",
              "      <td>NaN</td>\n",
              "      <td>NaN</td>\n",
              "      <td>NaN</td>\n",
              "      <td>2.000000</td>\n",
              "      <td>NaN</td>\n",
              "    </tr>\n",
              "    <tr>\n",
              "      <th>50%</th>\n",
              "      <td>NaN</td>\n",
              "      <td>NaN</td>\n",
              "      <td>NaN</td>\n",
              "      <td>1.000000</td>\n",
              "      <td>232.500000</td>\n",
              "      <td>NaN</td>\n",
              "      <td>5189.000000</td>\n",
              "      <td>NaN</td>\n",
              "      <td>NaN</td>\n",
              "      <td>NaN</td>\n",
              "      <td>3.000000</td>\n",
              "      <td>NaN</td>\n",
              "    </tr>\n",
              "    <tr>\n",
              "      <th>75%</th>\n",
              "      <td>NaN</td>\n",
              "      <td>NaN</td>\n",
              "      <td>NaN</td>\n",
              "      <td>2.900000</td>\n",
              "      <td>1003.250000</td>\n",
              "      <td>NaN</td>\n",
              "      <td>7557.000000</td>\n",
              "      <td>NaN</td>\n",
              "      <td>NaN</td>\n",
              "      <td>NaN</td>\n",
              "      <td>3.000000</td>\n",
              "      <td>NaN</td>\n",
              "    </tr>\n",
              "    <tr>\n",
              "      <th>max</th>\n",
              "      <td>NaN</td>\n",
              "      <td>NaN</td>\n",
              "      <td>NaN</td>\n",
              "      <td>189.990000</td>\n",
              "      <td>137522.000000</td>\n",
              "      <td>NaN</td>\n",
              "      <td>9999.000000</td>\n",
              "      <td>NaN</td>\n",
              "      <td>NaN</td>\n",
              "      <td>NaN</td>\n",
              "      <td>7.000000</td>\n",
              "      <td>NaN</td>\n",
              "    </tr>\n",
              "  </tbody>\n",
              "</table>\n",
              "</div>"
            ],
            "text/plain": [
              "       Transaction   From        To  ...   Skin         Slots         Rank\n",
              "count        17554   7554     17554  ...  17554  17554.000000        17554\n",
              "unique           2    682      1524  ...      7           NaN         4007\n",
              "top        Claimed  Hemba  12800693  ...    Mid           NaN  2213293500%\n",
              "freq         10000   1058       990  ...   5307           NaN           45\n",
              "mean           NaN    NaN       NaN  ...    NaN      2.778227          NaN\n",
              "std            NaN    NaN       NaN  ...    NaN      0.799278          NaN\n",
              "min            NaN    NaN       NaN  ...    NaN      0.000000          NaN\n",
              "25%            NaN    NaN       NaN  ...    NaN      2.000000          NaN\n",
              "50%            NaN    NaN       NaN  ...    NaN      3.000000          NaN\n",
              "75%            NaN    NaN       NaN  ...    NaN      3.000000          NaN\n",
              "max            NaN    NaN       NaN  ...    NaN      7.000000          NaN\n",
              "\n",
              "[11 rows x 12 columns]"
            ]
          },
          "metadata": {},
          "execution_count": 8
        }
      ]
    },
    {
      "cell_type": "markdown",
      "metadata": {
        "id": "mifctIqwpLMl"
      },
      "source": [
        "# Scatterplots\n",
        "\n",
        "Let's look at the relationship between Crypto and USD.\n",
        "\n",
        "matplotlib and seaborn are both open source libraries for creating visualizations in python."
      ]
    },
    {
      "cell_type": "code",
      "metadata": {
        "id": "dKW5GV2lnJz-"
      },
      "source": [
        "import matplotlib.pyplot as plt\n",
        "import seaborn as sns"
      ],
      "execution_count": 9,
      "outputs": []
    },
    {
      "cell_type": "code",
      "metadata": {
        "colab": {
          "base_uri": "https://localhost:8080/",
          "height": 312
        },
        "id": "Zq7rh6lupRxI",
        "outputId": "283a1bd3-4e7c-4a75-cf2d-07885bb24ef1"
      },
      "source": [
        "sns.scatterplot(x=df_punks.Crypto, y=df_punks.USD).set(title='USD vs. Crypto (ETH)')"
      ],
      "execution_count": 10,
      "outputs": [
        {
          "output_type": "execute_result",
          "data": {
            "text/plain": [
              "[Text(0.5, 1.0, 'USD vs. Crypto (ETH)')]"
            ]
          },
          "metadata": {},
          "execution_count": 10
        },
        {
          "output_type": "display_data",
          "data": {
            "image/png": "[encoded data removed]",
            "text/plain": [
              "<Figure size 432x288 with 1 Axes>"
            ]
          },
          "metadata": {
            "needs_background": "light"
          }
        }
      ]
    },
    {
      "cell_type": "markdown",
      "metadata": {
        "id": "na4axB3IqPeG"
      },
      "source": [
        "# Another Scatterplot"
      ]
    },
    {
      "cell_type": "code",
      "metadata": {
        "colab": {
          "base_uri": "https://localhost:8080/",
          "height": 312
        },
        "id": "fgCgMT25poVZ",
        "outputId": "dacb8c82-d4b7-4dc5-8dde-1ce6a58f8172"
      },
      "source": [
        "sns.scatterplot(x=df_punks.Crypto, y=df_punks.USD, hue = df_punks.Type).set(title='USD vs. Crypto (ETH)')"
      ],
      "execution_count": 11,
      "outputs": [
        {
          "output_type": "execute_result",
          "data": {
            "text/plain": [
              "[Text(0.5, 1.0, 'USD vs. Crypto (ETH)')]"
            ]
          },
          "metadata": {},
          "execution_count": 11
        },
        {
          "output_type": "display_data",
          "data": {
            "image/png": "[encoded data removed]",
            "text/plain": [
              "<Figure size 432x288 with 1 Axes>"
            ]
          },
          "metadata": {
            "needs_background": "light"
          }
        }
      ]
    },
    {
      "cell_type": "markdown",
      "metadata": {
        "id": "ZbgF_dVLq_hQ"
      },
      "source": [
        "# Creating a New Variable\n",
        "\n",
        "We will make a new variable in the Punks data set to account for the ratio between Crypto and USD that is `Ratio of Currency = USD / Crypto`."
      ]
    },
    {
      "cell_type": "code",
      "metadata": {
        "id": "_gzbv72sqUop"
      },
      "source": [
        "df_punks['Ratio of Currency'] = df_punks['USD']/df_punks['Crypto']"
      ],
      "execution_count": 12,
      "outputs": []
    },
    {
      "cell_type": "markdown",
      "metadata": {
        "id": "fR2nyft_rgkM"
      },
      "source": [
        "# Summary of 'Ratio of Currency' Variable\n",
        "\n",
        "One way we can interpret this is 1 ETH is worth $328.00 (the mean at the time of writing)."
      ]
    },
    {
      "cell_type": "code",
      "metadata": {
        "colab": {
          "base_uri": "https://localhost:8080/"
        },
        "id": "IM8G6qYrrUKT",
        "outputId": "8e5b3dc6-82ea-4568-ed23-1627d32f9e7f"
      },
      "source": [
        "df_punks['Ratio of Currency'].describe()"
      ],
      "execution_count": 13,
      "outputs": [
        {
          "output_type": "execute_result",
          "data": {
            "text/plain": [
              "count    7554.000000\n",
              "mean      327.962994\n",
              "std       188.430207\n",
              "min         1.000000\n",
              "25%       202.857143\n",
              "50%       326.887464\n",
              "75%       367.200000\n",
              "max      1409.090909\n",
              "Name: Ratio of Currency, dtype: float64"
            ]
          },
          "metadata": {},
          "execution_count": 13
        }
      ]
    },
    {
      "cell_type": "markdown",
      "metadata": {
        "id": "Pvqxp4PprlE7"
      },
      "source": [
        "# Column Names\n",
        "\n",
        "We can look at all of the column names found in the dataset with this method."
      ]
    },
    {
      "cell_type": "code",
      "metadata": {
        "colab": {
          "base_uri": "https://localhost:8080/"
        },
        "id": "LI0Sq5RIrWCc",
        "outputId": "7bd1ee1e-8522-46ba-b4ca-ac76164ccc18"
      },
      "source": [
        "df_punks.columns"
      ],
      "execution_count": 14,
      "outputs": [
        {
          "output_type": "execute_result",
          "data": {
            "text/plain": [
              "Index(['Transaction', 'From', 'To', 'Crypto', 'USD', 'Txn', 'ID', 'Sex',\n",
              "       'Type', 'Skin', 'Slots', 'Rank', 'Ratio of Currency'],\n",
              "      dtype='object')"
            ]
          },
          "metadata": {},
          "execution_count": 14
        }
      ]
    },
    {
      "cell_type": "markdown",
      "metadata": {
        "id": "-Oeh4McRruw8"
      },
      "source": [
        "# Crypto Histogram\n",
        "\n",
        "We now plot a histogram of Crypto to see its distribution."
      ]
    },
    {
      "cell_type": "code",
      "metadata": {
        "colab": {
          "base_uri": "https://localhost:8080/",
          "height": 312
        },
        "id": "MVEeJwqSrn5U",
        "outputId": "f9d73418-a132-4569-c394-f59e0fca64c2"
      },
      "source": [
        "sns.histplot(x=df_punks.Crypto, binwidth=2.5).set(title='Histogram of Crypto') # binwidth is the length of each rectangular bar"
      ],
      "execution_count": 15,
      "outputs": [
        {
          "output_type": "execute_result",
          "data": {
            "text/plain": [
              "[Text(0.5, 1.0, 'Histogram of Crypto')]"
            ]
          },
          "metadata": {},
          "execution_count": 15
        },
        {
          "output_type": "display_data",
          "data": {
            "image/png": "[encoded data removed]",
            "text/plain": [
              "<Figure size 432x288 with 1 Axes>"
            ]
          },
          "metadata": {
            "needs_background": "light"
          }
        }
      ]
    },
    {
      "cell_type": "markdown",
      "metadata": {
        "id": "uQdoeQFSswt4"
      },
      "source": [
        "# Finding the most expensive punk that was last sold in the sample data\n",
        "\n",
        "We can look at the most expensive punk that was last sold by using the .loc (location) command and the .idxmax (index for the max value) command."
      ]
    },
    {
      "cell_type": "code",
      "metadata": {
        "colab": {
          "base_uri": "https://localhost:8080/"
        },
        "id": "0oqxAJYDsR69",
        "outputId": "504609f1-d29b-452f-d736-9f64013fb2f8"
      },
      "source": [
        "df_punks.loc[df_punks.Crypto.idxmax()]"
      ],
      "execution_count": 16,
      "outputs": [
        {
          "output_type": "execute_result",
          "data": {
            "text/plain": [
              "Transaction                 Sold\n",
              "From                         jmg\n",
              "To                      0x7224a1\n",
              "Crypto                    189.99\n",
              "USD                       137522\n",
              "Txn                   2020-12-30\n",
              "ID                          3306\n",
              "Sex                          Guy\n",
              "Type                        Male\n",
              "Skin                         Mid\n",
              "Slots                          3\n",
              "Rank                 6437574000%\n",
              "Ratio of Currency        723.838\n",
              "Name: 5234, dtype: object"
            ]
          },
          "metadata": {},
          "execution_count": 16
        }
      ]
    },
    {
      "cell_type": "markdown",
      "metadata": {
        "id": "Xu1bp-RDw9os"
      },
      "source": [
        "# Average Slots By Sex\n",
        "### As a breakdown: <br>\n",
        "df_punks.loc - locates the values in the dataframe meeting the criteria inside the brackets <br>\n",
        "df_punks.Sex == 'XX' - subsets the dataset with the rows that meet the critera<br>\n",
        "'Slots' - selects the Slots column from the dataset<br>\n",
        ".mean() - provides the mean"
      ]
    },
    {
      "cell_type": "code",
      "metadata": {
        "colab": {
          "base_uri": "https://localhost:8080/"
        },
        "id": "EJ926DjZs6P0",
        "outputId": "c35f9169-217c-4f65-973f-2040118504c1"
      },
      "source": [
        "df_punks.loc[df_punks.Sex == 'Girl', 'Slots'].mean()"
      ],
      "execution_count": 17,
      "outputs": [
        {
          "output_type": "execute_result",
          "data": {
            "text/plain": [
              "2.763076923076923"
            ]
          },
          "metadata": {},
          "execution_count": 17
        }
      ]
    },
    {
      "cell_type": "code",
      "metadata": {
        "colab": {
          "base_uri": "https://localhost:8080/"
        },
        "id": "thDX7iOFwmxy",
        "outputId": "b0ebcdcc-ab01-45aa-f61a-1be860e25390"
      },
      "source": [
        "df_punks.loc[df_punks.Sex == 'Guy', 'Slots'].mean()"
      ],
      "execution_count": 18,
      "outputs": [
        {
          "output_type": "execute_result",
          "data": {
            "text/plain": [
              "2.7864487213287634"
            ]
          },
          "metadata": {},
          "execution_count": 18
        }
      ]
    },
    {
      "cell_type": "markdown",
      "metadata": {
        "id": "zWOMKTGpya3L"
      },
      "source": [
        "# Combine Types\n",
        "\n",
        "We can label Alien, Ape and Zombie as non_human, and similarly we can label Female and Male as human.\n",
        "\n",
        "This code works by creating new columns \"Non_human\" and \"Human\" by selecting the rows that contain \"Alien\", \"Ape\", \"Zombie\" and \"Female\", \"Male\" in the Type column.\n",
        "\n",
        "Note the | operator is interpreted as 'or', so the non_human column assignment looks at the Type column in the Punks data and assigns a 'True' value if the Punk Type is Alien OR Ape OR Zombie. Similarly, the Punk is assigned a 'True' value in the Human column if the Type is Female OR Male. "
      ]
    },
    {
      "cell_type": "code",
      "metadata": {
        "id": "xsghbEMFw8lU"
      },
      "source": [
        "df_punks['Non_human'] = (df_punks['Type'] == 'Alien') | (df_punks['Type'] == 'Ape') | (df_punks['Type'] == 'Zombie')"
      ],
      "execution_count": 19,
      "outputs": []
    },
    {
      "cell_type": "code",
      "metadata": {
        "colab": {
          "base_uri": "https://localhost:8080/",
          "height": 417
        },
        "id": "MEvomxcAM38w",
        "outputId": "fe5eba68-7638-4181-da83-0871dd2be9c9"
      },
      "source": [
        "df_punks"
      ],
      "execution_count": 20,
      "outputs": [
        {
          "output_type": "execute_result",
          "data": {
            "text/html": [
              "<div>\n",
              "<style scoped>\n",
              "    .dataframe tbody tr th:only-of-type {\n",
              "        vertical-align: middle;\n",
              "    }\n",
              "\n",
              "    .dataframe tbody tr th {\n",
              "        vertical-align: top;\n",
              "    }\n",
              "\n",
              "    .dataframe thead th {\n",
              "        text-align: right;\n",
              "    }\n",
              "</style>\n",
              "<table border=\"1\" class=\"dataframe\">\n",
              "  <thead>\n",
              "    <tr style=\"text-align: right;\">\n",
              "      <th></th>\n",
              "      <th>Transaction</th>\n",
              "      <th>From</th>\n",
              "      <th>To</th>\n",
              "      <th>Crypto</th>\n",
              "      <th>USD</th>\n",
              "      <th>Txn</th>\n",
              "      <th>ID</th>\n",
              "      <th>Sex</th>\n",
              "      <th>Type</th>\n",
              "      <th>Skin</th>\n",
              "      <th>Slots</th>\n",
              "      <th>Rank</th>\n",
              "      <th>Ratio of Currency</th>\n",
              "      <th>Non_human</th>\n",
              "    </tr>\n",
              "  </thead>\n",
              "  <tbody>\n",
              "    <tr>\n",
              "      <th>0</th>\n",
              "      <td>Sold</td>\n",
              "      <td>0xf5099e</td>\n",
              "      <td>14715954</td>\n",
              "      <td>25.00</td>\n",
              "      <td>2822.0</td>\n",
              "      <td>2018-11-30</td>\n",
              "      <td>0</td>\n",
              "      <td>Girl</td>\n",
              "      <td>Female</td>\n",
              "      <td>Mid</td>\n",
              "      <td>3</td>\n",
              "      <td>3682560000%</td>\n",
              "      <td>112.880000</td>\n",
              "      <td>False</td>\n",
              "    </tr>\n",
              "    <tr>\n",
              "      <th>1</th>\n",
              "      <td>Sold</td>\n",
              "      <td>0x00d7c9</td>\n",
              "      <td>10528156</td>\n",
              "      <td>1.60</td>\n",
              "      <td>386.0</td>\n",
              "      <td>2017-07-07</td>\n",
              "      <td>0</td>\n",
              "      <td>Girl</td>\n",
              "      <td>Female</td>\n",
              "      <td>Mid</td>\n",
              "      <td>3</td>\n",
              "      <td>3682560000%</td>\n",
              "      <td>241.250000</td>\n",
              "      <td>False</td>\n",
              "    </tr>\n",
              "    <tr>\n",
              "      <th>2</th>\n",
              "      <td>Sold</td>\n",
              "      <td>0xc352b5</td>\n",
              "      <td>55241</td>\n",
              "      <td>0.98</td>\n",
              "      <td>320.0</td>\n",
              "      <td>2017-06-23</td>\n",
              "      <td>0</td>\n",
              "      <td>Girl</td>\n",
              "      <td>Female</td>\n",
              "      <td>Mid</td>\n",
              "      <td>3</td>\n",
              "      <td>3682560000%</td>\n",
              "      <td>326.530612</td>\n",
              "      <td>False</td>\n",
              "    </tr>\n",
              "    <tr>\n",
              "      <th>3</th>\n",
              "      <td>Claimed</td>\n",
              "      <td>NaN</td>\n",
              "      <td>12800693</td>\n",
              "      <td>NaN</td>\n",
              "      <td>NaN</td>\n",
              "      <td>2017-06-23</td>\n",
              "      <td>0</td>\n",
              "      <td>Girl</td>\n",
              "      <td>Female</td>\n",
              "      <td>Mid</td>\n",
              "      <td>3</td>\n",
              "      <td>3682560000%</td>\n",
              "      <td>NaN</td>\n",
              "      <td>False</td>\n",
              "    </tr>\n",
              "    <tr>\n",
              "      <th>4</th>\n",
              "      <td>Sold</td>\n",
              "      <td>EliteCat</td>\n",
              "      <td>0xcf6165</td>\n",
              "      <td>60.00</td>\n",
              "      <td>36305.0</td>\n",
              "      <td>2020-11-30</td>\n",
              "      <td>1</td>\n",
              "      <td>Guy</td>\n",
              "      <td>Male</td>\n",
              "      <td>Dark</td>\n",
              "      <td>2</td>\n",
              "      <td>2050240500%</td>\n",
              "      <td>605.083333</td>\n",
              "      <td>False</td>\n",
              "    </tr>\n",
              "    <tr>\n",
              "      <th>...</th>\n",
              "      <td>...</td>\n",
              "      <td>...</td>\n",
              "      <td>...</td>\n",
              "      <td>...</td>\n",
              "      <td>...</td>\n",
              "      <td>...</td>\n",
              "      <td>...</td>\n",
              "      <td>...</td>\n",
              "      <td>...</td>\n",
              "      <td>...</td>\n",
              "      <td>...</td>\n",
              "      <td>...</td>\n",
              "      <td>...</td>\n",
              "      <td>...</td>\n",
              "    </tr>\n",
              "    <tr>\n",
              "      <th>17549</th>\n",
              "      <td>Sold</td>\n",
              "      <td>TJ2010</td>\n",
              "      <td>gaus</td>\n",
              "      <td>59.00</td>\n",
              "      <td>21062.0</td>\n",
              "      <td>2020-09-27</td>\n",
              "      <td>9997</td>\n",
              "      <td>Guy</td>\n",
              "      <td>Zombie</td>\n",
              "      <td>Zombie</td>\n",
              "      <td>2</td>\n",
              "      <td>0.023188000%</td>\n",
              "      <td>356.983051</td>\n",
              "      <td>True</td>\n",
              "    </tr>\n",
              "    <tr>\n",
              "      <th>17550</th>\n",
              "      <td>Claimed</td>\n",
              "      <td>NaN</td>\n",
              "      <td>TJ2010</td>\n",
              "      <td>NaN</td>\n",
              "      <td>NaN</td>\n",
              "      <td>2017-06-23</td>\n",
              "      <td>9997</td>\n",
              "      <td>Guy</td>\n",
              "      <td>Zombie</td>\n",
              "      <td>Zombie</td>\n",
              "      <td>2</td>\n",
              "      <td>0.023188000%</td>\n",
              "      <td>NaN</td>\n",
              "      <td>True</td>\n",
              "    </tr>\n",
              "    <tr>\n",
              "      <th>17551</th>\n",
              "      <td>Sold</td>\n",
              "      <td>7595170</td>\n",
              "      <td>TokenAng</td>\n",
              "      <td>15.00</td>\n",
              "      <td>9499.0</td>\n",
              "      <td>2020-12-27</td>\n",
              "      <td>9998</td>\n",
              "      <td>Girl</td>\n",
              "      <td>Female</td>\n",
              "      <td>Mid</td>\n",
              "      <td>3</td>\n",
              "      <td>1452800000%</td>\n",
              "      <td>633.266667</td>\n",
              "      <td>False</td>\n",
              "    </tr>\n",
              "    <tr>\n",
              "      <th>17552</th>\n",
              "      <td>Claimed</td>\n",
              "      <td>NaN</td>\n",
              "      <td>0x73e4a2</td>\n",
              "      <td>NaN</td>\n",
              "      <td>NaN</td>\n",
              "      <td>2017-06-23</td>\n",
              "      <td>9998</td>\n",
              "      <td>Girl</td>\n",
              "      <td>Female</td>\n",
              "      <td>Mid</td>\n",
              "      <td>3</td>\n",
              "      <td>1452800000%</td>\n",
              "      <td>NaN</td>\n",
              "      <td>False</td>\n",
              "    </tr>\n",
              "    <tr>\n",
              "      <th>17553</th>\n",
              "      <td>Claimed</td>\n",
              "      <td>NaN</td>\n",
              "      <td>8269084</td>\n",
              "      <td>NaN</td>\n",
              "      <td>NaN</td>\n",
              "      <td>2017-06-23</td>\n",
              "      <td>9999</td>\n",
              "      <td>Girl</td>\n",
              "      <td>Female</td>\n",
              "      <td>Dark</td>\n",
              "      <td>2</td>\n",
              "      <td>1752960000%</td>\n",
              "      <td>NaN</td>\n",
              "      <td>False</td>\n",
              "    </tr>\n",
              "  </tbody>\n",
              "</table>\n",
              "<p>17554 rows × 14 columns</p>\n",
              "</div>"
            ],
            "text/plain": [
              "      Transaction       From  ... Ratio of Currency  Non_human\n",
              "0            Sold   0xf5099e  ...        112.880000      False\n",
              "1            Sold   0x00d7c9  ...        241.250000      False\n",
              "2            Sold   0xc352b5  ...        326.530612      False\n",
              "3         Claimed        NaN  ...               NaN      False\n",
              "4            Sold  EliteCat\n",
              "  ...        605.083333      False\n",
              "...           ...        ...  ...               ...        ...\n",
              "17549        Sold     TJ2010  ...        356.983051       True\n",
              "17550     Claimed        NaN  ...               NaN       True\n",
              "17551        Sold    7595170  ...        633.266667      False\n",
              "17552     Claimed        NaN  ...               NaN      False\n",
              "17553     Claimed        NaN  ...               NaN      False\n",
              "\n",
              "[17554 rows x 14 columns]"
            ]
          },
          "metadata": {},
          "execution_count": 20
        }
      ]
    },
    {
      "cell_type": "code",
      "metadata": {
        "id": "EzQeSGI9LvNd"
      },
      "source": [
        "df_punks['Human'] = (df_punks['Type'] == 'Female')| (df_punks['Type'] == 'Male')"
      ],
      "execution_count": 21,
      "outputs": []
    },
    {
      "cell_type": "code",
      "metadata": {
        "colab": {
          "base_uri": "https://localhost:8080/",
          "height": 417
        },
        "id": "cHMYYx7XzQf3",
        "outputId": "6397276d-5853-4c6c-b30f-f67a529b0673"
      },
      "source": [
        "df_punks"
      ],
      "execution_count": 22,
      "outputs": [
        {
          "output_type": "execute_result",
          "data": {
            "text/html": [
              "<div>\n",
              "<style scoped>\n",
              "    .dataframe tbody tr th:only-of-type {\n",
              "        vertical-align: middle;\n",
              "    }\n",
              "\n",
              "    .dataframe tbody tr th {\n",
              "        vertical-align: top;\n",
              "    }\n",
              "\n",
              "    .dataframe thead th {\n",
              "        text-align: right;\n",
              "    }\n",
              "</style>\n",
              "<table border=\"1\" class=\"dataframe\">\n",
              "  <thead>\n",
              "    <tr style=\"text-align: right;\">\n",
              "      <th></th>\n",
              "      <th>Transaction</th>\n",
              "      <th>From</th>\n",
              "      <th>To</th>\n",
              "      <th>Crypto</th>\n",
              "      <th>USD</th>\n",
              "      <th>Txn</th>\n",
              "      <th>ID</th>\n",
              "      <th>Sex</th>\n",
              "      <th>Type</th>\n",
              "      <th>Skin</th>\n",
              "      <th>Slots</th>\n",
              "      <th>Rank</th>\n",
              "      <th>Ratio of Currency</th>\n",
              "      <th>Non_human</th>\n",
              "      <th>Human</th>\n",
              "    </tr>\n",
              "  </thead>\n",
              "  <tbody>\n",
              "    <tr>\n",
              "      <th>0</th>\n",
              "      <td>Sold</td>\n",
              "      <td>0xf5099e</td>\n",
              "      <td>14715954</td>\n",
              "      <td>25.00</td>\n",
              "      <td>2822.0</td>\n",
              "      <td>2018-11-30</td>\n",
              "      <td>0</td>\n",
              "      <td>Girl</td>\n",
              "      <td>Female</td>\n",
              "      <td>Mid</td>\n",
              "      <td>3</td>\n",
              "      <td>3682560000%</td>\n",
              "      <td>112.880000</td>\n",
              "      <td>False</td>\n",
              "      <td>True</td>\n",
              "    </tr>\n",
              "    <tr>\n",
              "      <th>1</th>\n",
              "      <td>Sold</td>\n",
              "      <td>0x00d7c9</td>\n",
              "      <td>10528156</td>\n",
              "      <td>1.60</td>\n",
              "      <td>386.0</td>\n",
              "      <td>2017-07-07</td>\n",
              "      <td>0</td>\n",
              "      <td>Girl</td>\n",
              "      <td>Female</td>\n",
              "      <td>Mid</td>\n",
              "      <td>3</td>\n",
              "      <td>3682560000%</td>\n",
              "      <td>241.250000</td>\n",
              "      <td>False</td>\n",
              "      <td>True</td>\n",
              "    </tr>\n",
              "    <tr>\n",
              "      <th>2</th>\n",
              "      <td>Sold</td>\n",
              "      <td>0xc352b5</td>\n",
              "      <td>55241</td>\n",
              "      <td>0.98</td>\n",
              "      <td>320.0</td>\n",
              "      <td>2017-06-23</td>\n",
              "      <td>0</td>\n",
              "      <td>Girl</td>\n",
              "      <td>Female</td>\n",
              "      <td>Mid</td>\n",
              "      <td>3</td>\n",
              "      <td>3682560000%</td>\n",
              "      <td>326.530612</td>\n",
              "      <td>False</td>\n",
              "      <td>True</td>\n",
              "    </tr>\n",
              "    <tr>\n",
              "      <th>3</th>\n",
              "      <td>Claimed</td>\n",
              "      <td>NaN</td>\n",
              "      <td>12800693</td>\n",
              "      <td>NaN</td>\n",
              "      <td>NaN</td>\n",
              "      <td>2017-06-23</td>\n",
              "      <td>0</td>\n",
              "      <td>Girl</td>\n",
              "      <td>Female</td>\n",
              "      <td>Mid</td>\n",
              "      <td>3</td>\n",
              "      <td>3682560000%</td>\n",
              "      <td>NaN</td>\n",
              "      <td>False</td>\n",
              "      <td>True</td>\n",
              "    </tr>\n",
              "    <tr>\n",
              "      <th>4</th>\n",
              "      <td>Sold</td>\n",
              "      <td>EliteCat</td>\n",
              "      <td>0xcf6165</td>\n",
              "      <td>60.00</td>\n",
              "      <td>36305.0</td>\n",
              "      <td>2020-11-30</td>\n",
              "      <td>1</td>\n",
              "      <td>Guy</td>\n",
              "      <td>Male</td>\n",
              "      <td>Dark</td>\n",
              "      <td>2</td>\n",
              "      <td>2050240500%</td>\n",
              "      <td>605.083333</td>\n",
              "      <td>False</td>\n",
              "      <td>True</td>\n",
              "    </tr>\n",
              "    <tr>\n",
              "      <th>...</th>\n",
              "      <td>...</td>\n",
              "      <td>...</td>\n",
              "      <td>...</td>\n",
              "      <td>...</td>\n",
              "      <td>...</td>\n",
              "      <td>...</td>\n",
              "      <td>...</td>\n",
              "      <td>...</td>\n",
              "      <td>...</td>\n",
              "      <td>...</td>\n",
              "      <td>...</td>\n",
              "      <td>...</td>\n",
              "      <td>...</td>\n",
              "      <td>...</td>\n",
              "      <td>...</td>\n",
              "    </tr>\n",
              "    <tr>\n",
              "      <th>17549</th>\n",
              "      <td>Sold</td>\n",
              "      <td>TJ2010</td>\n",
              "      <td>gaus</td>\n",
              "      <td>59.00</td>\n",
              "      <td>21062.0</td>\n",
              "      <td>2020-09-27</td>\n",
              "      <td>9997</td>\n",
              "      <td>Guy</td>\n",
              "      <td>Zombie</td>\n",
              "      <td>Zombie</td>\n",
              "      <td>2</td>\n",
              "      <td>0.023188000%</td>\n",
              "      <td>356.983051</td>\n",
              "      <td>True</td>\n",
              "      <td>False</td>\n",
              "    </tr>\n",
              "    <tr>\n",
              "      <th>17550</th>\n",
              "      <td>Claimed</td>\n",
              "      <td>NaN</td>\n",
              "      <td>TJ2010</td>\n",
              "      <td>NaN</td>\n",
              "      <td>NaN</td>\n",
              "      <td>2017-06-23</td>\n",
              "      <td>9997</td>\n",
              "      <td>Guy</td>\n",
              "      <td>Zombie</td>\n",
              "      <td>Zombie</td>\n",
              "      <td>2</td>\n",
              "      <td>0.023188000%</td>\n",
              "      <td>NaN</td>\n",
              "      <td>True</td>\n",
              "      <td>False</td>\n",
              "    </tr>\n",
              "    <tr>\n",
              "      <th>17551</th>\n",
              "      <td>Sold</td>\n",
              "      <td>7595170</td>\n",
              "      <td>TokenAng</td>\n",
              "      <td>15.00</td>\n",
              "      <td>9499.0</td>\n",
              "      <td>2020-12-27</td>\n",
              "      <td>9998</td>\n",
              "      <td>Girl</td>\n",
              "      <td>Female</td>\n",
              "      <td>Mid</td>\n",
              "      <td>3</td>\n",
              "      <td>1452800000%</td>\n",
              "      <td>633.266667</td>\n",
              "      <td>False</td>\n",
              "      <td>True</td>\n",
              "    </tr>\n",
              "    <tr>\n",
              "      <th>17552</th>\n",
              "      <td>Claimed</td>\n",
              "      <td>NaN</td>\n",
              "      <td>0x73e4a2</td>\n",
              "      <td>NaN</td>\n",
              "      <td>NaN</td>\n",
              "      <td>2017-06-23</td>\n",
              "      <td>9998</td>\n",
              "      <td>Girl</td>\n",
              "      <td>Female</td>\n",
              "      <td>Mid</td>\n",
              "      <td>3</td>\n",
              "      <td>1452800000%</td>\n",
              "      <td>NaN</td>\n",
              "      <td>False</td>\n",
              "      <td>True</td>\n",
              "    </tr>\n",
              "    <tr>\n",
              "      <th>17553</th>\n",
              "      <td>Claimed</td>\n",
              "      <td>NaN</td>\n",
              "      <td>8269084</td>\n",
              "      <td>NaN</td>\n",
              "      <td>NaN</td>\n",
              "      <td>2017-06-23</td>\n",
              "      <td>9999</td>\n",
              "      <td>Girl</td>\n",
              "      <td>Female</td>\n",
              "      <td>Dark</td>\n",
              "      <td>2</td>\n",
              "      <td>1752960000%</td>\n",
              "      <td>NaN</td>\n",
              "      <td>False</td>\n",
              "      <td>True</td>\n",
              "    </tr>\n",
              "  </tbody>\n",
              "</table>\n",
              "<p>17554 rows × 15 columns</p>\n",
              "</div>"
            ],
            "text/plain": [
              "      Transaction       From         To  ...  Ratio of Currency  Non_human  Human\n",
              "0            Sold   0xf5099e   14715954  ...         112.880000      False   True\n",
              "1            Sold   0x00d7c9   10528156  ...         241.250000      False   True\n",
              "2            Sold   0xc352b5      55241  ...         326.530612      False   True\n",
              "3         Claimed        NaN   12800693  ...                NaN      False   True\n",
              "4            Sold  EliteCat\n",
              "   0xcf6165  ...         605.083333      False   True\n",
              "...           ...        ...        ...  ...                ...        ...    ...\n",
              "17549        Sold     TJ2010       gaus  ...         356.983051       True  False\n",
              "17550     Claimed        NaN     TJ2010  ...                NaN       True  False\n",
              "17551        Sold    7595170  TokenAng\n",
              "  ...         633.266667      False   True\n",
              "17552     Claimed        NaN   0x73e4a2  ...                NaN      False   True\n",
              "17553     Claimed        NaN    8269084  ...                NaN      False   True\n",
              "\n",
              "[17554 rows x 15 columns]"
            ]
          },
          "metadata": {},
          "execution_count": 22
        }
      ]
    },
    {
      "cell_type": "markdown",
      "metadata": {
        "id": "QKa-t_1kHmyO"
      },
      "source": [
        "#Average Slots by Types\n",
        "\n",
        "Finding the mean of each based on the newly created Types\n"
      ]
    },
    {
      "cell_type": "code",
      "metadata": {
        "colab": {
          "base_uri": "https://localhost:8080/"
        },
        "id": "qyEaxEJhHl-a",
        "outputId": "a036e61c-e607-4e59-962c-fbb86e8f049f"
      },
      "source": [
        "df_punks.loc[df_punks['Non_human'] == True, 'Slots'].mean()"
      ],
      "execution_count": 25,
      "outputs": [
        {
          "output_type": "execute_result",
          "data": {
            "text/plain": [
              "2.2246696035242293"
            ]
          },
          "metadata": {},
          "execution_count": 25
        }
      ]
    },
    {
      "cell_type": "code",
      "metadata": {
        "colab": {
          "base_uri": "https://localhost:8080/"
        },
        "id": "zmlTOJkfH5cR",
        "outputId": "9262d1c5-0414-44d8-9f86-b81b5e9a398d"
      },
      "source": [
        "df_punks.loc[df_punks['Human'] == True, 'Slots'].mean()"
      ],
      "execution_count": 27,
      "outputs": [
        {
          "output_type": "execute_result",
          "data": {
            "text/plain": [
              "2.7854793097477923"
            ]
          },
          "metadata": {},
          "execution_count": 27
        }
      ]
    },
    {
      "cell_type": "markdown",
      "metadata": {
        "id": "8z7bZdFUID2X"
      },
      "source": [
        "We can see that **human** type punks have more slots than **non_human** type punks."
      ]
    },
    {
      "cell_type": "markdown",
      "metadata": {
        "id": "vFSpB8MiIPdd"
      },
      "source": [
        "#Box Plots\n",
        "\n",
        "We could compare the slots for the different types of punks with a side by side boxplot."
      ]
    },
    {
      "cell_type": "code",
      "metadata": {
        "colab": {
          "base_uri": "https://localhost:8080/",
          "height": 312
        },
        "id": "cdf5O3M9IQwE",
        "outputId": "c15dbb1c-49d6-4232-bdf3-80be5aea7635"
      },
      "source": [
        "sns.boxplot(x=df_punks.Type, y=df_punks.Slots).set(title='Box Plot of Slots by Types')"
      ],
      "execution_count": 28,
      "outputs": [
        {
          "output_type": "execute_result",
          "data": {
            "text/plain": [
              "[Text(0.5, 1.0, 'Box Plot of Slots by Types')]"
            ]
          },
          "metadata": {},
          "execution_count": 28
        },
        {
          "output_type": "display_data",
          "data": {
            "image/png": "[encoded data removed]",
            "text/plain": [
              "<Figure size 432x288 with 1 Axes>"
            ]
          },
          "metadata": {
            "needs_background": "light"
          }
        }
      ]
    },
    {
      "cell_type": "markdown",
      "metadata": {
        "id": "NVl_2xoUJgFc"
      },
      "source": [
        "#Your Turn\n",
        "\n",
        "Try playing with chunks of code from this session to further investigate the Punks data:\n",
        "\n",
        "1. Summarize the Crypto values.\n",
        "2. Make a boxplot comparing Crypto for different Skins.\n",
        "3. Find the average slots for the pale (Alien, Albino, Light) and dark (Dark, Mid)."
      ]
    },
    {
      "cell_type": "markdown",
      "metadata": {
        "id": "X1JBDZ3-JuQT"
      },
      "source": [
        "#Answers"
      ]
    },
    {
      "cell_type": "markdown",
      "metadata": {
        "id": "jTiwMvPYJye4"
      },
      "source": [
        "#1. Summarize the Crypto values."
      ]
    },
    {
      "cell_type": "code",
      "metadata": {
        "colab": {
          "base_uri": "https://localhost:8080/"
        },
        "id": "FPHRB605JZ7G",
        "outputId": "0fe617e1-b398-416f-d07f-967d06b966e2"
      },
      "source": [
        "df_punks['Crypto'].describe()"
      ],
      "execution_count": 30,
      "outputs": [
        {
          "output_type": "execute_result",
          "data": {
            "text/plain": [
              "count    7554.000000\n",
              "mean        2.389854\n",
              "std         6.118331\n",
              "min         0.010000\n",
              "25%         0.300000\n",
              "50%         1.000000\n",
              "75%         2.900000\n",
              "max       189.990000\n",
              "Name: Crypto, dtype: float64"
            ]
          },
          "metadata": {},
          "execution_count": 30
        }
      ]
    },
    {
      "cell_type": "markdown",
      "metadata": {
        "id": "ys7Ebgg1KCBd"
      },
      "source": [
        "#2. Make a boxplot comparing Crypto for different Skins."
      ]
    },
    {
      "cell_type": "code",
      "metadata": {
        "colab": {
          "base_uri": "https://localhost:8080/",
          "height": 312
        },
        "id": "vhrrjx2pJ9uL",
        "outputId": "bfa5f018-c46f-450c-a659-fb0032d631a8"
      },
      "source": [
        "sns.boxplot(x=df_punks.Skin, y=df_punks.Crypto).set(title='Box Plot of Crypto by Skin')"
      ],
      "execution_count": 31,
      "outputs": [
        {
          "output_type": "execute_result",
          "data": {
            "text/plain": [
              "[Text(0.5, 1.0, 'Box Plot of Crypto by Skin')]"
            ]
          },
          "metadata": {},
          "execution_count": 31
        },
        {
          "output_type": "display_data",
          "data": {
            "image/png": "[encoded data removed]",
            "text/plain": [
              "<Figure size 432x288 with 1 Axes>"
            ]
          },
          "metadata": {
            "needs_background": "light"
          }
        }
      ]
    },
    {
      "cell_type": "markdown",
      "metadata": {
        "id": "j2taows0K02z"
      },
      "source": [
        "#3. Find the average slots for the pale (Alien, Albino, Light) and dark (Dark, Mid)."
      ]
    },
    {
      "cell_type": "code",
      "metadata": {
        "id": "mEbn-RYmKjjw"
      },
      "source": [
        "df_punks['Pale'] = (df_punks['Skin'] == 'Alien') | (df_punks['Skin'] == 'Albino') | (df_punks['Skin'] == 'Light')"
      ],
      "execution_count": 32,
      "outputs": []
    },
    {
      "cell_type": "code",
      "metadata": {
        "id": "WFaKYOOXMcSY"
      },
      "source": [
        "df_punks['Dark'] = (df_punks['Skin'] == 'Dark') | (df_punks['Skin'] == 'Mid')"
      ],
      "execution_count": 33,
      "outputs": []
    },
    {
      "cell_type": "code",
      "metadata": {
        "colab": {
          "base_uri": "https://localhost:8080/",
          "height": 203
        },
        "id": "NHj20jOlMjLO",
        "outputId": "48ed7dbd-32e8-4003-f4a3-04a488c07fa0"
      },
      "source": [
        "df_punks.head()"
      ],
      "execution_count": 37,
      "outputs": [
        {
          "output_type": "execute_result",
          "data": {
            "text/html": [
              "<div>\n",
              "<style scoped>\n",
              "    .dataframe tbody tr th:only-of-type {\n",
              "        vertical-align: middle;\n",
              "    }\n",
              "\n",
              "    .dataframe tbody tr th {\n",
              "        vertical-align: top;\n",
              "    }\n",
              "\n",
              "    .dataframe thead th {\n",
              "        text-align: right;\n",
              "    }\n",
              "</style>\n",
              "<table border=\"1\" class=\"dataframe\">\n",
              "  <thead>\n",
              "    <tr style=\"text-align: right;\">\n",
              "      <th></th>\n",
              "      <th>Transaction</th>\n",
              "      <th>From</th>\n",
              "      <th>To</th>\n",
              "      <th>Crypto</th>\n",
              "      <th>USD</th>\n",
              "      <th>Txn</th>\n",
              "      <th>ID</th>\n",
              "      <th>Sex</th>\n",
              "      <th>Type</th>\n",
              "      <th>Skin</th>\n",
              "      <th>Slots</th>\n",
              "      <th>Rank</th>\n",
              "      <th>Ratio of Currency</th>\n",
              "      <th>Non_human</th>\n",
              "      <th>Human</th>\n",
              "      <th>Pale</th>\n",
              "      <th>Dark</th>\n",
              "    </tr>\n",
              "  </thead>\n",
              "  <tbody>\n",
              "    <tr>\n",
              "      <th>0</th>\n",
              "      <td>Sold</td>\n",
              "      <td>0xf5099e</td>\n",
              "      <td>14715954</td>\n",
              "      <td>25.00</td>\n",
              "      <td>2822.0</td>\n",
              "      <td>2018-11-30</td>\n",
              "      <td>0</td>\n",
              "      <td>Girl</td>\n",
              "      <td>Female</td>\n",
              "      <td>Mid</td>\n",
              "      <td>3</td>\n",
              "      <td>3682560000%</td>\n",
              "      <td>112.880000</td>\n",
              "      <td>False</td>\n",
              "      <td>True</td>\n",
              "      <td>False</td>\n",
              "      <td>True</td>\n",
              "    </tr>\n",
              "    <tr>\n",
              "      <th>1</th>\n",
              "      <td>Sold</td>\n",
              "      <td>0x00d7c9</td>\n",
              "      <td>10528156</td>\n",
              "      <td>1.60</td>\n",
              "      <td>386.0</td>\n",
              "      <td>2017-07-07</td>\n",
              "      <td>0</td>\n",
              "      <td>Girl</td>\n",
              "      <td>Female</td>\n",
              "      <td>Mid</td>\n",
              "      <td>3</td>\n",
              "      <td>3682560000%</td>\n",
              "      <td>241.250000</td>\n",
              "      <td>False</td>\n",
              "      <td>True</td>\n",
              "      <td>False</td>\n",
              "      <td>True</td>\n",
              "    </tr>\n",
              "    <tr>\n",
              "      <th>2</th>\n",
              "      <td>Sold</td>\n",
              "      <td>0xc352b5</td>\n",
              "      <td>55241</td>\n",
              "      <td>0.98</td>\n",
              "      <td>320.0</td>\n",
              "      <td>2017-06-23</td>\n",
              "      <td>0</td>\n",
              "      <td>Girl</td>\n",
              "      <td>Female</td>\n",
              "      <td>Mid</td>\n",
              "      <td>3</td>\n",
              "      <td>3682560000%</td>\n",
              "      <td>326.530612</td>\n",
              "      <td>False</td>\n",
              "      <td>True</td>\n",
              "      <td>False</td>\n",
              "      <td>True</td>\n",
              "    </tr>\n",
              "    <tr>\n",
              "      <th>3</th>\n",
              "      <td>Claimed</td>\n",
              "      <td>NaN</td>\n",
              "      <td>12800693</td>\n",
              "      <td>NaN</td>\n",
              "      <td>NaN</td>\n",
              "      <td>2017-06-23</td>\n",
              "      <td>0</td>\n",
              "      <td>Girl</td>\n",
              "      <td>Female</td>\n",
              "      <td>Mid</td>\n",
              "      <td>3</td>\n",
              "      <td>3682560000%</td>\n",
              "      <td>NaN</td>\n",
              "      <td>False</td>\n",
              "      <td>True</td>\n",
              "      <td>False</td>\n",
              "      <td>True</td>\n",
              "    </tr>\n",
              "    <tr>\n",
              "      <th>4</th>\n",
              "      <td>Sold</td>\n",
              "      <td>EliteCat</td>\n",
              "      <td>0xcf6165</td>\n",
              "      <td>60.00</td>\n",
              "      <td>36305.0</td>\n",
              "      <td>2020-11-30</td>\n",
              "      <td>1</td>\n",
              "      <td>Guy</td>\n",
              "      <td>Male</td>\n",
              "      <td>Dark</td>\n",
              "      <td>2</td>\n",
              "      <td>2050240500%</td>\n",
              "      <td>605.083333</td>\n",
              "      <td>False</td>\n",
              "      <td>True</td>\n",
              "      <td>False</td>\n",
              "      <td>True</td>\n",
              "    </tr>\n",
              "  </tbody>\n",
              "</table>\n",
              "</div>"
            ],
            "text/plain": [
              "  Transaction       From        To  Crypto  ...  Non_human Human   Pale  Dark\n",
              "0        Sold   0xf5099e  14715954   25.00  ...      False  True  False  True\n",
              "1        Sold   0x00d7c9  10528156    1.60  ...      False  True  False  True\n",
              "2        Sold   0xc352b5     55241    0.98  ...      False  True  False  True\n",
              "3     Claimed        NaN  12800693     NaN  ...      False  True  False  True\n",
              "4        Sold  EliteCat\n",
              "  0xcf6165   60.00  ...      False  True  False  True\n",
              "\n",
              "[5 rows x 17 columns]"
            ]
          },
          "metadata": {},
          "execution_count": 37
        }
      ]
    },
    {
      "cell_type": "code",
      "metadata": {
        "colab": {
          "base_uri": "https://localhost:8080/"
        },
        "id": "Shu-sVNQMjy0",
        "outputId": "8b45ec9e-0a81-4678-b88e-3284f91d1bea"
      },
      "source": [
        "df_punks.loc[df_punks['Pale'] == True, 'Slots'].mean()"
      ],
      "execution_count": 38,
      "outputs": [
        {
          "output_type": "execute_result",
          "data": {
            "text/plain": [
              "2.748796498905908"
            ]
          },
          "metadata": {},
          "execution_count": 38
        }
      ]
    },
    {
      "cell_type": "code",
      "metadata": {
        "colab": {
          "base_uri": "https://localhost:8080/"
        },
        "id": "pKccvXiBM6P1",
        "outputId": "9f955cb9-040d-466a-94c1-44a821cac0a3"
      },
      "source": [
        "df_punks.loc[df_punks['Dark'] == True, 'Slots'].mean()"
      ],
      "execution_count": 39,
      "outputs": [
        {
          "output_type": "execute_result",
          "data": {
            "text/plain": [
              "2.80833412796796"
            ]
          },
          "metadata": {},
          "execution_count": 39
        }
      ]
    }
  ]
}