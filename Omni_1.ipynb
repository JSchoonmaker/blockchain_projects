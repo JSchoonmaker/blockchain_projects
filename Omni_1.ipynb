{
  "nbformat": 4,
  "nbformat_minor": 0,
  "metadata": {
    "colab": {
      "name": "Omni_1.ipynb",
      "provenance": [],
      "collapsed_sections": [],
      "authorship_tag": "ABX9TyPkEXYmLz+TJETdRCn0sEpA",
      "include_colab_link": true
    },
    "kernelspec": {
      "name": "python3",
      "display_name": "Python 3"
    },
    "language_info": {
      "name": "python"
    }
  },
  "cells": [
    {
      "cell_type": "markdown",
      "metadata": {
        "id": "view-in-github",
        "colab_type": "text"
      },
      "source": [
        "<a href=\"https://colab.research.google.com/github/JSchoonmaker/blockchain_projects/blob/main/Omni_1.ipynb\" target=\"_parent\"><img src=\"https://colab.research.google.com/assets/colab-badge.svg\" alt=\"Open In Colab\"/></a>"
      ]
    },
    {
      "cell_type": "code",
      "metadata": {
        "id": "NYDCg74BiKW4"
      },
      "source": [
        "import pandas as pd"
      ],
      "execution_count": 1,
      "outputs": []
    },
    {
      "cell_type": "markdown",
      "metadata": {
        "id": "kT2Yc1oljx0L"
      },
      "source": [
        "# Load the Data\n",
        "\n",
        "First we set the url where the dataset can be found as the 'punks_url' variable. <br>\n",
        "Next, we use read_csv to load the dataset."
      ]
    },
    {
      "cell_type": "code",
      "metadata": {
        "id": "0z8mjIUJibW9"
      },
      "source": [
        "punks_url = 'https://raw.githubusercontent.com/Omni-Analytics-Group/eth-data-science-course/master/courses/Module%201/punks.csv'"
      ],
      "execution_count": 2,
      "outputs": []
    },
    {
      "cell_type": "code",
      "metadata": {
        "id": "KN8R87_rikDC"
      },
      "source": [
        "df_punks = pd.read_csv(punks_url, encoding='unicode_escape')"
      ],
      "execution_count": 34,
      "outputs": []
    },
    {
      "cell_type": "markdown",
      "metadata": {
        "id": "ieZ70oVZlOPJ"
      },
      "source": [
        "# First look at the data in Python\n",
        "Use Python to look at the first few rows of data in the Punks data set. The head() function will allow you to look at the first 5 rows of the dataset. The tail() function will allow you to look at the last 5 rows of the dataset."
      ]
    },
    {
      "cell_type": "code",
      "metadata": {
        "colab": {
          "base_uri": "https://localhost:8080/",
          "height": 206
        },
        "id": "BYpk4g95kVGV",
        "outputId": "37502fc3-dce0-41dc-992c-f63b29104c62"
      },
      "source": [
        "df_punks.head()"
      ],
      "execution_count": 35,
      "outputs": [
        {
          "output_type": "execute_result",
          "data": {
            "text/html": [
              "<div>\n",
              "<style scoped>\n",
              "    .dataframe tbody tr th:only-of-type {\n",
              "        vertical-align: middle;\n",
              "    }\n",
              "\n",
              "    .dataframe tbody tr th {\n",
              "        vertical-align: top;\n",
              "    }\n",
              "\n",
              "    .dataframe thead th {\n",
              "        text-align: right;\n",
              "    }\n",
              "</style>\n",
              "<table border=\"1\" class=\"dataframe\">\n",
              "  <thead>\n",
              "    <tr style=\"text-align: right;\">\n",
              "      <th></th>\n",
              "      <th>Transaction</th>\n",
              "      <th>From</th>\n",
              "      <th>To</th>\n",
              "      <th>Crypto</th>\n",
              "      <th>USD</th>\n",
              "      <th>Txn</th>\n",
              "      <th>ID</th>\n",
              "      <th>Sex</th>\n",
              "      <th>Type</th>\n",
              "      <th>Skin</th>\n",
              "      <th>Slots</th>\n",
              "      <th>Rank</th>\n",
              "    </tr>\n",
              "  </thead>\n",
              "  <tbody>\n",
              "    <tr>\n",
              "      <th>0</th>\n",
              "      <td>Sold</td>\n",
              "      <td>0xf5099e</td>\n",
              "      <td>14715954</td>\n",
              "      <td>25.00</td>\n",
              "      <td>2822.0</td>\n",
              "      <td>2018-11-30</td>\n",
              "      <td>0</td>\n",
              "      <td>Girl</td>\n",
              "      <td>Female</td>\n",
              "      <td>Mid</td>\n",
              "      <td>3</td>\n",
              "      <td>3682560000%</td>\n",
              "    </tr>\n",
              "    <tr>\n",
              "      <th>1</th>\n",
              "      <td>Sold</td>\n",
              "      <td>0x00d7c9</td>\n",
              "      <td>10528156</td>\n",
              "      <td>1.60</td>\n",
              "      <td>386.0</td>\n",
              "      <td>2017-07-07</td>\n",
              "      <td>0</td>\n",
              "      <td>Girl</td>\n",
              "      <td>Female</td>\n",
              "      <td>Mid</td>\n",
              "      <td>3</td>\n",
              "      <td>3682560000%</td>\n",
              "    </tr>\n",
              "    <tr>\n",
              "      <th>2</th>\n",
              "      <td>Sold</td>\n",
              "      <td>0xc352b5</td>\n",
              "      <td>55241</td>\n",
              "      <td>0.98</td>\n",
              "      <td>320.0</td>\n",
              "      <td>2017-06-23</td>\n",
              "      <td>0</td>\n",
              "      <td>Girl</td>\n",
              "      <td>Female</td>\n",
              "      <td>Mid</td>\n",
              "      <td>3</td>\n",
              "      <td>3682560000%</td>\n",
              "    </tr>\n",
              "    <tr>\n",
              "      <th>3</th>\n",
              "      <td>Claimed</td>\n",
              "      <td>NaN</td>\n",
              "      <td>12800693</td>\n",
              "      <td>NaN</td>\n",
              "      <td>NaN</td>\n",
              "      <td>2017-06-23</td>\n",
              "      <td>0</td>\n",
              "      <td>Girl</td>\n",
              "      <td>Female</td>\n",
              "      <td>Mid</td>\n",
              "      <td>3</td>\n",
              "      <td>3682560000%</td>\n",
              "    </tr>\n",
              "    <tr>\n",
              "      <th>4</th>\n",
              "      <td>Sold</td>\n",
              "      <td>EliteCat</td>\n",
              "      <td>0xcf6165</td>\n",
              "      <td>60.00</td>\n",
              "      <td>36305.0</td>\n",
              "      <td>2020-11-30</td>\n",
              "      <td>1</td>\n",
              "      <td>Guy</td>\n",
              "      <td>Male</td>\n",
              "      <td>Dark</td>\n",
              "      <td>2</td>\n",
              "      <td>2050240500%</td>\n",
              "    </tr>\n",
              "  </tbody>\n",
              "</table>\n",
              "</div>"
            ],
            "text/plain": [
              "  Transaction       From        To  Crypto  ...    Type  Skin  Slots         Rank\n",
              "0        Sold   0xf5099e  14715954   25.00  ...  Female   Mid      3  3682560000%\n",
              "1        Sold   0x00d7c9  10528156    1.60  ...  Female   Mid      3  3682560000%\n",
              "2        Sold   0xc352b5     55241    0.98  ...  Female   Mid      3  3682560000%\n",
              "3     Claimed        NaN  12800693     NaN  ...  Female   Mid      3  3682560000%\n",
              "4        Sold  EliteCat\n",
              "  0xcf6165   60.00  ...    Male  Dark      2  2050240500%\n",
              "\n",
              "[5 rows x 12 columns]"
            ]
          },
          "metadata": {},
          "execution_count": 35
        }
      ]
    },
    {
      "cell_type": "code",
      "metadata": {
        "colab": {
          "base_uri": "https://localhost:8080/",
          "height": 206
        },
        "id": "M-yZqo6clhOu",
        "outputId": "fe9a4bdc-7837-414e-90b7-679d031955da"
      },
      "source": [
        "df_punks.tail()"
      ],
      "execution_count": 36,
      "outputs": [
        {
          "output_type": "execute_result",
          "data": {
            "text/html": [
              "<div>\n",
              "<style scoped>\n",
              "    .dataframe tbody tr th:only-of-type {\n",
              "        vertical-align: middle;\n",
              "    }\n",
              "\n",
              "    .dataframe tbody tr th {\n",
              "        vertical-align: top;\n",
              "    }\n",
              "\n",
              "    .dataframe thead th {\n",
              "        text-align: right;\n",
              "    }\n",
              "</style>\n",
              "<table border=\"1\" class=\"dataframe\">\n",
              "  <thead>\n",
              "    <tr style=\"text-align: right;\">\n",
              "      <th></th>\n",
              "      <th>Transaction</th>\n",
              "      <th>From</th>\n",
              "      <th>To</th>\n",
              "      <th>Crypto</th>\n",
              "      <th>USD</th>\n",
              "      <th>Txn</th>\n",
              "      <th>ID</th>\n",
              "      <th>Sex</th>\n",
              "      <th>Type</th>\n",
              "      <th>Skin</th>\n",
              "      <th>Slots</th>\n",
              "      <th>Rank</th>\n",
              "    </tr>\n",
              "  </thead>\n",
              "  <tbody>\n",
              "    <tr>\n",
              "      <th>17549</th>\n",
              "      <td>Sold</td>\n",
              "      <td>TJ2010</td>\n",
              "      <td>gaus</td>\n",
              "      <td>59.0</td>\n",
              "      <td>21062.0</td>\n",
              "      <td>2020-09-27</td>\n",
              "      <td>9997</td>\n",
              "      <td>Guy</td>\n",
              "      <td>Zombie</td>\n",
              "      <td>Zombie</td>\n",
              "      <td>2</td>\n",
              "      <td>0.023188000%</td>\n",
              "    </tr>\n",
              "    <tr>\n",
              "      <th>17550</th>\n",
              "      <td>Claimed</td>\n",
              "      <td>NaN</td>\n",
              "      <td>TJ2010</td>\n",
              "      <td>NaN</td>\n",
              "      <td>NaN</td>\n",
              "      <td>2017-06-23</td>\n",
              "      <td>9997</td>\n",
              "      <td>Guy</td>\n",
              "      <td>Zombie</td>\n",
              "      <td>Zombie</td>\n",
              "      <td>2</td>\n",
              "      <td>0.023188000%</td>\n",
              "    </tr>\n",
              "    <tr>\n",
              "      <th>17551</th>\n",
              "      <td>Sold</td>\n",
              "      <td>7595170</td>\n",
              "      <td>TokenAng</td>\n",
              "      <td>15.0</td>\n",
              "      <td>9499.0</td>\n",
              "      <td>2020-12-27</td>\n",
              "      <td>9998</td>\n",
              "      <td>Girl</td>\n",
              "      <td>Female</td>\n",
              "      <td>Mid</td>\n",
              "      <td>3</td>\n",
              "      <td>1452800000%</td>\n",
              "    </tr>\n",
              "    <tr>\n",
              "      <th>17552</th>\n",
              "      <td>Claimed</td>\n",
              "      <td>NaN</td>\n",
              "      <td>0x73e4a2</td>\n",
              "      <td>NaN</td>\n",
              "      <td>NaN</td>\n",
              "      <td>2017-06-23</td>\n",
              "      <td>9998</td>\n",
              "      <td>Girl</td>\n",
              "      <td>Female</td>\n",
              "      <td>Mid</td>\n",
              "      <td>3</td>\n",
              "      <td>1452800000%</td>\n",
              "    </tr>\n",
              "    <tr>\n",
              "      <th>17553</th>\n",
              "      <td>Claimed</td>\n",
              "      <td>NaN</td>\n",
              "      <td>8269084</td>\n",
              "      <td>NaN</td>\n",
              "      <td>NaN</td>\n",
              "      <td>2017-06-23</td>\n",
              "      <td>9999</td>\n",
              "      <td>Girl</td>\n",
              "      <td>Female</td>\n",
              "      <td>Dark</td>\n",
              "      <td>2</td>\n",
              "      <td>1752960000%</td>\n",
              "    </tr>\n",
              "  </tbody>\n",
              "</table>\n",
              "</div>"
            ],
            "text/plain": [
              "      Transaction     From         To  ...    Skin  Slots          Rank\n",
              "17549        Sold   TJ2010       gaus  ...  Zombie      2  0.023188000%\n",
              "17550     Claimed      NaN     TJ2010  ...  Zombie      2  0.023188000%\n",
              "17551        Sold  7595170  TokenAng\n",
              "  ...     Mid      3   1452800000%\n",
              "17552     Claimed      NaN   0x73e4a2  ...     Mid      3   1452800000%\n",
              "17553     Claimed      NaN    8269084  ...    Dark      2   1752960000%\n",
              "\n",
              "[5 rows x 12 columns]"
            ]
          },
          "metadata": {},
          "execution_count": 36
        }
      ]
    },
    {
      "cell_type": "markdown",
      "metadata": {
        "id": "OdNaZ3bQlvct"
      },
      "source": [
        "# Crypto Punks Data Attributes\n",
        "\n",
        "The command .info() gives us information about the dataframe including number of rows and name, number, and data type for each column."
      ]
    },
    {
      "cell_type": "code",
      "metadata": {
        "colab": {
          "base_uri": "https://localhost:8080/"
        },
        "id": "jthVzwKIllqU",
        "outputId": "80565ae6-8b9b-4da5-d576-e5584b5b86fc"
      },
      "source": [
        "df_punks.info()"
      ],
      "execution_count": 37,
      "outputs": [
        {
          "output_type": "stream",
          "name": "stdout",
          "text": [
            "<class 'pandas.core.frame.DataFrame'>\n",
            "RangeIndex: 17554 entries, 0 to 17553\n",
            "Data columns (total 12 columns):\n",
            " #   Column       Non-Null Count  Dtype  \n",
            "---  ------       --------------  -----  \n",
            " 0   Transaction  17554 non-null  object \n",
            " 1   From         7554 non-null   object \n",
            " 2   To           17554 non-null  object \n",
            " 3   Crypto       7554 non-null   float64\n",
            " 4   USD          7554 non-null   float64\n",
            " 5   Txn          17554 non-null  object \n",
            " 6   ID           17554 non-null  int64  \n",
            " 7   Sex          17554 non-null  object \n",
            " 8   Type         17554 non-null  object \n",
            " 9   Skin         17554 non-null  object \n",
            " 10  Slots        17554 non-null  int64  \n",
            " 11  Rank         17554 non-null  object \n",
            "dtypes: float64(2), int64(2), object(8)\n",
            "memory usage: 1.6+ MB\n"
          ]
        }
      ]
    },
    {
      "cell_type": "markdown",
      "metadata": {
        "id": "QP5v3NX-mysW"
      },
      "source": [
        "# Crypto Punks Statistical Summary\n",
        "\n",
        "Let's summarize the value for each variable in Punks by using .describe(). <br><br>\n",
        "Note that stats such as mean, min, and max are shown only for columns containing numeric data. <br><br>\n",
        "Columns containing string, or text data are summarized with a count, count of unique items, the most common value (top) and the frequency at which the top value occurs.   "
      ]
    },
    {
      "cell_type": "code",
      "metadata": {
        "colab": {
          "base_uri": "https://localhost:8080/",
          "height": 394
        },
        "id": "-4atIOtal1s6",
        "outputId": "a43365da-7e2d-4792-d183-0c213ac7b6bc"
      },
      "source": [
        "df_punks.describe(include='all')"
      ],
      "execution_count": 38,
      "outputs": [
        {
          "output_type": "execute_result",
          "data": {
            "text/html": [
              "<div>\n",
              "<style scoped>\n",
              "    .dataframe tbody tr th:only-of-type {\n",
              "        vertical-align: middle;\n",
              "    }\n",
              "\n",
              "    .dataframe tbody tr th {\n",
              "        vertical-align: top;\n",
              "    }\n",
              "\n",
              "    .dataframe thead th {\n",
              "        text-align: right;\n",
              "    }\n",
              "</style>\n",
              "<table border=\"1\" class=\"dataframe\">\n",
              "  <thead>\n",
              "    <tr style=\"text-align: right;\">\n",
              "      <th></th>\n",
              "      <th>Transaction</th>\n",
              "      <th>From</th>\n",
              "      <th>To</th>\n",
              "      <th>Crypto</th>\n",
              "      <th>USD</th>\n",
              "      <th>Txn</th>\n",
              "      <th>ID</th>\n",
              "      <th>Sex</th>\n",
              "      <th>Type</th>\n",
              "      <th>Skin</th>\n",
              "      <th>Slots</th>\n",
              "      <th>Rank</th>\n",
              "    </tr>\n",
              "  </thead>\n",
              "  <tbody>\n",
              "    <tr>\n",
              "      <th>count</th>\n",
              "      <td>17554</td>\n",
              "      <td>7554</td>\n",
              "      <td>17554</td>\n",
              "      <td>7554.000000</td>\n",
              "      <td>7554.000000</td>\n",
              "      <td>17554</td>\n",
              "      <td>17554.000000</td>\n",
              "      <td>17554</td>\n",
              "      <td>17554</td>\n",
              "      <td>17554</td>\n",
              "      <td>17554.000000</td>\n",
              "      <td>17554</td>\n",
              "    </tr>\n",
              "    <tr>\n",
              "      <th>unique</th>\n",
              "      <td>2</td>\n",
              "      <td>682</td>\n",
              "      <td>1524</td>\n",
              "      <td>NaN</td>\n",
              "      <td>NaN</td>\n",
              "      <td>898</td>\n",
              "      <td>NaN</td>\n",
              "      <td>2</td>\n",
              "      <td>5</td>\n",
              "      <td>7</td>\n",
              "      <td>NaN</td>\n",
              "      <td>4007</td>\n",
              "    </tr>\n",
              "    <tr>\n",
              "      <th>top</th>\n",
              "      <td>Claimed</td>\n",
              "      <td>Hemba</td>\n",
              "      <td>12800693</td>\n",
              "      <td>NaN</td>\n",
              "      <td>NaN</td>\n",
              "      <td>2017-06-23</td>\n",
              "      <td>NaN</td>\n",
              "      <td>Guy</td>\n",
              "      <td>Male</td>\n",
              "      <td>Mid</td>\n",
              "      <td>NaN</td>\n",
              "      <td>2213293500%</td>\n",
              "    </tr>\n",
              "    <tr>\n",
              "      <th>freq</th>\n",
              "      <td>10000</td>\n",
              "      <td>1058</td>\n",
              "      <td>990</td>\n",
              "      <td>NaN</td>\n",
              "      <td>NaN</td>\n",
              "      <td>10019</td>\n",
              "      <td>NaN</td>\n",
              "      <td>11379</td>\n",
              "      <td>11152</td>\n",
              "      <td>5307</td>\n",
              "      <td>NaN</td>\n",
              "      <td>45</td>\n",
              "    </tr>\n",
              "    <tr>\n",
              "      <th>mean</th>\n",
              "      <td>NaN</td>\n",
              "      <td>NaN</td>\n",
              "      <td>NaN</td>\n",
              "      <td>2.389854</td>\n",
              "      <td>867.305033</td>\n",
              "      <td>NaN</td>\n",
              "      <td>5193.788481</td>\n",
              "      <td>NaN</td>\n",
              "      <td>NaN</td>\n",
              "      <td>NaN</td>\n",
              "      <td>2.778227</td>\n",
              "      <td>NaN</td>\n",
              "    </tr>\n",
              "    <tr>\n",
              "      <th>std</th>\n",
              "      <td>NaN</td>\n",
              "      <td>NaN</td>\n",
              "      <td>NaN</td>\n",
              "      <td>6.118331</td>\n",
              "      <td>2833.265913</td>\n",
              "      <td>NaN</td>\n",
              "      <td>2757.690393</td>\n",
              "      <td>NaN</td>\n",
              "      <td>NaN</td>\n",
              "      <td>NaN</td>\n",
              "      <td>0.799278</td>\n",
              "      <td>NaN</td>\n",
              "    </tr>\n",
              "    <tr>\n",
              "      <th>min</th>\n",
              "      <td>NaN</td>\n",
              "      <td>NaN</td>\n",
              "      <td>NaN</td>\n",
              "      <td>0.010000</td>\n",
              "      <td>0.010000</td>\n",
              "      <td>NaN</td>\n",
              "      <td>0.000000</td>\n",
              "      <td>NaN</td>\n",
              "      <td>NaN</td>\n",
              "      <td>NaN</td>\n",
              "      <td>0.000000</td>\n",
              "      <td>NaN</td>\n",
              "    </tr>\n",
              "    <tr>\n",
              "      <th>25%</th>\n",
              "      <td>NaN</td>\n",
              "      <td>NaN</td>\n",
              "      <td>NaN</td>\n",
              "      <td>0.300000</td>\n",
              "      <td>72.000000</td>\n",
              "      <td>NaN</td>\n",
              "      <td>2906.000000</td>\n",
              "      <td>NaN</td>\n",
              "      <td>NaN</td>\n",
              "      <td>NaN</td>\n",
              "      <td>2.000000</td>\n",
              "      <td>NaN</td>\n",
              "    </tr>\n",
              "    <tr>\n",
              "      <th>50%</th>\n",
              "      <td>NaN</td>\n",
              "      <td>NaN</td>\n",
              "      <td>NaN</td>\n",
              "      <td>1.000000</td>\n",
              "      <td>232.500000</td>\n",
              "      <td>NaN</td>\n",
              "      <td>5189.000000</td>\n",
              "      <td>NaN</td>\n",
              "      <td>NaN</td>\n",
              "      <td>NaN</td>\n",
              "      <td>3.000000</td>\n",
              "      <td>NaN</td>\n",
              "    </tr>\n",
              "    <tr>\n",
              "      <th>75%</th>\n",
              "      <td>NaN</td>\n",
              "      <td>NaN</td>\n",
              "      <td>NaN</td>\n",
              "      <td>2.900000</td>\n",
              "      <td>1003.250000</td>\n",
              "      <td>NaN</td>\n",
              "      <td>7557.000000</td>\n",
              "      <td>NaN</td>\n",
              "      <td>NaN</td>\n",
              "      <td>NaN</td>\n",
              "      <td>3.000000</td>\n",
              "      <td>NaN</td>\n",
              "    </tr>\n",
              "    <tr>\n",
              "      <th>max</th>\n",
              "      <td>NaN</td>\n",
              "      <td>NaN</td>\n",
              "      <td>NaN</td>\n",
              "      <td>189.990000</td>\n",
              "      <td>137522.000000</td>\n",
              "      <td>NaN</td>\n",
              "      <td>9999.000000</td>\n",
              "      <td>NaN</td>\n",
              "      <td>NaN</td>\n",
              "      <td>NaN</td>\n",
              "      <td>7.000000</td>\n",
              "      <td>NaN</td>\n",
              "    </tr>\n",
              "  </tbody>\n",
              "</table>\n",
              "</div>"
            ],
            "text/plain": [
              "       Transaction   From        To  ...   Skin         Slots         Rank\n",
              "count        17554   7554     17554  ...  17554  17554.000000        17554\n",
              "unique           2    682      1524  ...      7           NaN         4007\n",
              "top        Claimed  Hemba  12800693  ...    Mid           NaN  2213293500%\n",
              "freq         10000   1058       990  ...   5307           NaN           45\n",
              "mean           NaN    NaN       NaN  ...    NaN      2.778227          NaN\n",
              "std            NaN    NaN       NaN  ...    NaN      0.799278          NaN\n",
              "min            NaN    NaN       NaN  ...    NaN      0.000000          NaN\n",
              "25%            NaN    NaN       NaN  ...    NaN      2.000000          NaN\n",
              "50%            NaN    NaN       NaN  ...    NaN      3.000000          NaN\n",
              "75%            NaN    NaN       NaN  ...    NaN      3.000000          NaN\n",
              "max            NaN    NaN       NaN  ...    NaN      7.000000          NaN\n",
              "\n",
              "[11 rows x 12 columns]"
            ]
          },
          "metadata": {},
          "execution_count": 38
        }
      ]
    },
    {
      "cell_type": "markdown",
      "metadata": {
        "id": "mifctIqwpLMl"
      },
      "source": [
        "# Scatterplots\n",
        "\n",
        "Let's look at the relationship between crypto and USD."
      ]
    },
    {
      "cell_type": "code",
      "metadata": {
        "id": "dKW5GV2lnJz-"
      },
      "source": [
        "import matplotlib.pyplot as plt\n",
        "import seaborn as sns"
      ],
      "execution_count": 39,
      "outputs": []
    },
    {
      "cell_type": "code",
      "metadata": {
        "colab": {
          "base_uri": "https://localhost:8080/",
          "height": 312
        },
        "id": "Zq7rh6lupRxI",
        "outputId": "6964afc4-8373-4aca-fef3-cb74a4e78a64"
      },
      "source": [
        "sns.scatterplot(x=df_punks.Crypto, y=df_punks.USD).set(title='USD vs. Crypto (ETH)')"
      ],
      "execution_count": 40,
      "outputs": [
        {
          "output_type": "execute_result",
          "data": {
            "text/plain": [
              "[Text(0.5, 1.0, 'USD vs. Crypto (ETH)')]"
            ]
          },
          "metadata": {},
          "execution_count": 40
        },
        {
          "output_type": "display_data",
          "data": {
            "image/png": "[encoded data removed]",
            "text/plain": [
              "<Figure size 432x288 with 1 Axes>"
            ]
          },
          "metadata": {
            "needs_background": "light"
          }
        }
      ]
    },
    {
      "cell_type": "markdown",
      "metadata": {
        "id": "na4axB3IqPeG"
      },
      "source": [
        "# Another Scatterplot"
      ]
    },
    {
      "cell_type": "code",
      "metadata": {
        "colab": {
          "base_uri": "https://localhost:8080/",
          "height": 312
        },
        "id": "fgCgMT25poVZ",
        "outputId": "2396bc05-5e89-4ee9-bf85-d3bd013340a2"
      },
      "source": [
        "sns.scatterplot(x=df_punks.Crypto, y=df_punks.USD, hue = df_punks.Type).set(title='USD vs. Crypto (ETH)')"
      ],
      "execution_count": 41,
      "outputs": [
        {
          "output_type": "execute_result",
          "data": {
            "text/plain": [
              "[Text(0.5, 1.0, 'USD vs. Crypto (ETH)')]"
            ]
          },
          "metadata": {},
          "execution_count": 41
        },
        {
          "output_type": "display_data",
          "data": {
            "image/png": "[encoded data removed]",
            "text/plain": [
              "<Figure size 432x288 with 1 Axes>"
            ]
          },
          "metadata": {
            "needs_background": "light"
          }
        }
      ]
    },
    {
      "cell_type": "markdown",
      "metadata": {
        "id": "ZbgF_dVLq_hQ"
      },
      "source": [
        "# Creating a New Variable"
      ]
    },
    {
      "cell_type": "code",
      "metadata": {
        "id": "_gzbv72sqUop"
      },
      "source": [
        "df_punks['Ratio of Currency'] = df_punks['USD']/df_punks['Crypto']"
      ],
      "execution_count": 42,
      "outputs": []
    },
    {
      "cell_type": "markdown",
      "metadata": {
        "id": "fR2nyft_rgkM"
      },
      "source": [
        "# Summary of 'Ratio of Currency' Variable"
      ]
    },
    {
      "cell_type": "code",
      "metadata": {
        "colab": {
          "base_uri": "https://localhost:8080/"
        },
        "id": "IM8G6qYrrUKT",
        "outputId": "70474dbf-f005-4943-83ad-1c6e6b367abc"
      },
      "source": [
        "df_punks['Ratio of Currency'].describe()"
      ],
      "execution_count": 43,
      "outputs": [
        {
          "output_type": "execute_result",
          "data": {
            "text/plain": [
              "count    7554.000000\n",
              "mean      327.962994\n",
              "std       188.430207\n",
              "min         1.000000\n",
              "25%       202.857143\n",
              "50%       326.887464\n",
              "75%       367.200000\n",
              "max      1409.090909\n",
              "Name: Ratio of Currency, dtype: float64"
            ]
          },
          "metadata": {},
          "execution_count": 43
        }
      ]
    },
    {
      "cell_type": "markdown",
      "metadata": {
        "id": "Pvqxp4PprlE7"
      },
      "source": [
        "# Column Names"
      ]
    },
    {
      "cell_type": "code",
      "metadata": {
        "colab": {
          "base_uri": "https://localhost:8080/"
        },
        "id": "LI0Sq5RIrWCc",
        "outputId": "aa3e41c6-1819-478c-9ed2-92f9e0b74919"
      },
      "source": [
        "df_punks.columns"
      ],
      "execution_count": 44,
      "outputs": [
        {
          "output_type": "execute_result",
          "data": {
            "text/plain": [
              "Index(['Transaction', 'From', 'To', 'Crypto', 'USD', 'Txn', 'ID', 'Sex',\n",
              "       'Type', 'Skin', 'Slots', 'Rank', 'Ratio of Currency'],\n",
              "      dtype='object')"
            ]
          },
          "metadata": {},
          "execution_count": 44
        }
      ]
    },
    {
      "cell_type": "markdown",
      "metadata": {
        "id": "-Oeh4McRruw8"
      },
      "source": [
        "# Crypto Histogram"
      ]
    },
    {
      "cell_type": "code",
      "metadata": {
        "colab": {
          "base_uri": "https://localhost:8080/",
          "height": 312
        },
        "id": "MVEeJwqSrn5U",
        "outputId": "010d37a7-3c6f-4cd7-bc99-12dadecbfdfd"
      },
      "source": [
        "sns.histplot(x=df_punks.Crypto, binwidth=2.5).set(title='Histogram of Crypto') # binwidth is the length of each rectangular bar"
      ],
      "execution_count": 45,
      "outputs": [
        {
          "output_type": "execute_result",
          "data": {
            "text/plain": [
              "[Text(0.5, 1.0, 'Histogram of Crypto')]"
            ]
          },
          "metadata": {},
          "execution_count": 45
        },
        {
          "output_type": "display_data",
          "data": {
            "image/png": "[encoded data removed]",
            "text/plain": [
              "<Figure size 432x288 with 1 Axes>"
            ]
          },
          "metadata": {
            "needs_background": "light"
          }
        }
      ]
    },
    {
      "cell_type": "markdown",
      "metadata": {
        "id": "uQdoeQFSswt4"
      },
      "source": [
        "# Finding the most expensive punk that was last sold in the sample data\n",
        "\n",
        "We can look at the most expensive punk that was last sold by using the .loc (location) command and the .idxmax (index for the max value) command."
      ]
    },
    {
      "cell_type": "code",
      "metadata": {
        "colab": {
          "base_uri": "https://localhost:8080/"
        },
        "id": "0oqxAJYDsR69",
        "outputId": "a37741c8-e1ee-4e82-8537-45937b1db5c4"
      },
      "source": [
        "df_punks.loc[df_punks.Crypto.idxmax()]"
      ],
      "execution_count": 46,
      "outputs": [
        {
          "output_type": "execute_result",
          "data": {
            "text/plain": [
              "Transaction                 Sold\n",
              "From                         jmg\n",
              "To                      0x7224a1\n",
              "Crypto                    189.99\n",
              "USD                       137522\n",
              "Txn                   2020-12-30\n",
              "ID                          3306\n",
              "Sex                          Guy\n",
              "Type                        Male\n",
              "Skin                         Mid\n",
              "Slots                          3\n",
              "Rank                 6437574000%\n",
              "Ratio of Currency        723.838\n",
              "Name: 5234, dtype: object"
            ]
          },
          "metadata": {},
          "execution_count": 46
        }
      ]
    },
    {
      "cell_type": "markdown",
      "metadata": {
        "id": "Xu1bp-RDw9os"
      },
      "source": [
        "# Average Slots By Sex\n",
        "### As a breakdown: <br>\n",
        "df_punks.loc - locates the values in the dataframe meeting the criteria inside the brackets <br>\n",
        "df_punks.Sex == 'XX' - subsets the dataset with the rows that meet the critera<br>\n",
        "'Slots' - selects the Slots column from the dataset<br>\n",
        ".mean() - provides the mean"
      ]
    },
    {
      "cell_type": "code",
      "metadata": {
        "colab": {
          "base_uri": "https://localhost:8080/"
        },
        "id": "EJ926DjZs6P0",
        "outputId": "19b82a75-e20f-4570-b62a-244b9b6d8d60"
      },
      "source": [
        "df_punks.loc[df_punks.Sex == 'Girl', 'Slots'].mean()"
      ],
      "execution_count": 47,
      "outputs": [
        {
          "output_type": "execute_result",
          "data": {
            "text/plain": [
              "2.763076923076923"
            ]
          },
          "metadata": {},
          "execution_count": 47
        }
      ]
    },
    {
      "cell_type": "code",
      "metadata": {
        "colab": {
          "base_uri": "https://localhost:8080/"
        },
        "id": "thDX7iOFwmxy",
        "outputId": "c0dac852-0300-40b6-bbf6-02cdb9e4bd72"
      },
      "source": [
        "df_punks.loc[df_punks.Sex == 'Guy', 'Slots'].mean()"
      ],
      "execution_count": 48,
      "outputs": [
        {
          "output_type": "execute_result",
          "data": {
            "text/plain": [
              "2.7864487213287634"
            ]
          },
          "metadata": {},
          "execution_count": 48
        }
      ]
    },
    {
      "cell_type": "markdown",
      "metadata": {
        "id": "zWOMKTGpya3L"
      },
      "source": [
        "# Combine Types\n",
        "\n",
        "We can label Alien, Ape and Zombie as non_human, and similarly we can label Female and Male as human.\n",
        "\n",
        "This code works by creating new columns non_human and human by selecting the rows that contain \"Alien\", \"Ape\", \"Zombie\" and \"Female\", \"Male\" in the Type column.\n",
        "\n",
        "Note the | operator means is interpreted as 'or', so the non_human column assignment looks at the Type column in the Punks data and assigns a 'True' value if the Punk Type is Alien OR Ape OR Zombie. Similarly, the Punk is assigned a 'True' value in the Human column if the Type is Female OR Male. "
      ]
    },
    {
      "cell_type": "code",
      "metadata": {
        "id": "xsghbEMFw8lU"
      },
      "source": [
        "df_punks['Non_human'] = (df_punks['Type'] == 'Alien') | (df_punks['Type'] == 'Ape') | (df_punks['Type'] == 'Zombie')"
      ],
      "execution_count": 52,
      "outputs": []
    },
    {
      "cell_type": "code",
      "metadata": {
        "colab": {
          "base_uri": "https://localhost:8080/",
          "height": 423
        },
        "id": "MEvomxcAM38w",
        "outputId": "085d313f-1290-4421-c9cc-b48230a5975b"
      },
      "source": [
        "df_punks"
      ],
      "execution_count": 58,
      "outputs": [
        {
          "output_type": "execute_result",
          "data": {
            "text/html": [
              "<div>\n",
              "<style scoped>\n",
              "    .dataframe tbody tr th:only-of-type {\n",
              "        vertical-align: middle;\n",
              "    }\n",
              "\n",
              "    .dataframe tbody tr th {\n",
              "        vertical-align: top;\n",
              "    }\n",
              "\n",
              "    .dataframe thead th {\n",
              "        text-align: right;\n",
              "    }\n",
              "</style>\n",
              "<table border=\"1\" class=\"dataframe\">\n",
              "  <thead>\n",
              "    <tr style=\"text-align: right;\">\n",
              "      <th></th>\n",
              "      <th>Transaction</th>\n",
              "      <th>From</th>\n",
              "      <th>To</th>\n",
              "      <th>Crypto</th>\n",
              "      <th>USD</th>\n",
              "      <th>Txn</th>\n",
              "      <th>ID</th>\n",
              "      <th>Sex</th>\n",
              "      <th>Type</th>\n",
              "      <th>Skin</th>\n",
              "      <th>Slots</th>\n",
              "      <th>Rank</th>\n",
              "      <th>Ratio of Currency</th>\n",
              "      <th>Non_human</th>\n",
              "      <th>Human</th>\n",
              "    </tr>\n",
              "  </thead>\n",
              "  <tbody>\n",
              "    <tr>\n",
              "      <th>0</th>\n",
              "      <td>Sold</td>\n",
              "      <td>0xf5099e</td>\n",
              "      <td>14715954</td>\n",
              "      <td>25.00</td>\n",
              "      <td>2822.0</td>\n",
              "      <td>2018-11-30</td>\n",
              "      <td>0</td>\n",
              "      <td>Girl</td>\n",
              "      <td>Female</td>\n",
              "      <td>Mid</td>\n",
              "      <td>3</td>\n",
              "      <td>3682560000%</td>\n",
              "      <td>112.880000</td>\n",
              "      <td>False</td>\n",
              "      <td>True</td>\n",
              "    </tr>\n",
              "    <tr>\n",
              "      <th>1</th>\n",
              "      <td>Sold</td>\n",
              "      <td>0x00d7c9</td>\n",
              "      <td>10528156</td>\n",
              "      <td>1.60</td>\n",
              "      <td>386.0</td>\n",
              "      <td>2017-07-07</td>\n",
              "      <td>0</td>\n",
              "      <td>Girl</td>\n",
              "      <td>Female</td>\n",
              "      <td>Mid</td>\n",
              "      <td>3</td>\n",
              "      <td>3682560000%</td>\n",
              "      <td>241.250000</td>\n",
              "      <td>False</td>\n",
              "      <td>True</td>\n",
              "    </tr>\n",
              "    <tr>\n",
              "      <th>2</th>\n",
              "      <td>Sold</td>\n",
              "      <td>0xc352b5</td>\n",
              "      <td>55241</td>\n",
              "      <td>0.98</td>\n",
              "      <td>320.0</td>\n",
              "      <td>2017-06-23</td>\n",
              "      <td>0</td>\n",
              "      <td>Girl</td>\n",
              "      <td>Female</td>\n",
              "      <td>Mid</td>\n",
              "      <td>3</td>\n",
              "      <td>3682560000%</td>\n",
              "      <td>326.530612</td>\n",
              "      <td>False</td>\n",
              "      <td>True</td>\n",
              "    </tr>\n",
              "    <tr>\n",
              "      <th>3</th>\n",
              "      <td>Claimed</td>\n",
              "      <td>NaN</td>\n",
              "      <td>12800693</td>\n",
              "      <td>NaN</td>\n",
              "      <td>NaN</td>\n",
              "      <td>2017-06-23</td>\n",
              "      <td>0</td>\n",
              "      <td>Girl</td>\n",
              "      <td>Female</td>\n",
              "      <td>Mid</td>\n",
              "      <td>3</td>\n",
              "      <td>3682560000%</td>\n",
              "      <td>NaN</td>\n",
              "      <td>False</td>\n",
              "      <td>True</td>\n",
              "    </tr>\n",
              "    <tr>\n",
              "      <th>4</th>\n",
              "      <td>Sold</td>\n",
              "      <td>EliteCat</td>\n",
              "      <td>0xcf6165</td>\n",
              "      <td>60.00</td>\n",
              "      <td>36305.0</td>\n",
              "      <td>2020-11-30</td>\n",
              "      <td>1</td>\n",
              "      <td>Guy</td>\n",
              "      <td>Male</td>\n",
              "      <td>Dark</td>\n",
              "      <td>2</td>\n",
              "      <td>2050240500%</td>\n",
              "      <td>605.083333</td>\n",
              "      <td>False</td>\n",
              "      <td>True</td>\n",
              "    </tr>\n",
              "    <tr>\n",
              "      <th>...</th>\n",
              "      <td>...</td>\n",
              "      <td>...</td>\n",
              "      <td>...</td>\n",
              "      <td>...</td>\n",
              "      <td>...</td>\n",
              "      <td>...</td>\n",
              "      <td>...</td>\n",
              "      <td>...</td>\n",
              "      <td>...</td>\n",
              "      <td>...</td>\n",
              "      <td>...</td>\n",
              "      <td>...</td>\n",
              "      <td>...</td>\n",
              "      <td>...</td>\n",
              "      <td>...</td>\n",
              "    </tr>\n",
              "    <tr>\n",
              "      <th>17549</th>\n",
              "      <td>Sold</td>\n",
              "      <td>TJ2010</td>\n",
              "      <td>gaus</td>\n",
              "      <td>59.00</td>\n",
              "      <td>21062.0</td>\n",
              "      <td>2020-09-27</td>\n",
              "      <td>9997</td>\n",
              "      <td>Guy</td>\n",
              "      <td>Zombie</td>\n",
              "      <td>Zombie</td>\n",
              "      <td>2</td>\n",
              "      <td>0.023188000%</td>\n",
              "      <td>356.983051</td>\n",
              "      <td>True</td>\n",
              "      <td>False</td>\n",
              "    </tr>\n",
              "    <tr>\n",
              "      <th>17550</th>\n",
              "      <td>Claimed</td>\n",
              "      <td>NaN</td>\n",
              "      <td>TJ2010</td>\n",
              "      <td>NaN</td>\n",
              "      <td>NaN</td>\n",
              "      <td>2017-06-23</td>\n",
              "      <td>9997</td>\n",
              "      <td>Guy</td>\n",
              "      <td>Zombie</td>\n",
              "      <td>Zombie</td>\n",
              "      <td>2</td>\n",
              "      <td>0.023188000%</td>\n",
              "      <td>NaN</td>\n",
              "      <td>True</td>\n",
              "      <td>False</td>\n",
              "    </tr>\n",
              "    <tr>\n",
              "      <th>17551</th>\n",
              "      <td>Sold</td>\n",
              "      <td>7595170</td>\n",
              "      <td>TokenAng</td>\n",
              "      <td>15.00</td>\n",
              "      <td>9499.0</td>\n",
              "      <td>2020-12-27</td>\n",
              "      <td>9998</td>\n",
              "      <td>Girl</td>\n",
              "      <td>Female</td>\n",
              "      <td>Mid</td>\n",
              "      <td>3</td>\n",
              "      <td>1452800000%</td>\n",
              "      <td>633.266667</td>\n",
              "      <td>False</td>\n",
              "      <td>True</td>\n",
              "    </tr>\n",
              "    <tr>\n",
              "      <th>17552</th>\n",
              "      <td>Claimed</td>\n",
              "      <td>NaN</td>\n",
              "      <td>0x73e4a2</td>\n",
              "      <td>NaN</td>\n",
              "      <td>NaN</td>\n",
              "      <td>2017-06-23</td>\n",
              "      <td>9998</td>\n",
              "      <td>Girl</td>\n",
              "      <td>Female</td>\n",
              "      <td>Mid</td>\n",
              "      <td>3</td>\n",
              "      <td>1452800000%</td>\n",
              "      <td>NaN</td>\n",
              "      <td>False</td>\n",
              "      <td>True</td>\n",
              "    </tr>\n",
              "    <tr>\n",
              "      <th>17553</th>\n",
              "      <td>Claimed</td>\n",
              "      <td>NaN</td>\n",
              "      <td>8269084</td>\n",
              "      <td>NaN</td>\n",
              "      <td>NaN</td>\n",
              "      <td>2017-06-23</td>\n",
              "      <td>9999</td>\n",
              "      <td>Girl</td>\n",
              "      <td>Female</td>\n",
              "      <td>Dark</td>\n",
              "      <td>2</td>\n",
              "      <td>1752960000%</td>\n",
              "      <td>NaN</td>\n",
              "      <td>False</td>\n",
              "      <td>True</td>\n",
              "    </tr>\n",
              "  </tbody>\n",
              "</table>\n",
              "<p>17554 rows × 15 columns</p>\n",
              "</div>"
            ],
            "text/plain": [
              "      Transaction       From         To  ...  Ratio of Currency  Non_human  Human\n",
              "0            Sold   0xf5099e   14715954  ...         112.880000      False   True\n",
              "1            Sold   0x00d7c9   10528156  ...         241.250000      False   True\n",
              "2            Sold   0xc352b5      55241  ...         326.530612      False   True\n",
              "3         Claimed        NaN   12800693  ...                NaN      False   True\n",
              "4            Sold  EliteCat\n",
              "   0xcf6165  ...         605.083333      False   True\n",
              "...           ...        ...        ...  ...                ...        ...    ...\n",
              "17549        Sold     TJ2010       gaus  ...         356.983051       True  False\n",
              "17550     Claimed        NaN     TJ2010  ...                NaN       True  False\n",
              "17551        Sold    7595170  TokenAng\n",
              "  ...         633.266667      False   True\n",
              "17552     Claimed        NaN   0x73e4a2  ...                NaN      False   True\n",
              "17553     Claimed        NaN    8269084  ...                NaN      False   True\n",
              "\n",
              "[17554 rows x 15 columns]"
            ]
          },
          "metadata": {},
          "execution_count": 58
        }
      ]
    },
    {
      "cell_type": "code",
      "metadata": {
        "id": "EzQeSGI9LvNd"
      },
      "source": [
        "df_punks['Human'] = (df_punks['Type'] == 'Female')| (df_punks['Type'] == 'Male')"
      ],
      "execution_count": 59,
      "outputs": []
    },
    {
      "cell_type": "code",
      "metadata": {
        "colab": {
          "base_uri": "https://localhost:8080/",
          "height": 423
        },
        "id": "cHMYYx7XzQf3",
        "outputId": "68ccbbba-7e12-4b70-e7ef-187a770eb29c"
      },
      "source": [
        "df_punks"
      ],
      "execution_count": 60,
      "outputs": [
        {
          "output_type": "execute_result",
          "data": {
            "text/html": [
              "<div>\n",
              "<style scoped>\n",
              "    .dataframe tbody tr th:only-of-type {\n",
              "        vertical-align: middle;\n",
              "    }\n",
              "\n",
              "    .dataframe tbody tr th {\n",
              "        vertical-align: top;\n",
              "    }\n",
              "\n",
              "    .dataframe thead th {\n",
              "        text-align: right;\n",
              "    }\n",
              "</style>\n",
              "<table border=\"1\" class=\"dataframe\">\n",
              "  <thead>\n",
              "    <tr style=\"text-align: right;\">\n",
              "      <th></th>\n",
              "      <th>Transaction</th>\n",
              "      <th>From</th>\n",
              "      <th>To</th>\n",
              "      <th>Crypto</th>\n",
              "      <th>USD</th>\n",
              "      <th>Txn</th>\n",
              "      <th>ID</th>\n",
              "      <th>Sex</th>\n",
              "      <th>Type</th>\n",
              "      <th>Skin</th>\n",
              "      <th>Slots</th>\n",
              "      <th>Rank</th>\n",
              "      <th>Ratio of Currency</th>\n",
              "      <th>Non_human</th>\n",
              "      <th>Human</th>\n",
              "    </tr>\n",
              "  </thead>\n",
              "  <tbody>\n",
              "    <tr>\n",
              "      <th>0</th>\n",
              "      <td>Sold</td>\n",
              "      <td>0xf5099e</td>\n",
              "      <td>14715954</td>\n",
              "      <td>25.00</td>\n",
              "      <td>2822.0</td>\n",
              "      <td>2018-11-30</td>\n",
              "      <td>0</td>\n",
              "      <td>Girl</td>\n",
              "      <td>Female</td>\n",
              "      <td>Mid</td>\n",
              "      <td>3</td>\n",
              "      <td>3682560000%</td>\n",
              "      <td>112.880000</td>\n",
              "      <td>False</td>\n",
              "      <td>True</td>\n",
              "    </tr>\n",
              "    <tr>\n",
              "      <th>1</th>\n",
              "      <td>Sold</td>\n",
              "      <td>0x00d7c9</td>\n",
              "      <td>10528156</td>\n",
              "      <td>1.60</td>\n",
              "      <td>386.0</td>\n",
              "      <td>2017-07-07</td>\n",
              "      <td>0</td>\n",
              "      <td>Girl</td>\n",
              "      <td>Female</td>\n",
              "      <td>Mid</td>\n",
              "      <td>3</td>\n",
              "      <td>3682560000%</td>\n",
              "      <td>241.250000</td>\n",
              "      <td>False</td>\n",
              "      <td>True</td>\n",
              "    </tr>\n",
              "    <tr>\n",
              "      <th>2</th>\n",
              "      <td>Sold</td>\n",
              "      <td>0xc352b5</td>\n",
              "      <td>55241</td>\n",
              "      <td>0.98</td>\n",
              "      <td>320.0</td>\n",
              "      <td>2017-06-23</td>\n",
              "      <td>0</td>\n",
              "      <td>Girl</td>\n",
              "      <td>Female</td>\n",
              "      <td>Mid</td>\n",
              "      <td>3</td>\n",
              "      <td>3682560000%</td>\n",
              "      <td>326.530612</td>\n",
              "      <td>False</td>\n",
              "      <td>True</td>\n",
              "    </tr>\n",
              "    <tr>\n",
              "      <th>3</th>\n",
              "      <td>Claimed</td>\n",
              "      <td>NaN</td>\n",
              "      <td>12800693</td>\n",
              "      <td>NaN</td>\n",
              "      <td>NaN</td>\n",
              "      <td>2017-06-23</td>\n",
              "      <td>0</td>\n",
              "      <td>Girl</td>\n",
              "      <td>Female</td>\n",
              "      <td>Mid</td>\n",
              "      <td>3</td>\n",
              "      <td>3682560000%</td>\n",
              "      <td>NaN</td>\n",
              "      <td>False</td>\n",
              "      <td>True</td>\n",
              "    </tr>\n",
              "    <tr>\n",
              "      <th>4</th>\n",
              "      <td>Sold</td>\n",
              "      <td>EliteCat</td>\n",
              "      <td>0xcf6165</td>\n",
              "      <td>60.00</td>\n",
              "      <td>36305.0</td>\n",
              "      <td>2020-11-30</td>\n",
              "      <td>1</td>\n",
              "      <td>Guy</td>\n",
              "      <td>Male</td>\n",
              "      <td>Dark</td>\n",
              "      <td>2</td>\n",
              "      <td>2050240500%</td>\n",
              "      <td>605.083333</td>\n",
              "      <td>False</td>\n",
              "      <td>True</td>\n",
              "    </tr>\n",
              "    <tr>\n",
              "      <th>...</th>\n",
              "      <td>...</td>\n",
              "      <td>...</td>\n",
              "      <td>...</td>\n",
              "      <td>...</td>\n",
              "      <td>...</td>\n",
              "      <td>...</td>\n",
              "      <td>...</td>\n",
              "      <td>...</td>\n",
              "      <td>...</td>\n",
              "      <td>...</td>\n",
              "      <td>...</td>\n",
              "      <td>...</td>\n",
              "      <td>...</td>\n",
              "      <td>...</td>\n",
              "      <td>...</td>\n",
              "    </tr>\n",
              "    <tr>\n",
              "      <th>17549</th>\n",
              "      <td>Sold</td>\n",
              "      <td>TJ2010</td>\n",
              "      <td>gaus</td>\n",
              "      <td>59.00</td>\n",
              "      <td>21062.0</td>\n",
              "      <td>2020-09-27</td>\n",
              "      <td>9997</td>\n",
              "      <td>Guy</td>\n",
              "      <td>Zombie</td>\n",
              "      <td>Zombie</td>\n",
              "      <td>2</td>\n",
              "      <td>0.023188000%</td>\n",
              "      <td>356.983051</td>\n",
              "      <td>True</td>\n",
              "      <td>False</td>\n",
              "    </tr>\n",
              "    <tr>\n",
              "      <th>17550</th>\n",
              "      <td>Claimed</td>\n",
              "      <td>NaN</td>\n",
              "      <td>TJ2010</td>\n",
              "      <td>NaN</td>\n",
              "      <td>NaN</td>\n",
              "      <td>2017-06-23</td>\n",
              "      <td>9997</td>\n",
              "      <td>Guy</td>\n",
              "      <td>Zombie</td>\n",
              "      <td>Zombie</td>\n",
              "      <td>2</td>\n",
              "      <td>0.023188000%</td>\n",
              "      <td>NaN</td>\n",
              "      <td>True</td>\n",
              "      <td>False</td>\n",
              "    </tr>\n",
              "    <tr>\n",
              "      <th>17551</th>\n",
              "      <td>Sold</td>\n",
              "      <td>7595170</td>\n",
              "      <td>TokenAng</td>\n",
              "      <td>15.00</td>\n",
              "      <td>9499.0</td>\n",
              "      <td>2020-12-27</td>\n",
              "      <td>9998</td>\n",
              "      <td>Girl</td>\n",
              "      <td>Female</td>\n",
              "      <td>Mid</td>\n",
              "      <td>3</td>\n",
              "      <td>1452800000%</td>\n",
              "      <td>633.266667</td>\n",
              "      <td>False</td>\n",
              "      <td>True</td>\n",
              "    </tr>\n",
              "    <tr>\n",
              "      <th>17552</th>\n",
              "      <td>Claimed</td>\n",
              "      <td>NaN</td>\n",
              "      <td>0x73e4a2</td>\n",
              "      <td>NaN</td>\n",
              "      <td>NaN</td>\n",
              "      <td>2017-06-23</td>\n",
              "      <td>9998</td>\n",
              "      <td>Girl</td>\n",
              "      <td>Female</td>\n",
              "      <td>Mid</td>\n",
              "      <td>3</td>\n",
              "      <td>1452800000%</td>\n",
              "      <td>NaN</td>\n",
              "      <td>False</td>\n",
              "      <td>True</td>\n",
              "    </tr>\n",
              "    <tr>\n",
              "      <th>17553</th>\n",
              "      <td>Claimed</td>\n",
              "      <td>NaN</td>\n",
              "      <td>8269084</td>\n",
              "      <td>NaN</td>\n",
              "      <td>NaN</td>\n",
              "      <td>2017-06-23</td>\n",
              "      <td>9999</td>\n",
              "      <td>Girl</td>\n",
              "      <td>Female</td>\n",
              "      <td>Dark</td>\n",
              "      <td>2</td>\n",
              "      <td>1752960000%</td>\n",
              "      <td>NaN</td>\n",
              "      <td>False</td>\n",
              "      <td>True</td>\n",
              "    </tr>\n",
              "  </tbody>\n",
              "</table>\n",
              "<p>17554 rows × 15 columns</p>\n",
              "</div>"
            ],
            "text/plain": [
              "      Transaction       From         To  ...  Ratio of Currency  Non_human  Human\n",
              "0            Sold   0xf5099e   14715954  ...         112.880000      False   True\n",
              "1            Sold   0x00d7c9   10528156  ...         241.250000      False   True\n",
              "2            Sold   0xc352b5      55241  ...         326.530612      False   True\n",
              "3         Claimed        NaN   12800693  ...                NaN      False   True\n",
              "4            Sold  EliteCat\n",
              "   0xcf6165  ...         605.083333      False   True\n",
              "...           ...        ...        ...  ...                ...        ...    ...\n",
              "17549        Sold     TJ2010       gaus  ...         356.983051       True  False\n",
              "17550     Claimed        NaN     TJ2010  ...                NaN       True  False\n",
              "17551        Sold    7595170  TokenAng\n",
              "  ...         633.266667      False   True\n",
              "17552     Claimed        NaN   0x73e4a2  ...                NaN      False   True\n",
              "17553     Claimed        NaN    8269084  ...                NaN      False   True\n",
              "\n",
              "[17554 rows x 15 columns]"
            ]
          },
          "metadata": {},
          "execution_count": 60
        }
      ]
    },
    {
      "cell_type": "code",
      "metadata": {
        "colab": {
          "base_uri": "https://localhost:8080/",
          "height": 423
        },
        "id": "HkSLdcRAKQj6",
        "outputId": "b46328fb-b44a-4779-e791-46a460fc6a02"
      },
      "source": [
        "df_punks[df_punks.From.duplicated(keep=False)]"
      ],
      "execution_count": 61,
      "outputs": [
        {
          "output_type": "execute_result",
          "data": {
            "text/html": [
              "<div>\n",
              "<style scoped>\n",
              "    .dataframe tbody tr th:only-of-type {\n",
              "        vertical-align: middle;\n",
              "    }\n",
              "\n",
              "    .dataframe tbody tr th {\n",
              "        vertical-align: top;\n",
              "    }\n",
              "\n",
              "    .dataframe thead th {\n",
              "        text-align: right;\n",
              "    }\n",
              "</style>\n",
              "<table border=\"1\" class=\"dataframe\">\n",
              "  <thead>\n",
              "    <tr style=\"text-align: right;\">\n",
              "      <th></th>\n",
              "      <th>Transaction</th>\n",
              "      <th>From</th>\n",
              "      <th>To</th>\n",
              "      <th>Crypto</th>\n",
              "      <th>USD</th>\n",
              "      <th>Txn</th>\n",
              "      <th>ID</th>\n",
              "      <th>Sex</th>\n",
              "      <th>Type</th>\n",
              "      <th>Skin</th>\n",
              "      <th>Slots</th>\n",
              "      <th>Rank</th>\n",
              "      <th>Ratio of Currency</th>\n",
              "      <th>Non_human</th>\n",
              "      <th>Human</th>\n",
              "    </tr>\n",
              "  </thead>\n",
              "  <tbody>\n",
              "    <tr>\n",
              "      <th>0</th>\n",
              "      <td>Sold</td>\n",
              "      <td>0xf5099e</td>\n",
              "      <td>14715954</td>\n",
              "      <td>25.00</td>\n",
              "      <td>2822.0</td>\n",
              "      <td>2018-11-30</td>\n",
              "      <td>0</td>\n",
              "      <td>Girl</td>\n",
              "      <td>Female</td>\n",
              "      <td>Mid</td>\n",
              "      <td>3</td>\n",
              "      <td>3682560000%</td>\n",
              "      <td>112.880000</td>\n",
              "      <td>False</td>\n",
              "      <td>True</td>\n",
              "    </tr>\n",
              "    <tr>\n",
              "      <th>1</th>\n",
              "      <td>Sold</td>\n",
              "      <td>0x00d7c9</td>\n",
              "      <td>10528156</td>\n",
              "      <td>1.60</td>\n",
              "      <td>386.0</td>\n",
              "      <td>2017-07-07</td>\n",
              "      <td>0</td>\n",
              "      <td>Girl</td>\n",
              "      <td>Female</td>\n",
              "      <td>Mid</td>\n",
              "      <td>3</td>\n",
              "      <td>3682560000%</td>\n",
              "      <td>241.250000</td>\n",
              "      <td>False</td>\n",
              "      <td>True</td>\n",
              "    </tr>\n",
              "    <tr>\n",
              "      <th>2</th>\n",
              "      <td>Sold</td>\n",
              "      <td>0xc352b5</td>\n",
              "      <td>55241</td>\n",
              "      <td>0.98</td>\n",
              "      <td>320.0</td>\n",
              "      <td>2017-06-23</td>\n",
              "      <td>0</td>\n",
              "      <td>Girl</td>\n",
              "      <td>Female</td>\n",
              "      <td>Mid</td>\n",
              "      <td>3</td>\n",
              "      <td>3682560000%</td>\n",
              "      <td>326.530612</td>\n",
              "      <td>False</td>\n",
              "      <td>True</td>\n",
              "    </tr>\n",
              "    <tr>\n",
              "      <th>3</th>\n",
              "      <td>Claimed</td>\n",
              "      <td>NaN</td>\n",
              "      <td>12800693</td>\n",
              "      <td>NaN</td>\n",
              "      <td>NaN</td>\n",
              "      <td>2017-06-23</td>\n",
              "      <td>0</td>\n",
              "      <td>Girl</td>\n",
              "      <td>Female</td>\n",
              "      <td>Mid</td>\n",
              "      <td>3</td>\n",
              "      <td>3682560000%</td>\n",
              "      <td>NaN</td>\n",
              "      <td>False</td>\n",
              "      <td>True</td>\n",
              "    </tr>\n",
              "    <tr>\n",
              "      <th>4</th>\n",
              "      <td>Sold</td>\n",
              "      <td>EliteCat</td>\n",
              "      <td>0xcf6165</td>\n",
              "      <td>60.00</td>\n",
              "      <td>36305.0</td>\n",
              "      <td>2020-11-30</td>\n",
              "      <td>1</td>\n",
              "      <td>Guy</td>\n",
              "      <td>Male</td>\n",
              "      <td>Dark</td>\n",
              "      <td>2</td>\n",
              "      <td>2050240500%</td>\n",
              "      <td>605.083333</td>\n",
              "      <td>False</td>\n",
              "      <td>True</td>\n",
              "    </tr>\n",
              "    <tr>\n",
              "      <th>...</th>\n",
              "      <td>...</td>\n",
              "      <td>...</td>\n",
              "      <td>...</td>\n",
              "      <td>...</td>\n",
              "      <td>...</td>\n",
              "      <td>...</td>\n",
              "      <td>...</td>\n",
              "      <td>...</td>\n",
              "      <td>...</td>\n",
              "      <td>...</td>\n",
              "      <td>...</td>\n",
              "      <td>...</td>\n",
              "      <td>...</td>\n",
              "      <td>...</td>\n",
              "      <td>...</td>\n",
              "    </tr>\n",
              "    <tr>\n",
              "      <th>17548</th>\n",
              "      <td>Claimed</td>\n",
              "      <td>NaN</td>\n",
              "      <td>11124649</td>\n",
              "      <td>NaN</td>\n",
              "      <td>NaN</td>\n",
              "      <td>2017-06-23</td>\n",
              "      <td>9996</td>\n",
              "      <td>Guy</td>\n",
              "      <td>Male</td>\n",
              "      <td>Light</td>\n",
              "      <td>4</td>\n",
              "      <td>6147702000%</td>\n",
              "      <td>NaN</td>\n",
              "      <td>False</td>\n",
              "      <td>True</td>\n",
              "    </tr>\n",
              "    <tr>\n",
              "      <th>17549</th>\n",
              "      <td>Sold</td>\n",
              "      <td>TJ2010</td>\n",
              "      <td>gaus</td>\n",
              "      <td>59.00</td>\n",
              "      <td>21062.0</td>\n",
              "      <td>2020-09-27</td>\n",
              "      <td>9997</td>\n",
              "      <td>Guy</td>\n",
              "      <td>Zombie</td>\n",
              "      <td>Zombie</td>\n",
              "      <td>2</td>\n",
              "      <td>0.023188000%</td>\n",
              "      <td>356.983051</td>\n",
              "      <td>True</td>\n",
              "      <td>False</td>\n",
              "    </tr>\n",
              "    <tr>\n",
              "      <th>17550</th>\n",
              "      <td>Claimed</td>\n",
              "      <td>NaN</td>\n",
              "      <td>TJ2010</td>\n",
              "      <td>NaN</td>\n",
              "      <td>NaN</td>\n",
              "      <td>2017-06-23</td>\n",
              "      <td>9997</td>\n",
              "      <td>Guy</td>\n",
              "      <td>Zombie</td>\n",
              "      <td>Zombie</td>\n",
              "      <td>2</td>\n",
              "      <td>0.023188000%</td>\n",
              "      <td>NaN</td>\n",
              "      <td>True</td>\n",
              "      <td>False</td>\n",
              "    </tr>\n",
              "    <tr>\n",
              "      <th>17552</th>\n",
              "      <td>Claimed</td>\n",
              "      <td>NaN</td>\n",
              "      <td>0x73e4a2</td>\n",
              "      <td>NaN</td>\n",
              "      <td>NaN</td>\n",
              "      <td>2017-06-23</td>\n",
              "      <td>9998</td>\n",
              "      <td>Girl</td>\n",
              "      <td>Female</td>\n",
              "      <td>Mid</td>\n",
              "      <td>3</td>\n",
              "      <td>1452800000%</td>\n",
              "      <td>NaN</td>\n",
              "      <td>False</td>\n",
              "      <td>True</td>\n",
              "    </tr>\n",
              "    <tr>\n",
              "      <th>17553</th>\n",
              "      <td>Claimed</td>\n",
              "      <td>NaN</td>\n",
              "      <td>8269084</td>\n",
              "      <td>NaN</td>\n",
              "      <td>NaN</td>\n",
              "      <td>2017-06-23</td>\n",
              "      <td>9999</td>\n",
              "      <td>Girl</td>\n",
              "      <td>Female</td>\n",
              "      <td>Dark</td>\n",
              "      <td>2</td>\n",
              "      <td>1752960000%</td>\n",
              "      <td>NaN</td>\n",
              "      <td>False</td>\n",
              "      <td>True</td>\n",
              "    </tr>\n",
              "  </tbody>\n",
              "</table>\n",
              "<p>17278 rows × 15 columns</p>\n",
              "</div>"
            ],
            "text/plain": [
              "      Transaction       From        To  ...  Ratio of Currency  Non_human  Human\n",
              "0            Sold   0xf5099e  14715954  ...         112.880000      False   True\n",
              "1            Sold   0x00d7c9  10528156  ...         241.250000      False   True\n",
              "2            Sold   0xc352b5     55241  ...         326.530612      False   True\n",
              "3         Claimed        NaN  12800693  ...                NaN      False   True\n",
              "4            Sold  EliteCat\n",
              "  0xcf6165  ...         605.083333      False   True\n",
              "...           ...        ...       ...  ...                ...        ...    ...\n",
              "17548     Claimed        NaN  11124649  ...                NaN      False   True\n",
              "17549        Sold     TJ2010      gaus  ...         356.983051       True  False\n",
              "17550     Claimed        NaN    TJ2010  ...                NaN       True  False\n",
              "17552     Claimed        NaN  0x73e4a2  ...                NaN      False   True\n",
              "17553     Claimed        NaN   8269084  ...                NaN      False   True\n",
              "\n",
              "[17278 rows x 15 columns]"
            ]
          },
          "metadata": {},
          "execution_count": 61
        }
      ]
    }
  ]
}