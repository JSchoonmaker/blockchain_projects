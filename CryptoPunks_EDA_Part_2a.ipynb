{
  "nbformat": 4,
  "nbformat_minor": 0,
  "metadata": {
    "colab": {
      "name": "CryptoPunks EDA Part 2a.ipynb",
      "provenance": [],
      "collapsed_sections": [],
      "authorship_tag": "ABX9TyNGkIbFPHCWBo2fFyf8pKLO",
      "include_colab_link": true
    },
    "kernelspec": {
      "name": "python3",
      "display_name": "Python 3"
    },
    "language_info": {
      "name": "python"
    }
  },
  "cells": [
    {
      "cell_type": "markdown",
      "metadata": {
        "id": "view-in-github",
        "colab_type": "text"
      },
      "source": [
        "<a href=\"https://colab.research.google.com/github/JSchoonmaker/blockchain_projects/blob/main/CryptoPunks_EDA_Part_2a.ipynb\" target=\"_parent\"><img src=\"https://colab.research.google.com/assets/colab-badge.svg\" alt=\"Open In Colab\"/></a>"
      ]
    },
    {
      "cell_type": "markdown",
      "metadata": {
        "id": "FV9AFfnYoUZJ"
      },
      "source": [
        "# CryptoPunks EDA\n",
        "\n",
        "by Jeanna Schoonmaker\n",
        "Oct 2021"
      ]
    },
    {
      "cell_type": "markdown",
      "metadata": {
        "id": "kNvSepeoBEpE"
      },
      "source": [
        "### Installing and importing necessary libraries"
      ]
    },
    {
      "cell_type": "code",
      "metadata": {
        "colab": {
          "base_uri": "https://localhost:8080/"
        },
        "id": "iazcH18lA5Pj",
        "outputId": "32539908-9843-403e-ac4f-3271db2c097c"
      },
      "source": [
        "# installing this pkg helps with unnesting some of the json returned from Flipside\n",
        "!pip install flat-table"
      ],
      "execution_count": null,
      "outputs": [
        {
          "output_type": "stream",
          "name": "stdout",
          "text": [
            "Collecting flat-table\n",
            "  Downloading flat_table-1.1.1-py3-none-any.whl (6.8 kB)\n",
            "Requirement already satisfied: pandas in /usr/local/lib/python3.7/dist-packages (from flat-table) (1.1.5)\n",
            "Requirement already satisfied: numpy in /usr/local/lib/python3.7/dist-packages (from flat-table) (1.19.5)\n",
            "Requirement already satisfied: pytz>=2017.2 in /usr/local/lib/python3.7/dist-packages (from pandas->flat-table) (2018.9)\n",
            "Requirement already satisfied: python-dateutil>=2.7.3 in /usr/local/lib/python3.7/dist-packages (from pandas->flat-table) (2.8.2)\n",
            "Requirement already satisfied: six>=1.5 in /usr/local/lib/python3.7/dist-packages (from python-dateutil>=2.7.3->pandas->flat-table) (1.15.0)\n",
            "Installing collected packages: flat-table\n",
            "Successfully installed flat-table-1.1.1\n"
          ]
        }
      ]
    },
    {
      "cell_type": "code",
      "metadata": {
        "id": "kbPcy9GFjJYo"
      },
      "source": [
        "%load_ext google.colab.data_table"
      ],
      "execution_count": null,
      "outputs": []
    },
    {
      "cell_type": "code",
      "metadata": {
        "id": "NYDCg74BiKW4"
      },
      "source": [
        "import pandas as pd\n",
        "import matplotlib.pyplot as plt\n",
        "import seaborn as sns\n",
        "from collections import Counter\n",
        "import requests\n",
        "import flat_table\n",
        "import json\n",
        "import os\n",
        "import numpy as np\n",
        "import pickle\n",
        "from datetime import datetime"
      ],
      "execution_count": null,
      "outputs": []
    },
    {
      "cell_type": "markdown",
      "metadata": {
        "id": "1J3LCMD-BKBW"
      },
      "source": [
        "### Next, let's bring in the data. We'll be working from a couple of data sources - a csv of historical punks transactions through 12/30/2020, and then data compiled from an API download from Flipside Crypto for transactions occurring in 2021. "
      ]
    },
    {
      "cell_type": "markdown",
      "metadata": {
        "id": "QgM7U9u2Csxm"
      },
      "source": [
        "### First, the easy part - loading the csv"
      ]
    },
    {
      "cell_type": "code",
      "metadata": {
        "id": "0z8mjIUJibW9"
      },
      "source": [
        "punks_url = 'https://raw.githubusercontent.com/Omni-Analytics-Group/eth-data-science-course/master/courses/Module%201/punks.csv'"
      ],
      "execution_count": null,
      "outputs": []
    },
    {
      "cell_type": "code",
      "metadata": {
        "id": "KN8R87_rikDC"
      },
      "source": [
        "df = pd.read_csv(punks_url, encoding='unicode_escape')"
      ],
      "execution_count": null,
      "outputs": []
    },
    {
      "cell_type": "code",
      "metadata": {
        "colab": {
          "base_uri": "https://localhost:8080/",
          "height": 194
        },
        "id": "BYpk4g95kVGV",
        "outputId": "6f61b3b5-e120-4fdc-8bd6-6cbd8bbb6657"
      },
      "source": [
        "df.head()"
      ],
      "execution_count": null,
      "outputs": [
        {
          "output_type": "execute_result",
          "data": {
            "application/vnd.google.colaboratory.module+javascript": "\n      import \"https://ssl.gstatic.com/colaboratory/data_table/a6224c040fa35dcf/data_table.js\";\n\n      window.createDataTable({\n        data: [[{\n            'v': 0,\n            'f': \"0\",\n        },\n\"Sold\",\n\"0xf5099e\",\n\"14715954\",\n{\n            'v': 25.0,\n            'f': \"25.0\",\n        },\n{\n            'v': 2822.0,\n            'f': \"2822.0\",\n        },\n\"2018-11-30\",\n{\n            'v': 0,\n            'f': \"0\",\n        },\n\"Girl\",\n\"Female\",\n\"Mid\",\n{\n            'v': 3,\n            'f': \"3\",\n        },\n\"3682560000%\"],\n [{\n            'v': 1,\n            'f': \"1\",\n        },\n\"Sold\",\n\"0x00d7c9\",\n\"10528156\",\n{\n            'v': 1.6,\n            'f': \"1.6\",\n        },\n{\n            'v': 386.0,\n            'f': \"386.0\",\n        },\n\"2017-07-07\",\n{\n            'v': 0,\n            'f': \"0\",\n        },\n\"Girl\",\n\"Female\",\n\"Mid\",\n{\n            'v': 3,\n            'f': \"3\",\n        },\n\"3682560000%\"],\n [{\n            'v': 2,\n            'f': \"2\",\n        },\n\"Sold\",\n\"0xc352b5\",\n\"55241\",\n{\n            'v': 0.98,\n            'f': \"0.98\",\n        },\n{\n            'v': 320.0,\n            'f': \"320.0\",\n        },\n\"2017-06-23\",\n{\n            'v': 0,\n            'f': \"0\",\n        },\n\"Girl\",\n\"Female\",\n\"Mid\",\n{\n            'v': 3,\n            'f': \"3\",\n        },\n\"3682560000%\"],\n [{\n            'v': 3,\n            'f': \"3\",\n        },\n\"Claimed\",\nNaN,\n\"12800693\",\n{\n            'v': NaN,\n            'f': \"NaN\",\n        },\n{\n            'v': NaN,\n            'f': \"NaN\",\n        },\n\"2017-06-23\",\n{\n            'v': 0,\n            'f': \"0\",\n        },\n\"Girl\",\n\"Female\",\n\"Mid\",\n{\n            'v': 3,\n            'f': \"3\",\n        },\n\"3682560000%\"],\n [{\n            'v': 4,\n            'f': \"4\",\n        },\n\"Sold\",\n\"EliteCat\\u0085\",\n\"0xcf6165\",\n{\n            'v': 60.0,\n            'f': \"60.0\",\n        },\n{\n            'v': 36305.0,\n            'f': \"36305.0\",\n        },\n\"2020-11-30\",\n{\n            'v': 1,\n            'f': \"1\",\n        },\n\"Guy\",\n\"Male\",\n\"Dark\",\n{\n            'v': 2,\n            'f': \"2\",\n        },\n\"2050240500%\"]],\n        columns: [[\"number\", \"index\"], [\"string\", \"Transaction\"], [\"string\", \"From\"], [\"string\", \"To\"], [\"number\", \"Crypto\"], [\"number\", \"USD\"], [\"string\", \"Txn\"], [\"number\", \"ID\"], [\"string\", \"Sex\"], [\"string\", \"Type\"], [\"string\", \"Skin\"], [\"number\", \"Slots\"], [\"string\", \"Rank\"]],\n        columnOptions: [{\"width\": \"1px\", \"className\": \"index_column\"}],\n        rowsPerPage: 25,\n        helpUrl: \"https://colab.research.google.com/notebooks/data_table.ipynb\",\n        suppressOutputScrolling: true,\n        minimumWidth: undefined,\n      });\n    ",
            "text/html": [
              "<div>\n",
              "<style scoped>\n",
              "    .dataframe tbody tr th:only-of-type {\n",
              "        vertical-align: middle;\n",
              "    }\n",
              "\n",
              "    .dataframe tbody tr th {\n",
              "        vertical-align: top;\n",
              "    }\n",
              "\n",
              "    .dataframe thead th {\n",
              "        text-align: right;\n",
              "    }\n",
              "</style>\n",
              "<table border=\"1\" class=\"dataframe\">\n",
              "  <thead>\n",
              "    <tr style=\"text-align: right;\">\n",
              "      <th></th>\n",
              "      <th>Transaction</th>\n",
              "      <th>From</th>\n",
              "      <th>To</th>\n",
              "      <th>Crypto</th>\n",
              "      <th>USD</th>\n",
              "      <th>Txn</th>\n",
              "      <th>ID</th>\n",
              "      <th>Sex</th>\n",
              "      <th>Type</th>\n",
              "      <th>Skin</th>\n",
              "      <th>Slots</th>\n",
              "      <th>Rank</th>\n",
              "    </tr>\n",
              "  </thead>\n",
              "  <tbody>\n",
              "    <tr>\n",
              "      <th>0</th>\n",
              "      <td>Sold</td>\n",
              "      <td>0xf5099e</td>\n",
              "      <td>14715954</td>\n",
              "      <td>25.00</td>\n",
              "      <td>2822.0</td>\n",
              "      <td>2018-11-30</td>\n",
              "      <td>0</td>\n",
              "      <td>Girl</td>\n",
              "      <td>Female</td>\n",
              "      <td>Mid</td>\n",
              "      <td>3</td>\n",
              "      <td>3682560000%</td>\n",
              "    </tr>\n",
              "    <tr>\n",
              "      <th>1</th>\n",
              "      <td>Sold</td>\n",
              "      <td>0x00d7c9</td>\n",
              "      <td>10528156</td>\n",
              "      <td>1.60</td>\n",
              "      <td>386.0</td>\n",
              "      <td>2017-07-07</td>\n",
              "      <td>0</td>\n",
              "      <td>Girl</td>\n",
              "      <td>Female</td>\n",
              "      <td>Mid</td>\n",
              "      <td>3</td>\n",
              "      <td>3682560000%</td>\n",
              "    </tr>\n",
              "    <tr>\n",
              "      <th>2</th>\n",
              "      <td>Sold</td>\n",
              "      <td>0xc352b5</td>\n",
              "      <td>55241</td>\n",
              "      <td>0.98</td>\n",
              "      <td>320.0</td>\n",
              "      <td>2017-06-23</td>\n",
              "      <td>0</td>\n",
              "      <td>Girl</td>\n",
              "      <td>Female</td>\n",
              "      <td>Mid</td>\n",
              "      <td>3</td>\n",
              "      <td>3682560000%</td>\n",
              "    </tr>\n",
              "    <tr>\n",
              "      <th>3</th>\n",
              "      <td>Claimed</td>\n",
              "      <td>NaN</td>\n",
              "      <td>12800693</td>\n",
              "      <td>NaN</td>\n",
              "      <td>NaN</td>\n",
              "      <td>2017-06-23</td>\n",
              "      <td>0</td>\n",
              "      <td>Girl</td>\n",
              "      <td>Female</td>\n",
              "      <td>Mid</td>\n",
              "      <td>3</td>\n",
              "      <td>3682560000%</td>\n",
              "    </tr>\n",
              "    <tr>\n",
              "      <th>4</th>\n",
              "      <td>Sold</td>\n",
              "      <td>EliteCat</td>\n",
              "      <td>0xcf6165</td>\n",
              "      <td>60.00</td>\n",
              "      <td>36305.0</td>\n",
              "      <td>2020-11-30</td>\n",
              "      <td>1</td>\n",
              "      <td>Guy</td>\n",
              "      <td>Male</td>\n",
              "      <td>Dark</td>\n",
              "      <td>2</td>\n",
              "      <td>2050240500%</td>\n",
              "    </tr>\n",
              "  </tbody>\n",
              "</table>\n",
              "</div>"
            ],
            "text/plain": [
              "  Transaction       From        To  Crypto  ...    Type  Skin  Slots         Rank\n",
              "0        Sold   0xf5099e  14715954   25.00  ...  Female   Mid      3  3682560000%\n",
              "1        Sold   0x00d7c9  10528156    1.60  ...  Female   Mid      3  3682560000%\n",
              "2        Sold   0xc352b5     55241    0.98  ...  Female   Mid      3  3682560000%\n",
              "3     Claimed        NaN  12800693     NaN  ...  Female   Mid      3  3682560000%\n",
              "4        Sold  EliteCat\n",
              "  0xcf6165   60.00  ...    Male  Dark      2  2050240500%\n",
              "\n",
              "[5 rows x 12 columns]"
            ]
          },
          "metadata": {},
          "execution_count": 7
        }
      ]
    },
    {
      "cell_type": "code",
      "metadata": {
        "colab": {
          "base_uri": "https://localhost:8080/"
        },
        "id": "xG56UgbJOAbm",
        "outputId": "f4c04cbb-102f-45f1-9bdf-c968f74a9d76"
      },
      "source": [
        "df.info()"
      ],
      "execution_count": null,
      "outputs": [
        {
          "output_type": "stream",
          "name": "stdout",
          "text": [
            "<class 'pandas.core.frame.DataFrame'>\n",
            "RangeIndex: 17554 entries, 0 to 17553\n",
            "Data columns (total 12 columns):\n",
            " #   Column       Non-Null Count  Dtype  \n",
            "---  ------       --------------  -----  \n",
            " 0   Transaction  17554 non-null  object \n",
            " 1   From         7554 non-null   object \n",
            " 2   To           17554 non-null  object \n",
            " 3   Crypto       7554 non-null   float64\n",
            " 4   USD          7554 non-null   float64\n",
            " 5   Txn          17554 non-null  object \n",
            " 6   ID           17554 non-null  int64  \n",
            " 7   Sex          17554 non-null  object \n",
            " 8   Type         17554 non-null  object \n",
            " 9   Skin         17554 non-null  object \n",
            " 10  Slots        17554 non-null  int64  \n",
            " 11  Rank         17554 non-null  object \n",
            "dtypes: float64(2), int64(2), object(8)\n",
            "memory usage: 1.6+ MB\n"
          ]
        }
      ]
    },
    {
      "cell_type": "markdown",
      "metadata": {
        "id": "QotQg0QyN5i9"
      },
      "source": [
        "### It looks like the \"Txn\" field has our date info, but is in string format. Let's change it to datetime format and then take a look at the max and min dates in this dataset."
      ]
    },
    {
      "cell_type": "code",
      "metadata": {
        "colab": {
          "base_uri": "https://localhost:8080/"
        },
        "id": "XHescqs4OQma",
        "outputId": "a62ef99b-7cd0-4ab9-ef7a-0bbf742ef31a"
      },
      "source": [
        "df['Txn']= pd.to_datetime(df['Txn'])\n",
        "\n",
        "print('The earliest transaction date in the dataset is: ')\n",
        "print(df.Txn.min())\n",
        "\n",
        "print('\\n\\nThe latest transaction date in the dataset is: ')\n",
        "print(df.Txn.max())"
      ],
      "execution_count": null,
      "outputs": [
        {
          "output_type": "stream",
          "name": "stdout",
          "text": [
            "The earliest transaction date in the dataset is: \n",
            "2017-06-23 00:00:00\n",
            "\n",
            "\n",
            "The latest transaction date in the dataset is: \n",
            "2020-12-30 00:00:00\n"
          ]
        }
      ]
    },
    {
      "cell_type": "markdown",
      "metadata": {
        "id": "gEtHDPYWOyfi"
      },
      "source": [
        "### Let's run df.info again to ensure changing Txn to datetime worked."
      ]
    },
    {
      "cell_type": "code",
      "metadata": {
        "colab": {
          "base_uri": "https://localhost:8080/"
        },
        "id": "2YCMVZBuOYar",
        "outputId": "0ad534e2-e9b0-4775-bdfa-e7de16c85165"
      },
      "source": [
        "df.info()"
      ],
      "execution_count": null,
      "outputs": [
        {
          "output_type": "stream",
          "name": "stdout",
          "text": [
            "<class 'pandas.core.frame.DataFrame'>\n",
            "RangeIndex: 17554 entries, 0 to 17553\n",
            "Data columns (total 12 columns):\n",
            " #   Column       Non-Null Count  Dtype         \n",
            "---  ------       --------------  -----         \n",
            " 0   Transaction  17554 non-null  object        \n",
            " 1   From         7554 non-null   object        \n",
            " 2   To           17554 non-null  object        \n",
            " 3   Crypto       7554 non-null   float64       \n",
            " 4   USD          7554 non-null   float64       \n",
            " 5   Txn          17554 non-null  datetime64[ns]\n",
            " 6   ID           17554 non-null  int64         \n",
            " 7   Sex          17554 non-null  object        \n",
            " 8   Type         17554 non-null  object        \n",
            " 9   Skin         17554 non-null  object        \n",
            " 10  Slots        17554 non-null  int64         \n",
            " 11  Rank         17554 non-null  object        \n",
            "dtypes: datetime64[ns](1), float64(2), int64(2), object(7)\n",
            "memory usage: 1.6+ MB\n"
          ]
        }
      ]
    },
    {
      "cell_type": "markdown",
      "metadata": {
        "id": "0d41UL02O3ky"
      },
      "source": [
        "### Looks good! Let's dig into the data more."
      ]
    },
    {
      "cell_type": "code",
      "metadata": {
        "colab": {
          "base_uri": "https://localhost:8080/",
          "height": 319
        },
        "id": "-4atIOtal1s6",
        "outputId": "762b8b26-b9bc-4fcc-ac71-114ef97915cc"
      },
      "source": [
        "df.describe(include='all', datetime_is_numeric=True) # including \"all\" as a parameter in df.describe gives us info on non numeric fields as well "
      ],
      "execution_count": null,
      "outputs": [
        {
          "output_type": "execute_result",
          "data": {
            "application/vnd.google.colaboratory.module+javascript": "\n      import \"https://ssl.gstatic.com/colaboratory/data_table/a6224c040fa35dcf/data_table.js\";\n\n      window.createDataTable({\n        data: [[\"count\",\n17554,\n7554,\n17554,\n{\n            'v': 7554.0,\n            'f': \"7554.0\",\n        },\n{\n            'v': 7554.0,\n            'f': \"7554.0\",\n        },\n17554,\n{\n            'v': 17554.0,\n            'f': \"17554.0\",\n        },\n17554,\n17554,\n17554,\n{\n            'v': 17554.0,\n            'f': \"17554.0\",\n        },\n17554],\n [\"unique\",\n2,\n682,\n1524,\n{\n            'v': NaN,\n            'f': \"NaN\",\n        },\n{\n            'v': NaN,\n            'f': \"NaN\",\n        },\nNaN,\n{\n            'v': NaN,\n            'f': \"NaN\",\n        },\n2,\n5,\n7,\n{\n            'v': NaN,\n            'f': \"NaN\",\n        },\n4007],\n [\"top\",\n\"Claimed\",\n\"Hemba\",\n\"12800693\",\n{\n            'v': NaN,\n            'f': \"NaN\",\n        },\n{\n            'v': NaN,\n            'f': \"NaN\",\n        },\nNaN,\n{\n            'v': NaN,\n            'f': \"NaN\",\n        },\n\"Guy\",\n\"Male\",\n\"Mid\",\n{\n            'v': NaN,\n            'f': \"NaN\",\n        },\n\"2213293500%\"],\n [\"freq\",\n10000,\n1058,\n990,\n{\n            'v': NaN,\n            'f': \"NaN\",\n        },\n{\n            'v': NaN,\n            'f': \"NaN\",\n        },\nNaN,\n{\n            'v': NaN,\n            'f': \"NaN\",\n        },\n11379,\n11152,\n5307,\n{\n            'v': NaN,\n            'f': \"NaN\",\n        },\n45],\n [\"mean\",\nNaN,\nNaN,\nNaN,\n{\n            'v': 2.389854381784474,\n            'f': \"2.389854381784474\",\n        },\n{\n            'v': 867.3050330950487,\n            'f': \"867.3050330950487\",\n        },\n\"2018-06-05 21:18:33.592233216\",\n{\n            'v': 5193.788481257833,\n            'f': \"5193.788481257833\",\n        },\nNaN,\nNaN,\nNaN,\n{\n            'v': 2.7782271846872506,\n            'f': \"2.7782271846872506\",\n        },\nNaN],\n [\"min\",\nNaN,\nNaN,\nNaN,\n{\n            'v': 0.01,\n            'f': \"0.01\",\n        },\n{\n            'v': 0.01,\n            'f': \"0.01\",\n        },\n\"2017-06-23 00:00:00\",\n{\n            'v': 0.0,\n            'f': \"0.0\",\n        },\nNaN,\nNaN,\nNaN,\n{\n            'v': 0.0,\n            'f': \"0.0\",\n        },\nNaN],\n [\"25%\",\nNaN,\nNaN,\nNaN,\n{\n            'v': 0.3,\n            'f': \"0.3\",\n        },\n{\n            'v': 72.0,\n            'f': \"72.0\",\n        },\n\"2017-06-23 00:00:00\",\n{\n            'v': 2906.0,\n            'f': \"2906.0\",\n        },\nNaN,\nNaN,\nNaN,\n{\n            'v': 2.0,\n            'f': \"2.0\",\n        },\nNaN],\n [\"50%\",\nNaN,\nNaN,\nNaN,\n{\n            'v': 1.0,\n            'f': \"1.0\",\n        },\n{\n            'v': 232.5,\n            'f': \"232.5\",\n        },\n\"2017-06-23 00:00:00\",\n{\n            'v': 5189.0,\n            'f': \"5189.0\",\n        },\nNaN,\nNaN,\nNaN,\n{\n            'v': 3.0,\n            'f': \"3.0\",\n        },\nNaN],\n [\"75%\",\nNaN,\nNaN,\nNaN,\n{\n            'v': 2.9,\n            'f': \"2.9\",\n        },\n{\n            'v': 1003.25,\n            'f': \"1003.25\",\n        },\n\"2019-12-09 00:00:00\",\n{\n            'v': 7557.0,\n            'f': \"7557.0\",\n        },\nNaN,\nNaN,\nNaN,\n{\n            'v': 3.0,\n            'f': \"3.0\",\n        },\nNaN],\n [\"max\",\nNaN,\nNaN,\nNaN,\n{\n            'v': 189.99,\n            'f': \"189.99\",\n        },\n{\n            'v': 137522.0,\n            'f': \"137522.0\",\n        },\n\"2020-12-30 00:00:00\",\n{\n            'v': 9999.0,\n            'f': \"9999.0\",\n        },\nNaN,\nNaN,\nNaN,\n{\n            'v': 7.0,\n            'f': \"7.0\",\n        },\nNaN],\n [\"std\",\nNaN,\nNaN,\nNaN,\n{\n            'v': 6.118331269565141,\n            'f': \"6.118331269565141\",\n        },\n{\n            'v': 2833.2659128717523,\n            'f': \"2833.2659128717523\",\n        },\nNaN,\n{\n            'v': 2757.6903930594935,\n            'f': \"2757.6903930594935\",\n        },\nNaN,\nNaN,\nNaN,\n{\n            'v': 0.799277519074316,\n            'f': \"0.799277519074316\",\n        },\nNaN]],\n        columns: [[\"string\", \"index\"], [\"string\", \"Transaction\"], [\"string\", \"From\"], [\"string\", \"To\"], [\"number\", \"Crypto\"], [\"number\", \"USD\"], [\"string\", \"Txn\"], [\"number\", \"ID\"], [\"string\", \"Sex\"], [\"string\", \"Type\"], [\"string\", \"Skin\"], [\"number\", \"Slots\"], [\"string\", \"Rank\"]],\n        columnOptions: [{\"width\": \"1px\", \"className\": \"index_column\"}],\n        rowsPerPage: 25,\n        helpUrl: \"https://colab.research.google.com/notebooks/data_table.ipynb\",\n        suppressOutputScrolling: true,\n        minimumWidth: undefined,\n      });\n    ",
            "text/html": [
              "<div>\n",
              "<style scoped>\n",
              "    .dataframe tbody tr th:only-of-type {\n",
              "        vertical-align: middle;\n",
              "    }\n",
              "\n",
              "    .dataframe tbody tr th {\n",
              "        vertical-align: top;\n",
              "    }\n",
              "\n",
              "    .dataframe thead th {\n",
              "        text-align: right;\n",
              "    }\n",
              "</style>\n",
              "<table border=\"1\" class=\"dataframe\">\n",
              "  <thead>\n",
              "    <tr style=\"text-align: right;\">\n",
              "      <th></th>\n",
              "      <th>Transaction</th>\n",
              "      <th>From</th>\n",
              "      <th>To</th>\n",
              "      <th>Crypto</th>\n",
              "      <th>USD</th>\n",
              "      <th>Txn</th>\n",
              "      <th>ID</th>\n",
              "      <th>Sex</th>\n",
              "      <th>Type</th>\n",
              "      <th>Skin</th>\n",
              "      <th>Slots</th>\n",
              "      <th>Rank</th>\n",
              "    </tr>\n",
              "  </thead>\n",
              "  <tbody>\n",
              "    <tr>\n",
              "      <th>count</th>\n",
              "      <td>17554</td>\n",
              "      <td>7554</td>\n",
              "      <td>17554</td>\n",
              "      <td>7554.000000</td>\n",
              "      <td>7554.000000</td>\n",
              "      <td>17554</td>\n",
              "      <td>17554.000000</td>\n",
              "      <td>17554</td>\n",
              "      <td>17554</td>\n",
              "      <td>17554</td>\n",
              "      <td>17554.000000</td>\n",
              "      <td>17554</td>\n",
              "    </tr>\n",
              "    <tr>\n",
              "      <th>unique</th>\n",
              "      <td>2</td>\n",
              "      <td>682</td>\n",
              "      <td>1524</td>\n",
              "      <td>NaN</td>\n",
              "      <td>NaN</td>\n",
              "      <td>NaN</td>\n",
              "      <td>NaN</td>\n",
              "      <td>2</td>\n",
              "      <td>5</td>\n",
              "      <td>7</td>\n",
              "      <td>NaN</td>\n",
              "      <td>4007</td>\n",
              "    </tr>\n",
              "    <tr>\n",
              "      <th>top</th>\n",
              "      <td>Claimed</td>\n",
              "      <td>Hemba</td>\n",
              "      <td>12800693</td>\n",
              "      <td>NaN</td>\n",
              "      <td>NaN</td>\n",
              "      <td>NaN</td>\n",
              "      <td>NaN</td>\n",
              "      <td>Guy</td>\n",
              "      <td>Male</td>\n",
              "      <td>Mid</td>\n",
              "      <td>NaN</td>\n",
              "      <td>2213293500%</td>\n",
              "    </tr>\n",
              "    <tr>\n",
              "      <th>freq</th>\n",
              "      <td>10000</td>\n",
              "      <td>1058</td>\n",
              "      <td>990</td>\n",
              "      <td>NaN</td>\n",
              "      <td>NaN</td>\n",
              "      <td>NaN</td>\n",
              "      <td>NaN</td>\n",
              "      <td>11379</td>\n",
              "      <td>11152</td>\n",
              "      <td>5307</td>\n",
              "      <td>NaN</td>\n",
              "      <td>45</td>\n",
              "    </tr>\n",
              "    <tr>\n",
              "      <th>mean</th>\n",
              "      <td>NaN</td>\n",
              "      <td>NaN</td>\n",
              "      <td>NaN</td>\n",
              "      <td>2.389854</td>\n",
              "      <td>867.305033</td>\n",
              "      <td>2018-06-05 21:18:33.592233216</td>\n",
              "      <td>5193.788481</td>\n",
              "      <td>NaN</td>\n",
              "      <td>NaN</td>\n",
              "      <td>NaN</td>\n",
              "      <td>2.778227</td>\n",
              "      <td>NaN</td>\n",
              "    </tr>\n",
              "    <tr>\n",
              "      <th>min</th>\n",
              "      <td>NaN</td>\n",
              "      <td>NaN</td>\n",
              "      <td>NaN</td>\n",
              "      <td>0.010000</td>\n",
              "      <td>0.010000</td>\n",
              "      <td>2017-06-23 00:00:00</td>\n",
              "      <td>0.000000</td>\n",
              "      <td>NaN</td>\n",
              "      <td>NaN</td>\n",
              "      <td>NaN</td>\n",
              "      <td>0.000000</td>\n",
              "      <td>NaN</td>\n",
              "    </tr>\n",
              "    <tr>\n",
              "      <th>25%</th>\n",
              "      <td>NaN</td>\n",
              "      <td>NaN</td>\n",
              "      <td>NaN</td>\n",
              "      <td>0.300000</td>\n",
              "      <td>72.000000</td>\n",
              "      <td>2017-06-23 00:00:00</td>\n",
              "      <td>2906.000000</td>\n",
              "      <td>NaN</td>\n",
              "      <td>NaN</td>\n",
              "      <td>NaN</td>\n",
              "      <td>2.000000</td>\n",
              "      <td>NaN</td>\n",
              "    </tr>\n",
              "    <tr>\n",
              "      <th>50%</th>\n",
              "      <td>NaN</td>\n",
              "      <td>NaN</td>\n",
              "      <td>NaN</td>\n",
              "      <td>1.000000</td>\n",
              "      <td>232.500000</td>\n",
              "      <td>2017-06-23 00:00:00</td>\n",
              "      <td>5189.000000</td>\n",
              "      <td>NaN</td>\n",
              "      <td>NaN</td>\n",
              "      <td>NaN</td>\n",
              "      <td>3.000000</td>\n",
              "      <td>NaN</td>\n",
              "    </tr>\n",
              "    <tr>\n",
              "      <th>75%</th>\n",
              "      <td>NaN</td>\n",
              "      <td>NaN</td>\n",
              "      <td>NaN</td>\n",
              "      <td>2.900000</td>\n",
              "      <td>1003.250000</td>\n",
              "      <td>2019-12-09 00:00:00</td>\n",
              "      <td>7557.000000</td>\n",
              "      <td>NaN</td>\n",
              "      <td>NaN</td>\n",
              "      <td>NaN</td>\n",
              "      <td>3.000000</td>\n",
              "      <td>NaN</td>\n",
              "    </tr>\n",
              "    <tr>\n",
              "      <th>max</th>\n",
              "      <td>NaN</td>\n",
              "      <td>NaN</td>\n",
              "      <td>NaN</td>\n",
              "      <td>189.990000</td>\n",
              "      <td>137522.000000</td>\n",
              "      <td>2020-12-30 00:00:00</td>\n",
              "      <td>9999.000000</td>\n",
              "      <td>NaN</td>\n",
              "      <td>NaN</td>\n",
              "      <td>NaN</td>\n",
              "      <td>7.000000</td>\n",
              "      <td>NaN</td>\n",
              "    </tr>\n",
              "    <tr>\n",
              "      <th>std</th>\n",
              "      <td>NaN</td>\n",
              "      <td>NaN</td>\n",
              "      <td>NaN</td>\n",
              "      <td>6.118331</td>\n",
              "      <td>2833.265913</td>\n",
              "      <td>NaN</td>\n",
              "      <td>2757.690393</td>\n",
              "      <td>NaN</td>\n",
              "      <td>NaN</td>\n",
              "      <td>NaN</td>\n",
              "      <td>0.799278</td>\n",
              "      <td>NaN</td>\n",
              "    </tr>\n",
              "  </tbody>\n",
              "</table>\n",
              "</div>"
            ],
            "text/plain": [
              "       Transaction   From        To  ...   Skin         Slots         Rank\n",
              "count        17554   7554     17554  ...  17554  17554.000000        17554\n",
              "unique           2    682      1524  ...      7           NaN         4007\n",
              "top        Claimed  Hemba  12800693  ...    Mid           NaN  2213293500%\n",
              "freq         10000   1058       990  ...   5307           NaN           45\n",
              "mean           NaN    NaN       NaN  ...    NaN      2.778227          NaN\n",
              "min            NaN    NaN       NaN  ...    NaN      0.000000          NaN\n",
              "25%            NaN    NaN       NaN  ...    NaN      2.000000          NaN\n",
              "50%            NaN    NaN       NaN  ...    NaN      3.000000          NaN\n",
              "75%            NaN    NaN       NaN  ...    NaN      3.000000          NaN\n",
              "max            NaN    NaN       NaN  ...    NaN      7.000000          NaN\n",
              "std            NaN    NaN       NaN  ...    NaN      0.799278          NaN\n",
              "\n",
              "[11 rows x 12 columns]"
            ]
          },
          "metadata": {},
          "execution_count": 11
        }
      ]
    },
    {
      "cell_type": "markdown",
      "metadata": {
        "id": "KqfMCO6oJwU2"
      },
      "source": [
        "### Initial thoughts after first pass at this data:\n",
        "1. There are 17554 transactions in this dataset, and 10019 of them occurred on Jun 23, 2017 when the punks were first made available. The top transaction type is \"Claimed.\" **More than half of our transactions in this dataset are from the initial 'claims' of the punks.**\n",
        "\n",
        "2. The \"From\" and \"To\" fields indicate the number of unique users who transacted in this dataset. **Interesting that with 10,000 punks, there are only 682 unique users on the selling side of the transaction, with 1524 users on the buying/claiming side of the transaction.**\n",
        "\n",
        "3. The \"Sex,\" \"Type,\" and \"Skin\" columns refer to descriptive Punks attributes. The ID is the Punk identifier. \"Slots\" and \"Rank\" offer additional data about the sales of the Punks.\n",
        "\n",
        "4. Ethereum addresses are 40 character hexadecimal strings. However, in this dataset, the \"From\" and \"To\" columns, which show the Eth addresses of the users buying and selling the Punks, have been shortened to 8 characters. Some addresses also use a name instead of the shortened hex string.\n",
        "\n",
        "5. The column titled \"Crypto\" is referring to the cryptocurrency Ether. **With a mean of 2.39 Eth/857.31 USD and a standard deviation of 6.12 Eth/2833.27 USD, we have a lot of variation in our data.** Let's take a look at it in a scatterplot."
      ]
    },
    {
      "cell_type": "code",
      "metadata": {
        "colab": {
          "base_uri": "https://localhost:8080/",
          "height": 428
        },
        "id": "GeCy3864NYyp",
        "outputId": "30a3db18-e46c-4c3a-f1d3-e4348732ff0d"
      },
      "source": [
        "plt.figure(figsize=(12, 6))\n",
        "sns.set(style=\"darkgrid\")\n",
        "sns.scatterplot(x=df.Txn, y=df.USD, hue = df.Type).set(title='2017 - 2020 Punks Purchases')"
      ],
      "execution_count": null,
      "outputs": [
        {
          "output_type": "execute_result",
          "data": {
            "text/plain": [
              "[Text(0.5, 1.0, '2017 - 2020 Punks Purchases')]"
            ]
          },
          "metadata": {},
          "execution_count": 12
        },
        {
          "output_type": "display_data",
          "data": {
            "image/png": "[encoded data removed]",
            "text/plain": [
              "<Figure size 864x432 with 1 Axes>"
            ]
          },
          "metadata": {
            "needs_background": "light"
          }
        }
      ]
    },
    {
      "cell_type": "markdown",
      "metadata": {
        "id": "A4mglVn2Pnsi"
      },
      "source": [
        "### There was very little CryptoPunks sales activity until 2020, but summer through fall of 2020 became much more active. There also appears to be a few outliers in our data."
      ]
    },
    {
      "cell_type": "markdown",
      "metadata": {
        "id": "P3tFRMxPf3c9"
      },
      "source": [
        "### It is great to be looking at understandable blockchain data, but what if you need to access raw blockchain data and clean it yourself? "
      ]
    },
    {
      "cell_type": "markdown",
      "metadata": {
        "id": "f_Q1S0zoHf1z"
      },
      "source": [
        "### Now let's bring in 2021's data from Flipside Crypto using the process I introduced in Part 1."
      ]
    },
    {
      "cell_type": "code",
      "metadata": {
        "colab": {
          "base_uri": "https://localhost:8080/"
        },
        "id": "e6osvmb6HYEq",
        "outputId": "b864090b-6e04-4ff4-b21f-928412203e80"
      },
      "source": [
        "url = ('https://api.flipsidecrypto.com/api/v2/queries/99990404-5727-40cb-989a-f9d66738bdca/data/latest')\n",
        "\n",
        "response = requests.get(url)  \n",
        "\n",
        "print(f\"Request returned {response.status_code} : '{response.reason}'\")\n",
        "\n",
        "payload = response.json()\n",
        "\n",
        "# uncomment the following lines if you'd like to see the first row of data being returned from the API\n",
        "# import pprint\n",
        "# pp = pprint.PrettyPrinter(indent=1)\n",
        "# pp.pprint(payload[0])"
      ],
      "execution_count": null,
      "outputs": [
        {
          "output_type": "stream",
          "name": "stdout",
          "text": [
            "Request returned 200 : 'OK'\n"
          ]
        }
      ]
    },
    {
      "cell_type": "markdown",
      "metadata": {
        "id": "2dq7j-6FHsY6"
      },
      "source": [
        "### Using json.normalize helps to unpack the json response"
      ]
    },
    {
      "cell_type": "code",
      "metadata": {
        "id": "J9ipMNK6HYBY"
      },
      "source": [
        "df_flip = pd.json_normalize(payload)"
      ],
      "execution_count": null,
      "outputs": []
    },
    {
      "cell_type": "code",
      "metadata": {
        "colab": {
          "base_uri": "https://localhost:8080/",
          "height": 532
        },
        "id": "h4e405gqHX-k",
        "outputId": "01ca1463-6c4c-4c7b-c4b9-d9c5523ba389"
      },
      "source": [
        "df_flip.head()"
      ],
      "execution_count": null,
      "outputs": [
        {
          "output_type": "execute_result",
          "data": {
            "application/vnd.google.colaboratory.module+javascript": "\n      import \"https://ssl.gstatic.com/colaboratory/data_table/a6224c040fa35dcf/data_table.js\";\n\n      window.createDataTable({\n        data: [[{\n            'v': 0,\n            'f': \"0\",\n        },\n{\n            'v': 11034736,\n            'f': \"11034736\",\n        },\n\"2020-10-11T14:26:11Z\",\n\"0xb47e3cd837ddf8e4c57f05d70ab865de6e193bbb\",\n\"cryptopunks c token\",\n{\n            'v': 126,\n            'f': \"126\",\n        },\n\"{\\n  \\\"fromAddress\\\": \\\"0x94de7e2c73529ebf3206aa3459e699fbcdfcd49b\\\",\\n  \\\"punkIndex\\\": 4779,\\n  \\\"toAddress\\\": \\\"0x792b37c2244ecc0bc18ad193498f17b27efae7d9\\\",\\n  \\\"value\\\": 7500000000000000000\\n}\",\n\"PunkBought\",\nfalse,\n\"0x792b37c2244ecc0bc18ad193498f17b27efae7d9\",\n{\n            'v': null,\n            'f': \"null\",\n        },\n{\n            'v': null,\n            'f': \"null\",\n        },\n{\n            'v': null,\n            'f': \"null\",\n        },\n{\n            'v': null,\n            'f': \"null\",\n        },\n\"0x108af624f688703cdeb7100c6ab34b23be301d314c756cf03a9ac624128bb120\",\ntrue,\n\"0xb47e3cd837ddf8e4c57f05d70ab865de6e193bbb\",\n\"cryptopunks c token\",\n\"cryptopunks\",\n\"token_contract\",\n\"nft\"],\n [{\n            'v': 1,\n            'f': \"1\",\n        },\n{\n            'v': 11035115,\n            'f': \"11035115\",\n        },\n\"2020-10-11T15:50:59Z\",\n\"0xb47e3cd837ddf8e4c57f05d70ab865de6e193bbb\",\n\"cryptopunks c token\",\n{\n            'v': 205,\n            'f': \"205\",\n        },\n\"{\\n  \\\"fromAddress\\\": \\\"0x037e2847c769d20564502183f524f88baa06b389\\\",\\n  \\\"punkIndex\\\": 7132,\\n  \\\"toAddress\\\": \\\"0x2d9d722a36cb5fa377366ed725d58199e11aa5da\\\",\\n  \\\"value\\\": 4400000000000000000\\n}\",\n\"PunkBought\",\nfalse,\n\"0x2d9d722a36cb5fa377366ed725d58199e11aa5da\",\n{\n            'v': null,\n            'f': \"null\",\n        },\n{\n            'v': null,\n            'f': \"null\",\n        },\n{\n            'v': null,\n            'f': \"null\",\n        },\n{\n            'v': null,\n            'f': \"null\",\n        },\n\"0xf2dfbabb45129581285766ba60a788823fdf4841ac36481b36ab3141f62e92a1\",\ntrue,\n\"0xb47e3cd837ddf8e4c57f05d70ab865de6e193bbb\",\n\"cryptopunks c token\",\n\"cryptopunks\",\n\"token_contract\",\n\"nft\"],\n [{\n            'v': 2,\n            'f': \"2\",\n        },\n{\n            'v': 11054057,\n            'f': \"11054057\",\n        },\n\"2020-10-14T13:31:19Z\",\n\"0xb47e3cd837ddf8e4c57f05d70ab865de6e193bbb\",\n\"cryptopunks c token\",\n{\n            'v': 185,\n            'f': \"185\",\n        },\n\"{\\n  \\\"fromAddress\\\": \\\"0xa3cb30128532f43fe1c8a9f4c19422aa631307a9\\\",\\n  \\\"punkIndex\\\": 2049,\\n  \\\"toAddress\\\": \\\"0x792b37c2244ecc0bc18ad193498f17b27efae7d9\\\",\\n  \\\"value\\\": -5946744073709551616\\n}\",\n\"PunkBought\",\nfalse,\n\"0x792b37c2244ecc0bc18ad193498f17b27efae7d9\",\n{\n            'v': null,\n            'f': \"null\",\n        },\n{\n            'v': null,\n            'f': \"null\",\n        },\n{\n            'v': null,\n            'f': \"null\",\n        },\n{\n            'v': null,\n            'f': \"null\",\n        },\n\"0x540f57b8f591322c51a922b63c363220e85d0280cc19377dc377758a85109973\",\ntrue,\n\"0xb47e3cd837ddf8e4c57f05d70ab865de6e193bbb\",\n\"cryptopunks c token\",\n\"cryptopunks\",\n\"token_contract\",\n\"nft\"],\n [{\n            'v': 3,\n            'f': \"3\",\n        },\n{\n            'v': 11060495,\n            'f': \"11060495\",\n        },\n\"2020-10-15T12:59:51Z\",\n\"0xb47e3cd837ddf8e4c57f05d70ab865de6e193bbb\",\n\"cryptopunks c token\",\n{\n            'v': 351,\n            'f': \"351\",\n        },\n\"{\\n  \\\"fromAddress\\\": \\\"0x0713a6c6fd18b2c7e687c4b6f5c4dd941c4c3bc0\\\",\\n  \\\"punkIndex\\\": 1234,\\n  \\\"toAddress\\\": \\\"0xce810c1ca6390063aca6c16adc095b2f0603c4ba\\\",\\n  \\\"value\\\": 5500000000000000000\\n}\",\n\"PunkBought\",\nfalse,\n\"0xce810c1ca6390063aca6c16adc095b2f0603c4ba\",\n{\n            'v': null,\n            'f': \"null\",\n        },\n{\n            'v': null,\n            'f': \"null\",\n        },\n{\n            'v': null,\n            'f': \"null\",\n        },\n{\n            'v': null,\n            'f': \"null\",\n        },\n\"0x748dfa5c2126bbf12077ee3cd3a15011db12408b298bba221c5be9dddd7b68ca\",\ntrue,\n\"0xb47e3cd837ddf8e4c57f05d70ab865de6e193bbb\",\n\"cryptopunks c token\",\n\"cryptopunks\",\n\"token_contract\",\n\"nft\"],\n [{\n            'v': 4,\n            'f': \"4\",\n        },\n{\n            'v': 11067502,\n            'f': \"11067502\",\n        },\n\"2020-10-16T14:35:11Z\",\n\"0xb47e3cd837ddf8e4c57f05d70ab865de6e193bbb\",\n\"cryptopunks c token\",\n{\n            'v': 29,\n            'f': \"29\",\n        },\n\"{\\n  \\\"fromAddress\\\": \\\"0x927635591fd15026144604f223c2313e5909c609\\\",\\n  \\\"punkIndex\\\": 6931,\\n  \\\"toAddress\\\": \\\"0x2a538000a53f38d89f37fa43a301cee2c0f9e331\\\",\\n  \\\"value\\\": 5000000000000000000\\n}\",\n\"PunkBought\",\nfalse,\n\"0x2a538000a53f38d89f37fa43a301cee2c0f9e331\",\n{\n            'v': null,\n            'f': \"null\",\n        },\n{\n            'v': null,\n            'f': \"null\",\n        },\n{\n            'v': null,\n            'f': \"null\",\n        },\n{\n            'v': null,\n            'f': \"null\",\n        },\n\"0x6c72243fa1dc17ddcb63df7e46c0c07b2b8bca7f511627ce21e2cadc551b4985\",\ntrue,\n\"0xb47e3cd837ddf8e4c57f05d70ab865de6e193bbb\",\n\"cryptopunks c token\",\n\"cryptopunks\",\n\"token_contract\",\n\"nft\"]],\n        columns: [[\"number\", \"index\"], [\"number\", \"BLOCK_ID\"], [\"string\", \"BLOCK_TIMESTAMP\"], [\"string\", \"CONTRACT_ADDRESS\"], [\"string\", \"CONTRACT_NAME\"], [\"number\", \"EVENT_INDEX\"], [\"string\", \"EVENT_INPUTS\"], [\"string\", \"EVENT_NAME\"], [\"string\", \"EVENT_REMOVED\"], [\"string\", \"TX_FROM_ADDRESS\"], [\"number\", \"TX_FROM_ADDRESS_NAME\"], [\"number\", \"TX_FROM_LABEL\"], [\"number\", \"TX_FROM_LABEL_SUBTYPE\"], [\"number\", \"TX_FROM_LABEL_TYPE\"], [\"string\", \"TX_ID\"], [\"string\", \"TX_SUCCEEDED\"], [\"string\", \"TX_TO_ADDRESS\"], [\"string\", \"TX_TO_ADDRESS_NAME\"], [\"string\", \"TX_TO_LABEL\"], [\"string\", \"TX_TO_LABEL_SUBTYPE\"], [\"string\", \"TX_TO_LABEL_TYPE\"]],\n        columnOptions: [{\"width\": \"1px\", \"className\": \"index_column\"}],\n        rowsPerPage: 25,\n        helpUrl: \"https://colab.research.google.com/notebooks/data_table.ipynb\",\n        suppressOutputScrolling: true,\n        minimumWidth: undefined,\n      });\n    ",
            "text/html": [
              "<div>\n",
              "<style scoped>\n",
              "    .dataframe tbody tr th:only-of-type {\n",
              "        vertical-align: middle;\n",
              "    }\n",
              "\n",
              "    .dataframe tbody tr th {\n",
              "        vertical-align: top;\n",
              "    }\n",
              "\n",
              "    .dataframe thead th {\n",
              "        text-align: right;\n",
              "    }\n",
              "</style>\n",
              "<table border=\"1\" class=\"dataframe\">\n",
              "  <thead>\n",
              "    <tr style=\"text-align: right;\">\n",
              "      <th></th>\n",
              "      <th>BLOCK_ID</th>\n",
              "      <th>BLOCK_TIMESTAMP</th>\n",
              "      <th>CONTRACT_ADDRESS</th>\n",
              "      <th>CONTRACT_NAME</th>\n",
              "      <th>EVENT_INDEX</th>\n",
              "      <th>EVENT_INPUTS</th>\n",
              "      <th>EVENT_NAME</th>\n",
              "      <th>EVENT_REMOVED</th>\n",
              "      <th>TX_FROM_ADDRESS</th>\n",
              "      <th>TX_FROM_ADDRESS_NAME</th>\n",
              "      <th>TX_FROM_LABEL</th>\n",
              "      <th>TX_FROM_LABEL_SUBTYPE</th>\n",
              "      <th>TX_FROM_LABEL_TYPE</th>\n",
              "      <th>TX_ID</th>\n",
              "      <th>TX_SUCCEEDED</th>\n",
              "      <th>TX_TO_ADDRESS</th>\n",
              "      <th>TX_TO_ADDRESS_NAME</th>\n",
              "      <th>TX_TO_LABEL</th>\n",
              "      <th>TX_TO_LABEL_SUBTYPE</th>\n",
              "      <th>TX_TO_LABEL_TYPE</th>\n",
              "    </tr>\n",
              "  </thead>\n",
              "  <tbody>\n",
              "    <tr>\n",
              "      <th>0</th>\n",
              "      <td>11034736</td>\n",
              "      <td>2020-10-11T14:26:11Z</td>\n",
              "      <td>0xb47e3cd837ddf8e4c57f05d70ab865de6e193bbb</td>\n",
              "      <td>cryptopunks c token</td>\n",
              "      <td>126</td>\n",
              "      <td>{\\n  \"fromAddress\": \"0x94de7e2c73529ebf3206aa3...</td>\n",
              "      <td>PunkBought</td>\n",
              "      <td>False</td>\n",
              "      <td>0x792b37c2244ecc0bc18ad193498f17b27efae7d9</td>\n",
              "      <td>None</td>\n",
              "      <td>None</td>\n",
              "      <td>None</td>\n",
              "      <td>None</td>\n",
              "      <td>0x108af624f688703cdeb7100c6ab34b23be301d314c75...</td>\n",
              "      <td>True</td>\n",
              "      <td>0xb47e3cd837ddf8e4c57f05d70ab865de6e193bbb</td>\n",
              "      <td>cryptopunks c token</td>\n",
              "      <td>cryptopunks</td>\n",
              "      <td>token_contract</td>\n",
              "      <td>nft</td>\n",
              "    </tr>\n",
              "    <tr>\n",
              "      <th>1</th>\n",
              "      <td>11035115</td>\n",
              "      <td>2020-10-11T15:50:59Z</td>\n",
              "      <td>0xb47e3cd837ddf8e4c57f05d70ab865de6e193bbb</td>\n",
              "      <td>cryptopunks c token</td>\n",
              "      <td>205</td>\n",
              "      <td>{\\n  \"fromAddress\": \"0x037e2847c769d2056450218...</td>\n",
              "      <td>PunkBought</td>\n",
              "      <td>False</td>\n",
              "      <td>0x2d9d722a36cb5fa377366ed725d58199e11aa5da</td>\n",
              "      <td>None</td>\n",
              "      <td>None</td>\n",
              "      <td>None</td>\n",
              "      <td>None</td>\n",
              "      <td>0xf2dfbabb45129581285766ba60a788823fdf4841ac36...</td>\n",
              "      <td>True</td>\n",
              "      <td>0xb47e3cd837ddf8e4c57f05d70ab865de6e193bbb</td>\n",
              "      <td>cryptopunks c token</td>\n",
              "      <td>cryptopunks</td>\n",
              "      <td>token_contract</td>\n",
              "      <td>nft</td>\n",
              "    </tr>\n",
              "    <tr>\n",
              "      <th>2</th>\n",
              "      <td>11054057</td>\n",
              "      <td>2020-10-14T13:31:19Z</td>\n",
              "      <td>0xb47e3cd837ddf8e4c57f05d70ab865de6e193bbb</td>\n",
              "      <td>cryptopunks c token</td>\n",
              "      <td>185</td>\n",
              "      <td>{\\n  \"fromAddress\": \"0xa3cb30128532f43fe1c8a9f...</td>\n",
              "      <td>PunkBought</td>\n",
              "      <td>False</td>\n",
              "      <td>0x792b37c2244ecc0bc18ad193498f17b27efae7d9</td>\n",
              "      <td>None</td>\n",
              "      <td>None</td>\n",
              "      <td>None</td>\n",
              "      <td>None</td>\n",
              "      <td>0x540f57b8f591322c51a922b63c363220e85d0280cc19...</td>\n",
              "      <td>True</td>\n",
              "      <td>0xb47e3cd837ddf8e4c57f05d70ab865de6e193bbb</td>\n",
              "      <td>cryptopunks c token</td>\n",
              "      <td>cryptopunks</td>\n",
              "      <td>token_contract</td>\n",
              "      <td>nft</td>\n",
              "    </tr>\n",
              "    <tr>\n",
              "      <th>3</th>\n",
              "      <td>11060495</td>\n",
              "      <td>2020-10-15T12:59:51Z</td>\n",
              "      <td>0xb47e3cd837ddf8e4c57f05d70ab865de6e193bbb</td>\n",
              "      <td>cryptopunks c token</td>\n",
              "      <td>351</td>\n",
              "      <td>{\\n  \"fromAddress\": \"0x0713a6c6fd18b2c7e687c4b...</td>\n",
              "      <td>PunkBought</td>\n",
              "      <td>False</td>\n",
              "      <td>0xce810c1ca6390063aca6c16adc095b2f0603c4ba</td>\n",
              "      <td>None</td>\n",
              "      <td>None</td>\n",
              "      <td>None</td>\n",
              "      <td>None</td>\n",
              "      <td>0x748dfa5c2126bbf12077ee3cd3a15011db12408b298b...</td>\n",
              "      <td>True</td>\n",
              "      <td>0xb47e3cd837ddf8e4c57f05d70ab865de6e193bbb</td>\n",
              "      <td>cryptopunks c token</td>\n",
              "      <td>cryptopunks</td>\n",
              "      <td>token_contract</td>\n",
              "      <td>nft</td>\n",
              "    </tr>\n",
              "    <tr>\n",
              "      <th>4</th>\n",
              "      <td>11067502</td>\n",
              "      <td>2020-10-16T14:35:11Z</td>\n",
              "      <td>0xb47e3cd837ddf8e4c57f05d70ab865de6e193bbb</td>\n",
              "      <td>cryptopunks c token</td>\n",
              "      <td>29</td>\n",
              "      <td>{\\n  \"fromAddress\": \"0x927635591fd15026144604f...</td>\n",
              "      <td>PunkBought</td>\n",
              "      <td>False</td>\n",
              "      <td>0x2a538000a53f38d89f37fa43a301cee2c0f9e331</td>\n",
              "      <td>None</td>\n",
              "      <td>None</td>\n",
              "      <td>None</td>\n",
              "      <td>None</td>\n",
              "      <td>0x6c72243fa1dc17ddcb63df7e46c0c07b2b8bca7f5116...</td>\n",
              "      <td>True</td>\n",
              "      <td>0xb47e3cd837ddf8e4c57f05d70ab865de6e193bbb</td>\n",
              "      <td>cryptopunks c token</td>\n",
              "      <td>cryptopunks</td>\n",
              "      <td>token_contract</td>\n",
              "      <td>nft</td>\n",
              "    </tr>\n",
              "  </tbody>\n",
              "</table>\n",
              "</div>"
            ],
            "text/plain": [
              "   BLOCK_ID       BLOCK_TIMESTAMP  ... TX_TO_LABEL_SUBTYPE TX_TO_LABEL_TYPE\n",
              "0  11034736  2020-10-11T14:26:11Z  ...      token_contract              nft\n",
              "1  11035115  2020-10-11T15:50:59Z  ...      token_contract              nft\n",
              "2  11054057  2020-10-14T13:31:19Z  ...      token_contract              nft\n",
              "3  11060495  2020-10-15T12:59:51Z  ...      token_contract              nft\n",
              "4  11067502  2020-10-16T14:35:11Z  ...      token_contract              nft\n",
              "\n",
              "[5 rows x 20 columns]"
            ]
          },
          "metadata": {},
          "execution_count": 15
        }
      ]
    },
    {
      "cell_type": "markdown",
      "metadata": {
        "id": "_BlAv3DvH8uu"
      },
      "source": [
        "### Looks pretty good, but we still have a nested json result in our EVENT_INPUTS column. We'll use flat-table to unpack that"
      ]
    },
    {
      "cell_type": "code",
      "metadata": {
        "id": "ktdsr70dHX7v"
      },
      "source": [
        "df_flip['EVENT_INPUTS'] = df_flip['EVENT_INPUTS'].apply(lambda x:json.loads(x))\n",
        "df_flip = flat_table.normalize(df_flip)"
      ],
      "execution_count": null,
      "outputs": []
    },
    {
      "cell_type": "code",
      "metadata": {
        "colab": {
          "base_uri": "https://localhost:8080/",
          "height": 326
        },
        "id": "hHqgezc8HX4w",
        "outputId": "e7b7e134-06af-4111-8b06-b81ae533339d"
      },
      "source": [
        "df_flip.head()"
      ],
      "execution_count": null,
      "outputs": [
        {
          "output_type": "stream",
          "name": "stdout",
          "text": [
            "Warning: Total number of columns (24) exceeds max_columns (20). Falling back to pandas display.\n"
          ]
        },
        {
          "output_type": "execute_result",
          "data": {
            "text/html": [
              "<div>\n",
              "<style scoped>\n",
              "    .dataframe tbody tr th:only-of-type {\n",
              "        vertical-align: middle;\n",
              "    }\n",
              "\n",
              "    .dataframe tbody tr th {\n",
              "        vertical-align: top;\n",
              "    }\n",
              "\n",
              "    .dataframe thead th {\n",
              "        text-align: right;\n",
              "    }\n",
              "</style>\n",
              "<table border=\"1\" class=\"dataframe\">\n",
              "  <thead>\n",
              "    <tr style=\"text-align: right;\">\n",
              "      <th></th>\n",
              "      <th>index</th>\n",
              "      <th>BLOCK_ID</th>\n",
              "      <th>BLOCK_TIMESTAMP</th>\n",
              "      <th>CONTRACT_ADDRESS</th>\n",
              "      <th>CONTRACT_NAME</th>\n",
              "      <th>EVENT_INDEX</th>\n",
              "      <th>EVENT_NAME</th>\n",
              "      <th>EVENT_REMOVED</th>\n",
              "      <th>TX_FROM_ADDRESS</th>\n",
              "      <th>TX_FROM_ADDRESS_NAME</th>\n",
              "      <th>TX_FROM_LABEL</th>\n",
              "      <th>TX_FROM_LABEL_SUBTYPE</th>\n",
              "      <th>TX_FROM_LABEL_TYPE</th>\n",
              "      <th>TX_ID</th>\n",
              "      <th>TX_SUCCEEDED</th>\n",
              "      <th>TX_TO_ADDRESS</th>\n",
              "      <th>TX_TO_ADDRESS_NAME</th>\n",
              "      <th>TX_TO_LABEL</th>\n",
              "      <th>TX_TO_LABEL_SUBTYPE</th>\n",
              "      <th>TX_TO_LABEL_TYPE</th>\n",
              "      <th>EVENT_INPUTS.value</th>\n",
              "      <th>EVENT_INPUTS.toAddress</th>\n",
              "      <th>EVENT_INPUTS.punkIndex</th>\n",
              "      <th>EVENT_INPUTS.fromAddress</th>\n",
              "    </tr>\n",
              "  </thead>\n",
              "  <tbody>\n",
              "    <tr>\n",
              "      <th>0</th>\n",
              "      <td>0</td>\n",
              "      <td>11034736</td>\n",
              "      <td>2020-10-11T14:26:11Z</td>\n",
              "      <td>0xb47e3cd837ddf8e4c57f05d70ab865de6e193bbb</td>\n",
              "      <td>cryptopunks c token</td>\n",
              "      <td>126</td>\n",
              "      <td>PunkBought</td>\n",
              "      <td>False</td>\n",
              "      <td>0x792b37c2244ecc0bc18ad193498f17b27efae7d9</td>\n",
              "      <td>None</td>\n",
              "      <td>None</td>\n",
              "      <td>None</td>\n",
              "      <td>None</td>\n",
              "      <td>0x108af624f688703cdeb7100c6ab34b23be301d314c75...</td>\n",
              "      <td>True</td>\n",
              "      <td>0xb47e3cd837ddf8e4c57f05d70ab865de6e193bbb</td>\n",
              "      <td>cryptopunks c token</td>\n",
              "      <td>cryptopunks</td>\n",
              "      <td>token_contract</td>\n",
              "      <td>nft</td>\n",
              "      <td>7500000000000000000</td>\n",
              "      <td>0x792b37c2244ecc0bc18ad193498f17b27efae7d9</td>\n",
              "      <td>4779</td>\n",
              "      <td>0x94de7e2c73529ebf3206aa3459e699fbcdfcd49b</td>\n",
              "    </tr>\n",
              "    <tr>\n",
              "      <th>1</th>\n",
              "      <td>1</td>\n",
              "      <td>11035115</td>\n",
              "      <td>2020-10-11T15:50:59Z</td>\n",
              "      <td>0xb47e3cd837ddf8e4c57f05d70ab865de6e193bbb</td>\n",
              "      <td>cryptopunks c token</td>\n",
              "      <td>205</td>\n",
              "      <td>PunkBought</td>\n",
              "      <td>False</td>\n",
              "      <td>0x2d9d722a36cb5fa377366ed725d58199e11aa5da</td>\n",
              "      <td>None</td>\n",
              "      <td>None</td>\n",
              "      <td>None</td>\n",
              "      <td>None</td>\n",
              "      <td>0xf2dfbabb45129581285766ba60a788823fdf4841ac36...</td>\n",
              "      <td>True</td>\n",
              "      <td>0xb47e3cd837ddf8e4c57f05d70ab865de6e193bbb</td>\n",
              "      <td>cryptopunks c token</td>\n",
              "      <td>cryptopunks</td>\n",
              "      <td>token_contract</td>\n",
              "      <td>nft</td>\n",
              "      <td>4400000000000000000</td>\n",
              "      <td>0x2d9d722a36cb5fa377366ed725d58199e11aa5da</td>\n",
              "      <td>7132</td>\n",
              "      <td>0x037e2847c769d20564502183f524f88baa06b389</td>\n",
              "    </tr>\n",
              "    <tr>\n",
              "      <th>2</th>\n",
              "      <td>2</td>\n",
              "      <td>11054057</td>\n",
              "      <td>2020-10-14T13:31:19Z</td>\n",
              "      <td>0xb47e3cd837ddf8e4c57f05d70ab865de6e193bbb</td>\n",
              "      <td>cryptopunks c token</td>\n",
              "      <td>185</td>\n",
              "      <td>PunkBought</td>\n",
              "      <td>False</td>\n",
              "      <td>0x792b37c2244ecc0bc18ad193498f17b27efae7d9</td>\n",
              "      <td>None</td>\n",
              "      <td>None</td>\n",
              "      <td>None</td>\n",
              "      <td>None</td>\n",
              "      <td>0x540f57b8f591322c51a922b63c363220e85d0280cc19...</td>\n",
              "      <td>True</td>\n",
              "      <td>0xb47e3cd837ddf8e4c57f05d70ab865de6e193bbb</td>\n",
              "      <td>cryptopunks c token</td>\n",
              "      <td>cryptopunks</td>\n",
              "      <td>token_contract</td>\n",
              "      <td>nft</td>\n",
              "      <td>-5946744073709551616</td>\n",
              "      <td>0x792b37c2244ecc0bc18ad193498f17b27efae7d9</td>\n",
              "      <td>2049</td>\n",
              "      <td>0xa3cb30128532f43fe1c8a9f4c19422aa631307a9</td>\n",
              "    </tr>\n",
              "    <tr>\n",
              "      <th>3</th>\n",
              "      <td>3</td>\n",
              "      <td>11060495</td>\n",
              "      <td>2020-10-15T12:59:51Z</td>\n",
              "      <td>0xb47e3cd837ddf8e4c57f05d70ab865de6e193bbb</td>\n",
              "      <td>cryptopunks c token</td>\n",
              "      <td>351</td>\n",
              "      <td>PunkBought</td>\n",
              "      <td>False</td>\n",
              "      <td>0xce810c1ca6390063aca6c16adc095b2f0603c4ba</td>\n",
              "      <td>None</td>\n",
              "      <td>None</td>\n",
              "      <td>None</td>\n",
              "      <td>None</td>\n",
              "      <td>0x748dfa5c2126bbf12077ee3cd3a15011db12408b298b...</td>\n",
              "      <td>True</td>\n",
              "      <td>0xb47e3cd837ddf8e4c57f05d70ab865de6e193bbb</td>\n",
              "      <td>cryptopunks c token</td>\n",
              "      <td>cryptopunks</td>\n",
              "      <td>token_contract</td>\n",
              "      <td>nft</td>\n",
              "      <td>5500000000000000000</td>\n",
              "      <td>0xce810c1ca6390063aca6c16adc095b2f0603c4ba</td>\n",
              "      <td>1234</td>\n",
              "      <td>0x0713a6c6fd18b2c7e687c4b6f5c4dd941c4c3bc0</td>\n",
              "    </tr>\n",
              "    <tr>\n",
              "      <th>4</th>\n",
              "      <td>4</td>\n",
              "      <td>11067502</td>\n",
              "      <td>2020-10-16T14:35:11Z</td>\n",
              "      <td>0xb47e3cd837ddf8e4c57f05d70ab865de6e193bbb</td>\n",
              "      <td>cryptopunks c token</td>\n",
              "      <td>29</td>\n",
              "      <td>PunkBought</td>\n",
              "      <td>False</td>\n",
              "      <td>0x2a538000a53f38d89f37fa43a301cee2c0f9e331</td>\n",
              "      <td>None</td>\n",
              "      <td>None</td>\n",
              "      <td>None</td>\n",
              "      <td>None</td>\n",
              "      <td>0x6c72243fa1dc17ddcb63df7e46c0c07b2b8bca7f5116...</td>\n",
              "      <td>True</td>\n",
              "      <td>0xb47e3cd837ddf8e4c57f05d70ab865de6e193bbb</td>\n",
              "      <td>cryptopunks c token</td>\n",
              "      <td>cryptopunks</td>\n",
              "      <td>token_contract</td>\n",
              "      <td>nft</td>\n",
              "      <td>5000000000000000000</td>\n",
              "      <td>0x2a538000a53f38d89f37fa43a301cee2c0f9e331</td>\n",
              "      <td>6931</td>\n",
              "      <td>0x927635591fd15026144604f223c2313e5909c609</td>\n",
              "    </tr>\n",
              "  </tbody>\n",
              "</table>\n",
              "</div>"
            ],
            "text/plain": [
              "   index  ...                    EVENT_INPUTS.fromAddress\n",
              "0      0  ...  0x94de7e2c73529ebf3206aa3459e699fbcdfcd49b\n",
              "1      1  ...  0x037e2847c769d20564502183f524f88baa06b389\n",
              "2      2  ...  0xa3cb30128532f43fe1c8a9f4c19422aa631307a9\n",
              "3      3  ...  0x0713a6c6fd18b2c7e687c4b6f5c4dd941c4c3bc0\n",
              "4      4  ...  0x927635591fd15026144604f223c2313e5909c609\n",
              "\n",
              "[5 rows x 24 columns]"
            ]
          },
          "metadata": {},
          "execution_count": 17
        }
      ]
    },
    {
      "cell_type": "code",
      "metadata": {
        "colab": {
          "base_uri": "https://localhost:8080/"
        },
        "id": "9_wnIm-1VRxZ",
        "outputId": "a205274a-1ae9-4343-d89f-fbf8ee430589"
      },
      "source": [
        "print('The earliest transaction date in the dataset is: ')\n",
        "print(df_flip.BLOCK_TIMESTAMP.min())\n",
        "\n",
        "print('\\n\\nThe latest transaction date in the dataset is: ')\n",
        "print(df_flip.BLOCK_TIMESTAMP.max())"
      ],
      "execution_count": null,
      "outputs": [
        {
          "output_type": "stream",
          "name": "stdout",
          "text": [
            "The earliest transaction date in the dataset is: \n",
            "2020-01-12T18:17:36Z\n",
            "\n",
            "\n",
            "The latest transaction date in the dataset is: \n",
            "2021-10-31T23:09:04Z\n"
          ]
        }
      ]
    },
    {
      "cell_type": "code",
      "metadata": {
        "colab": {
          "base_uri": "https://localhost:8080/",
          "height": 443
        },
        "id": "WAE-aqEEbXt4",
        "outputId": "097b5511-8de1-4009-9b1e-94e4cd369dc2"
      },
      "source": [
        "df_flip.describe(include='all')"
      ],
      "execution_count": null,
      "outputs": [
        {
          "output_type": "stream",
          "name": "stdout",
          "text": [
            "Warning: Total number of columns (24) exceeds max_columns (20). Falling back to pandas display.\n"
          ]
        },
        {
          "output_type": "execute_result",
          "data": {
            "text/html": [
              "<div>\n",
              "<style scoped>\n",
              "    .dataframe tbody tr th:only-of-type {\n",
              "        vertical-align: middle;\n",
              "    }\n",
              "\n",
              "    .dataframe tbody tr th {\n",
              "        vertical-align: top;\n",
              "    }\n",
              "\n",
              "    .dataframe thead th {\n",
              "        text-align: right;\n",
              "    }\n",
              "</style>\n",
              "<table border=\"1\" class=\"dataframe\">\n",
              "  <thead>\n",
              "    <tr style=\"text-align: right;\">\n",
              "      <th></th>\n",
              "      <th>index</th>\n",
              "      <th>BLOCK_ID</th>\n",
              "      <th>BLOCK_TIMESTAMP</th>\n",
              "      <th>CONTRACT_ADDRESS</th>\n",
              "      <th>CONTRACT_NAME</th>\n",
              "      <th>EVENT_INDEX</th>\n",
              "      <th>EVENT_NAME</th>\n",
              "      <th>EVENT_REMOVED</th>\n",
              "      <th>TX_FROM_ADDRESS</th>\n",
              "      <th>TX_FROM_ADDRESS_NAME</th>\n",
              "      <th>TX_FROM_LABEL</th>\n",
              "      <th>TX_FROM_LABEL_SUBTYPE</th>\n",
              "      <th>TX_FROM_LABEL_TYPE</th>\n",
              "      <th>TX_ID</th>\n",
              "      <th>TX_SUCCEEDED</th>\n",
              "      <th>TX_TO_ADDRESS</th>\n",
              "      <th>TX_TO_ADDRESS_NAME</th>\n",
              "      <th>TX_TO_LABEL</th>\n",
              "      <th>TX_TO_LABEL_SUBTYPE</th>\n",
              "      <th>TX_TO_LABEL_TYPE</th>\n",
              "      <th>EVENT_INPUTS.value</th>\n",
              "      <th>EVENT_INPUTS.toAddress</th>\n",
              "      <th>EVENT_INPUTS.punkIndex</th>\n",
              "      <th>EVENT_INPUTS.fromAddress</th>\n",
              "    </tr>\n",
              "  </thead>\n",
              "  <tbody>\n",
              "    <tr>\n",
              "      <th>count</th>\n",
              "      <td>14059.000000</td>\n",
              "      <td>1.405900e+04</td>\n",
              "      <td>14059</td>\n",
              "      <td>14059</td>\n",
              "      <td>14059</td>\n",
              "      <td>14059.000000</td>\n",
              "      <td>14059</td>\n",
              "      <td>14059</td>\n",
              "      <td>14059</td>\n",
              "      <td>7</td>\n",
              "      <td>24</td>\n",
              "      <td>24</td>\n",
              "      <td>21</td>\n",
              "      <td>14059</td>\n",
              "      <td>14059</td>\n",
              "      <td>14059</td>\n",
              "      <td>13713</td>\n",
              "      <td>13713</td>\n",
              "      <td>13713</td>\n",
              "      <td>13713</td>\n",
              "      <td>14059.0</td>\n",
              "      <td>14059</td>\n",
              "      <td>14059.0</td>\n",
              "      <td>14059</td>\n",
              "    </tr>\n",
              "    <tr>\n",
              "      <th>unique</th>\n",
              "      <td>NaN</td>\n",
              "      <td>NaN</td>\n",
              "      <td>13093</td>\n",
              "      <td>1</td>\n",
              "      <td>1</td>\n",
              "      <td>NaN</td>\n",
              "      <td>1</td>\n",
              "      <td>1</td>\n",
              "      <td>4007</td>\n",
              "      <td>5</td>\n",
              "      <td>7</td>\n",
              "      <td>2</td>\n",
              "      <td>2</td>\n",
              "      <td>13902</td>\n",
              "      <td>1</td>\n",
              "      <td>26</td>\n",
              "      <td>1</td>\n",
              "      <td>1</td>\n",
              "      <td>1</td>\n",
              "      <td>1</td>\n",
              "      <td>2349.0</td>\n",
              "      <td>3841</td>\n",
              "      <td>5233.0</td>\n",
              "      <td>2803</td>\n",
              "    </tr>\n",
              "    <tr>\n",
              "      <th>top</th>\n",
              "      <td>NaN</td>\n",
              "      <td>NaN</td>\n",
              "      <td>2021-07-30T23:16:40Z</td>\n",
              "      <td>0xb47e3cd837ddf8e4c57f05d70ab865de6e193bbb</td>\n",
              "      <td>cryptopunks c token</td>\n",
              "      <td>NaN</td>\n",
              "      <td>PunkBought</td>\n",
              "      <td>False</td>\n",
              "      <td>0xd387a6e4e84a6c86bd90c158c6028a58cc8ac459</td>\n",
              "      <td>suma</td>\n",
              "      <td>idex</td>\n",
              "      <td>general_contract</td>\n",
              "      <td>dapp</td>\n",
              "      <td>0xbdbe5f20bd1dcd5c7ab0c5d5c445aefc8fda504e44e7...</td>\n",
              "      <td>True</td>\n",
              "      <td>0xb47e3cd837ddf8e4c57f05d70ab865de6e193bbb</td>\n",
              "      <td>cryptopunks c token</td>\n",
              "      <td>cryptopunks</td>\n",
              "      <td>token_contract</td>\n",
              "      <td>nft</td>\n",
              "      <td>0.0</td>\n",
              "      <td>0x0000000000000000000000000000000000000000</td>\n",
              "      <td>6989.0</td>\n",
              "      <td>0x577ebc5de943e35cdf9ecb5bbe1f7d7cb6c7c647</td>\n",
              "    </tr>\n",
              "    <tr>\n",
              "      <th>freq</th>\n",
              "      <td>NaN</td>\n",
              "      <td>NaN</td>\n",
              "      <td>86</td>\n",
              "      <td>14059</td>\n",
              "      <td>14059</td>\n",
              "      <td>NaN</td>\n",
              "      <td>14059</td>\n",
              "      <td>14059</td>\n",
              "      <td>278</td>\n",
              "      <td>3</td>\n",
              "      <td>8</td>\n",
              "      <td>14</td>\n",
              "      <td>11</td>\n",
              "      <td>45</td>\n",
              "      <td>14059</td>\n",
              "      <td>13713</td>\n",
              "      <td>13713</td>\n",
              "      <td>13713</td>\n",
              "      <td>13713</td>\n",
              "      <td>13713</td>\n",
              "      <td>2133.0</td>\n",
              "      <td>1870</td>\n",
              "      <td>14.0</td>\n",
              "      <td>346</td>\n",
              "    </tr>\n",
              "    <tr>\n",
              "      <th>mean</th>\n",
              "      <td>7029.000000</td>\n",
              "      <td>1.214490e+07</td>\n",
              "      <td>NaN</td>\n",
              "      <td>NaN</td>\n",
              "      <td>NaN</td>\n",
              "      <td>131.264813</td>\n",
              "      <td>NaN</td>\n",
              "      <td>NaN</td>\n",
              "      <td>NaN</td>\n",
              "      <td>NaN</td>\n",
              "      <td>NaN</td>\n",
              "      <td>NaN</td>\n",
              "      <td>NaN</td>\n",
              "      <td>NaN</td>\n",
              "      <td>NaN</td>\n",
              "      <td>NaN</td>\n",
              "      <td>NaN</td>\n",
              "      <td>NaN</td>\n",
              "      <td>NaN</td>\n",
              "      <td>NaN</td>\n",
              "      <td>NaN</td>\n",
              "      <td>NaN</td>\n",
              "      <td>NaN</td>\n",
              "      <td>NaN</td>\n",
              "    </tr>\n",
              "    <tr>\n",
              "      <th>std</th>\n",
              "      <td>4058.628052</td>\n",
              "      <td>9.186679e+05</td>\n",
              "      <td>NaN</td>\n",
              "      <td>NaN</td>\n",
              "      <td>NaN</td>\n",
              "      <td>99.104258</td>\n",
              "      <td>NaN</td>\n",
              "      <td>NaN</td>\n",
              "      <td>NaN</td>\n",
              "      <td>NaN</td>\n",
              "      <td>NaN</td>\n",
              "      <td>NaN</td>\n",
              "      <td>NaN</td>\n",
              "      <td>NaN</td>\n",
              "      <td>NaN</td>\n",
              "      <td>NaN</td>\n",
              "      <td>NaN</td>\n",
              "      <td>NaN</td>\n",
              "      <td>NaN</td>\n",
              "      <td>NaN</td>\n",
              "      <td>NaN</td>\n",
              "      <td>NaN</td>\n",
              "      <td>NaN</td>\n",
              "      <td>NaN</td>\n",
              "    </tr>\n",
              "    <tr>\n",
              "      <th>min</th>\n",
              "      <td>0.000000</td>\n",
              "      <td>9.267683e+06</td>\n",
              "      <td>NaN</td>\n",
              "      <td>NaN</td>\n",
              "      <td>NaN</td>\n",
              "      <td>1.000000</td>\n",
              "      <td>NaN</td>\n",
              "      <td>NaN</td>\n",
              "      <td>NaN</td>\n",
              "      <td>NaN</td>\n",
              "      <td>NaN</td>\n",
              "      <td>NaN</td>\n",
              "      <td>NaN</td>\n",
              "      <td>NaN</td>\n",
              "      <td>NaN</td>\n",
              "      <td>NaN</td>\n",
              "      <td>NaN</td>\n",
              "      <td>NaN</td>\n",
              "      <td>NaN</td>\n",
              "      <td>NaN</td>\n",
              "      <td>NaN</td>\n",
              "      <td>NaN</td>\n",
              "      <td>NaN</td>\n",
              "      <td>NaN</td>\n",
              "    </tr>\n",
              "    <tr>\n",
              "      <th>25%</th>\n",
              "      <td>3514.500000</td>\n",
              "      <td>1.185062e+07</td>\n",
              "      <td>NaN</td>\n",
              "      <td>NaN</td>\n",
              "      <td>NaN</td>\n",
              "      <td>52.000000</td>\n",
              "      <td>NaN</td>\n",
              "      <td>NaN</td>\n",
              "      <td>NaN</td>\n",
              "      <td>NaN</td>\n",
              "      <td>NaN</td>\n",
              "      <td>NaN</td>\n",
              "      <td>NaN</td>\n",
              "      <td>NaN</td>\n",
              "      <td>NaN</td>\n",
              "      <td>NaN</td>\n",
              "      <td>NaN</td>\n",
              "      <td>NaN</td>\n",
              "      <td>NaN</td>\n",
              "      <td>NaN</td>\n",
              "      <td>NaN</td>\n",
              "      <td>NaN</td>\n",
              "      <td>NaN</td>\n",
              "      <td>NaN</td>\n",
              "    </tr>\n",
              "    <tr>\n",
              "      <th>50%</th>\n",
              "      <td>7029.000000</td>\n",
              "      <td>1.220535e+07</td>\n",
              "      <td>NaN</td>\n",
              "      <td>NaN</td>\n",
              "      <td>NaN</td>\n",
              "      <td>110.000000</td>\n",
              "      <td>NaN</td>\n",
              "      <td>NaN</td>\n",
              "      <td>NaN</td>\n",
              "      <td>NaN</td>\n",
              "      <td>NaN</td>\n",
              "      <td>NaN</td>\n",
              "      <td>NaN</td>\n",
              "      <td>NaN</td>\n",
              "      <td>NaN</td>\n",
              "      <td>NaN</td>\n",
              "      <td>NaN</td>\n",
              "      <td>NaN</td>\n",
              "      <td>NaN</td>\n",
              "      <td>NaN</td>\n",
              "      <td>NaN</td>\n",
              "      <td>NaN</td>\n",
              "      <td>NaN</td>\n",
              "      <td>NaN</td>\n",
              "    </tr>\n",
              "    <tr>\n",
              "      <th>75%</th>\n",
              "      <td>10543.500000</td>\n",
              "      <td>1.293687e+07</td>\n",
              "      <td>NaN</td>\n",
              "      <td>NaN</td>\n",
              "      <td>NaN</td>\n",
              "      <td>193.000000</td>\n",
              "      <td>NaN</td>\n",
              "      <td>NaN</td>\n",
              "      <td>NaN</td>\n",
              "      <td>NaN</td>\n",
              "      <td>NaN</td>\n",
              "      <td>NaN</td>\n",
              "      <td>NaN</td>\n",
              "      <td>NaN</td>\n",
              "      <td>NaN</td>\n",
              "      <td>NaN</td>\n",
              "      <td>NaN</td>\n",
              "      <td>NaN</td>\n",
              "      <td>NaN</td>\n",
              "      <td>NaN</td>\n",
              "      <td>NaN</td>\n",
              "      <td>NaN</td>\n",
              "      <td>NaN</td>\n",
              "      <td>NaN</td>\n",
              "    </tr>\n",
              "    <tr>\n",
              "      <th>max</th>\n",
              "      <td>14058.000000</td>\n",
              "      <td>1.352765e+07</td>\n",
              "      <td>NaN</td>\n",
              "      <td>NaN</td>\n",
              "      <td>NaN</td>\n",
              "      <td>847.000000</td>\n",
              "      <td>NaN</td>\n",
              "      <td>NaN</td>\n",
              "      <td>NaN</td>\n",
              "      <td>NaN</td>\n",
              "      <td>NaN</td>\n",
              "      <td>NaN</td>\n",
              "      <td>NaN</td>\n",
              "      <td>NaN</td>\n",
              "      <td>NaN</td>\n",
              "      <td>NaN</td>\n",
              "      <td>NaN</td>\n",
              "      <td>NaN</td>\n",
              "      <td>NaN</td>\n",
              "      <td>NaN</td>\n",
              "      <td>NaN</td>\n",
              "      <td>NaN</td>\n",
              "      <td>NaN</td>\n",
              "      <td>NaN</td>\n",
              "    </tr>\n",
              "  </tbody>\n",
              "</table>\n",
              "</div>"
            ],
            "text/plain": [
              "               index  ...                    EVENT_INPUTS.fromAddress\n",
              "count   14059.000000  ...                                       14059\n",
              "unique           NaN  ...                                        2803\n",
              "top              NaN  ...  0x577ebc5de943e35cdf9ecb5bbe1f7d7cb6c7c647\n",
              "freq             NaN  ...                                         346\n",
              "mean     7029.000000  ...                                         NaN\n",
              "std      4058.628052  ...                                         NaN\n",
              "min         0.000000  ...                                         NaN\n",
              "25%      3514.500000  ...                                         NaN\n",
              "50%      7029.000000  ...                                         NaN\n",
              "75%     10543.500000  ...                                         NaN\n",
              "max     14058.000000  ...                                         NaN\n",
              "\n",
              "[11 rows x 24 columns]"
            ]
          },
          "metadata": {},
          "execution_count": 19
        }
      ]
    },
    {
      "cell_type": "code",
      "metadata": {
        "colab": {
          "base_uri": "https://localhost:8080/"
        },
        "id": "nVlTrhMddBez",
        "outputId": "0a95e05b-0a10-4e6f-913d-80970047b593"
      },
      "source": [
        "df_flip.columns"
      ],
      "execution_count": null,
      "outputs": [
        {
          "output_type": "execute_result",
          "data": {
            "text/plain": [
              "Index(['index', 'BLOCK_ID', 'BLOCK_TIMESTAMP', 'CONTRACT_ADDRESS',\n",
              "       'CONTRACT_NAME', 'EVENT_INDEX', 'EVENT_NAME', 'EVENT_REMOVED',\n",
              "       'TX_FROM_ADDRESS', 'TX_FROM_ADDRESS_NAME', 'TX_FROM_LABEL',\n",
              "       'TX_FROM_LABEL_SUBTYPE', 'TX_FROM_LABEL_TYPE', 'TX_ID', 'TX_SUCCEEDED',\n",
              "       'TX_TO_ADDRESS', 'TX_TO_ADDRESS_NAME', 'TX_TO_LABEL',\n",
              "       'TX_TO_LABEL_SUBTYPE', 'TX_TO_LABEL_TYPE', 'EVENT_INPUTS.value',\n",
              "       'EVENT_INPUTS.toAddress', 'EVENT_INPUTS.punkIndex',\n",
              "       'EVENT_INPUTS.fromAddress'],\n",
              "      dtype='object')"
            ]
          },
          "metadata": {},
          "execution_count": 20
        }
      ]
    },
    {
      "cell_type": "markdown",
      "metadata": {
        "id": "kyWKmLUHSdle"
      },
      "source": [
        "### Initial thoughts from this dataset:\n",
        "1. The csv was much more nicely formatted. As is generally the case, raw data is messy, noisy, and likely needs quite a bit of work before it is understandable and/or useful.\n",
        "\n",
        "2. This dataset starts on 1/12/2020, overlapping our csv dataset by almost a year. This dataset ends on 10/22/2021.\n",
        "\n",
        "3. Right from the start, I can see several columns we won't need - as mentioned in Part 1, the contract address refers to the original address of the CryptoPunks contract, so it will be the same value for every column, so we can drop it. Same with the \"PunkBought\" event_name. Since we filtered for that, all values in that column will be the same. There are several other columns that only have a single \"unique\" value as shown in the .describe() results, so next steps will include dropping those columns.\n",
        "\n",
        "4. The To and From addresses in this dataset contain the entire hexadecimal string instead of just the first 8 characters. It does not include any named accounts, so we will need to reconcile named accounts with hex strings if we plan to join the csv dataset with this one.\n",
        "\n",
        "5. The EVENT_INPUTS.value field looks like our cryptocurrency amount for the transaction - but why is it so high? Because it shows the transaction amount in wei (see here for more info: https://www.investopedia.com/terms/w/wei.asp) which we will convert to Ether by dividing by 1e18.\n",
        "\n",
        "6. A few key differences from our csv dataset - we don't have the USD conversion in this dataset, so we will need to add that in ourselves. We also don't have any of the Punks attributes listed."
      ]
    },
    {
      "cell_type": "markdown",
      "metadata": {
        "id": "PVhJvETPe2yv"
      },
      "source": [
        "### Before going any further, the negative values in the EVENT_INPUTS.value column should be addressed - I will modify this notebook as the problem is fixed!"
      ]
    },
    {
      "cell_type": "code",
      "metadata": {
        "id": "Yxm9XjxvEZp-"
      },
      "source": [
        ""
      ],
      "execution_count": null,
      "outputs": []
    }
  ]
}